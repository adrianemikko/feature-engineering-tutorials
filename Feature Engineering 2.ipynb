{
 "cells": [
  {
   "cell_type": "markdown",
   "metadata": {},
   "source": [
    "# Python Learning Sessions: Feature Engineering"
   ]
  },
  {
   "cell_type": "markdown",
   "metadata": {},
   "source": [
    "![feature_selection](resources\\sklearn.feature_selection.png)"
   ]
  },
  {
   "cell_type": "markdown",
   "metadata": {},
   "source": [
    "## Feature Selection\n",
    "Unlike deep learning, with machine learnning models, usually we want to select the features that are most important to the model.\n",
    "Including all features may cause your model to **overfit** the data and make it unable to generalize to new data. It can also **slow** down the training process, and possibly improve the model's score (Post, 2016)"
   ]
  },
  {
   "cell_type": "code",
   "execution_count": 63,
   "metadata": {},
   "outputs": [],
   "source": [
    "import pandas as pd\n",
    "import numpy as np\n",
    "from matplotlib import pyplot as plt\n",
    "from sklearn import set_config\n",
    "\n",
    "set_config(display=\"diagram\")"
   ]
  },
  {
   "cell_type": "code",
   "execution_count": 2,
   "metadata": {},
   "outputs": [
    {
     "data": {
      "text/html": [
       "<div>\n",
       "<style scoped>\n",
       "    .dataframe tbody tr th:only-of-type {\n",
       "        vertical-align: middle;\n",
       "    }\n",
       "\n",
       "    .dataframe tbody tr th {\n",
       "        vertical-align: top;\n",
       "    }\n",
       "\n",
       "    .dataframe thead th {\n",
       "        text-align: right;\n",
       "    }\n",
       "</style>\n",
       "<table border=\"1\" class=\"dataframe\">\n",
       "  <thead>\n",
       "    <tr style=\"text-align: right;\">\n",
       "      <th></th>\n",
       "      <th>pickup</th>\n",
       "      <th>dropoff</th>\n",
       "      <th>passengers</th>\n",
       "      <th>distance</th>\n",
       "      <th>fare</th>\n",
       "      <th>tip</th>\n",
       "      <th>tolls</th>\n",
       "      <th>total</th>\n",
       "      <th>color</th>\n",
       "      <th>payment</th>\n",
       "      <th>pickup_zone</th>\n",
       "      <th>dropoff_zone</th>\n",
       "      <th>pickup_borough</th>\n",
       "      <th>dropoff_borough</th>\n",
       "    </tr>\n",
       "  </thead>\n",
       "  <tbody>\n",
       "    <tr>\n",
       "      <th>0</th>\n",
       "      <td>2019-03-23 20:21:09</td>\n",
       "      <td>2019-03-23 20:27:24</td>\n",
       "      <td>1</td>\n",
       "      <td>1.60</td>\n",
       "      <td>7.0</td>\n",
       "      <td>2.15</td>\n",
       "      <td>0.0</td>\n",
       "      <td>12.95</td>\n",
       "      <td>yellow</td>\n",
       "      <td>credit card</td>\n",
       "      <td>Lenox Hill West</td>\n",
       "      <td>UN/Turtle Bay South</td>\n",
       "      <td>Manhattan</td>\n",
       "      <td>Manhattan</td>\n",
       "    </tr>\n",
       "    <tr>\n",
       "      <th>1</th>\n",
       "      <td>2019-03-04 16:11:55</td>\n",
       "      <td>2019-03-04 16:19:00</td>\n",
       "      <td>1</td>\n",
       "      <td>0.79</td>\n",
       "      <td>5.0</td>\n",
       "      <td>0.00</td>\n",
       "      <td>0.0</td>\n",
       "      <td>9.30</td>\n",
       "      <td>yellow</td>\n",
       "      <td>cash</td>\n",
       "      <td>Upper West Side South</td>\n",
       "      <td>Upper West Side South</td>\n",
       "      <td>Manhattan</td>\n",
       "      <td>Manhattan</td>\n",
       "    </tr>\n",
       "    <tr>\n",
       "      <th>2</th>\n",
       "      <td>2019-03-27 17:53:01</td>\n",
       "      <td>2019-03-27 18:00:25</td>\n",
       "      <td>1</td>\n",
       "      <td>1.37</td>\n",
       "      <td>7.5</td>\n",
       "      <td>2.36</td>\n",
       "      <td>0.0</td>\n",
       "      <td>14.16</td>\n",
       "      <td>yellow</td>\n",
       "      <td>credit card</td>\n",
       "      <td>Alphabet City</td>\n",
       "      <td>West Village</td>\n",
       "      <td>Manhattan</td>\n",
       "      <td>Manhattan</td>\n",
       "    </tr>\n",
       "    <tr>\n",
       "      <th>3</th>\n",
       "      <td>2019-03-10 01:23:59</td>\n",
       "      <td>2019-03-10 01:49:51</td>\n",
       "      <td>1</td>\n",
       "      <td>7.70</td>\n",
       "      <td>27.0</td>\n",
       "      <td>6.15</td>\n",
       "      <td>0.0</td>\n",
       "      <td>36.95</td>\n",
       "      <td>yellow</td>\n",
       "      <td>credit card</td>\n",
       "      <td>Hudson Sq</td>\n",
       "      <td>Yorkville West</td>\n",
       "      <td>Manhattan</td>\n",
       "      <td>Manhattan</td>\n",
       "    </tr>\n",
       "    <tr>\n",
       "      <th>4</th>\n",
       "      <td>2019-03-30 13:27:42</td>\n",
       "      <td>2019-03-30 13:37:14</td>\n",
       "      <td>3</td>\n",
       "      <td>2.16</td>\n",
       "      <td>9.0</td>\n",
       "      <td>1.10</td>\n",
       "      <td>0.0</td>\n",
       "      <td>13.40</td>\n",
       "      <td>yellow</td>\n",
       "      <td>credit card</td>\n",
       "      <td>Midtown East</td>\n",
       "      <td>Yorkville West</td>\n",
       "      <td>Manhattan</td>\n",
       "      <td>Manhattan</td>\n",
       "    </tr>\n",
       "    <tr>\n",
       "      <th>...</th>\n",
       "      <td>...</td>\n",
       "      <td>...</td>\n",
       "      <td>...</td>\n",
       "      <td>...</td>\n",
       "      <td>...</td>\n",
       "      <td>...</td>\n",
       "      <td>...</td>\n",
       "      <td>...</td>\n",
       "      <td>...</td>\n",
       "      <td>...</td>\n",
       "      <td>...</td>\n",
       "      <td>...</td>\n",
       "      <td>...</td>\n",
       "      <td>...</td>\n",
       "    </tr>\n",
       "    <tr>\n",
       "      <th>6428</th>\n",
       "      <td>2019-03-31 09:51:53</td>\n",
       "      <td>2019-03-31 09:55:27</td>\n",
       "      <td>1</td>\n",
       "      <td>0.75</td>\n",
       "      <td>4.5</td>\n",
       "      <td>1.06</td>\n",
       "      <td>0.0</td>\n",
       "      <td>6.36</td>\n",
       "      <td>green</td>\n",
       "      <td>credit card</td>\n",
       "      <td>East Harlem North</td>\n",
       "      <td>Central Harlem North</td>\n",
       "      <td>Manhattan</td>\n",
       "      <td>Manhattan</td>\n",
       "    </tr>\n",
       "    <tr>\n",
       "      <th>6429</th>\n",
       "      <td>2019-03-31 17:38:00</td>\n",
       "      <td>2019-03-31 18:34:23</td>\n",
       "      <td>1</td>\n",
       "      <td>18.74</td>\n",
       "      <td>58.0</td>\n",
       "      <td>0.00</td>\n",
       "      <td>0.0</td>\n",
       "      <td>58.80</td>\n",
       "      <td>green</td>\n",
       "      <td>credit card</td>\n",
       "      <td>Jamaica</td>\n",
       "      <td>East Concourse/Concourse Village</td>\n",
       "      <td>Queens</td>\n",
       "      <td>Bronx</td>\n",
       "    </tr>\n",
       "    <tr>\n",
       "      <th>6430</th>\n",
       "      <td>2019-03-23 22:55:18</td>\n",
       "      <td>2019-03-23 23:14:25</td>\n",
       "      <td>1</td>\n",
       "      <td>4.14</td>\n",
       "      <td>16.0</td>\n",
       "      <td>0.00</td>\n",
       "      <td>0.0</td>\n",
       "      <td>17.30</td>\n",
       "      <td>green</td>\n",
       "      <td>cash</td>\n",
       "      <td>Crown Heights North</td>\n",
       "      <td>Bushwick North</td>\n",
       "      <td>Brooklyn</td>\n",
       "      <td>Brooklyn</td>\n",
       "    </tr>\n",
       "    <tr>\n",
       "      <th>6431</th>\n",
       "      <td>2019-03-04 10:09:25</td>\n",
       "      <td>2019-03-04 10:14:29</td>\n",
       "      <td>1</td>\n",
       "      <td>1.12</td>\n",
       "      <td>6.0</td>\n",
       "      <td>0.00</td>\n",
       "      <td>0.0</td>\n",
       "      <td>6.80</td>\n",
       "      <td>green</td>\n",
       "      <td>credit card</td>\n",
       "      <td>East New York</td>\n",
       "      <td>East Flatbush/Remsen Village</td>\n",
       "      <td>Brooklyn</td>\n",
       "      <td>Brooklyn</td>\n",
       "    </tr>\n",
       "    <tr>\n",
       "      <th>6432</th>\n",
       "      <td>2019-03-13 19:31:22</td>\n",
       "      <td>2019-03-13 19:48:02</td>\n",
       "      <td>1</td>\n",
       "      <td>3.85</td>\n",
       "      <td>15.0</td>\n",
       "      <td>3.36</td>\n",
       "      <td>0.0</td>\n",
       "      <td>20.16</td>\n",
       "      <td>green</td>\n",
       "      <td>credit card</td>\n",
       "      <td>Boerum Hill</td>\n",
       "      <td>Windsor Terrace</td>\n",
       "      <td>Brooklyn</td>\n",
       "      <td>Brooklyn</td>\n",
       "    </tr>\n",
       "  </tbody>\n",
       "</table>\n",
       "<p>6433 rows × 14 columns</p>\n",
       "</div>"
      ],
      "text/plain": [
       "                  pickup             dropoff  passengers  distance  fare  \\\n",
       "0    2019-03-23 20:21:09 2019-03-23 20:27:24           1      1.60   7.0   \n",
       "1    2019-03-04 16:11:55 2019-03-04 16:19:00           1      0.79   5.0   \n",
       "2    2019-03-27 17:53:01 2019-03-27 18:00:25           1      1.37   7.5   \n",
       "3    2019-03-10 01:23:59 2019-03-10 01:49:51           1      7.70  27.0   \n",
       "4    2019-03-30 13:27:42 2019-03-30 13:37:14           3      2.16   9.0   \n",
       "...                  ...                 ...         ...       ...   ...   \n",
       "6428 2019-03-31 09:51:53 2019-03-31 09:55:27           1      0.75   4.5   \n",
       "6429 2019-03-31 17:38:00 2019-03-31 18:34:23           1     18.74  58.0   \n",
       "6430 2019-03-23 22:55:18 2019-03-23 23:14:25           1      4.14  16.0   \n",
       "6431 2019-03-04 10:09:25 2019-03-04 10:14:29           1      1.12   6.0   \n",
       "6432 2019-03-13 19:31:22 2019-03-13 19:48:02           1      3.85  15.0   \n",
       "\n",
       "       tip  tolls  total   color      payment            pickup_zone  \\\n",
       "0     2.15    0.0  12.95  yellow  credit card        Lenox Hill West   \n",
       "1     0.00    0.0   9.30  yellow         cash  Upper West Side South   \n",
       "2     2.36    0.0  14.16  yellow  credit card          Alphabet City   \n",
       "3     6.15    0.0  36.95  yellow  credit card              Hudson Sq   \n",
       "4     1.10    0.0  13.40  yellow  credit card           Midtown East   \n",
       "...    ...    ...    ...     ...          ...                    ...   \n",
       "6428  1.06    0.0   6.36   green  credit card      East Harlem North   \n",
       "6429  0.00    0.0  58.80   green  credit card                Jamaica   \n",
       "6430  0.00    0.0  17.30   green         cash    Crown Heights North   \n",
       "6431  0.00    0.0   6.80   green  credit card          East New York   \n",
       "6432  3.36    0.0  20.16   green  credit card            Boerum Hill   \n",
       "\n",
       "                          dropoff_zone pickup_borough dropoff_borough  \n",
       "0                  UN/Turtle Bay South      Manhattan       Manhattan  \n",
       "1                Upper West Side South      Manhattan       Manhattan  \n",
       "2                         West Village      Manhattan       Manhattan  \n",
       "3                       Yorkville West      Manhattan       Manhattan  \n",
       "4                       Yorkville West      Manhattan       Manhattan  \n",
       "...                                ...            ...             ...  \n",
       "6428              Central Harlem North      Manhattan       Manhattan  \n",
       "6429  East Concourse/Concourse Village         Queens           Bronx  \n",
       "6430                    Bushwick North       Brooklyn        Brooklyn  \n",
       "6431      East Flatbush/Remsen Village       Brooklyn        Brooklyn  \n",
       "6432                   Windsor Terrace       Brooklyn        Brooklyn  \n",
       "\n",
       "[6433 rows x 14 columns]"
      ]
     },
     "execution_count": 2,
     "metadata": {},
     "output_type": "execute_result"
    }
   ],
   "source": [
    "link = 'https://raw.githubusercontent.com/mwaskom/seaborn-data/master/taxis.csv'\n",
    "df = pd.read_csv(link, parse_dates=[0, 1])\n",
    "df"
   ]
  },
  {
   "cell_type": "markdown",
   "metadata": {},
   "source": [
    "### Removing features with low variance"
   ]
  },
  {
   "cell_type": "markdown",
   "metadata": {},
   "source": [
    "#### VarianceThreshold\n",
    "Variance Threshold is a feature selection technique that removes features with low variance.\n",
    "This can be used to remove features that have little or no impact on the target.\n",
    "It can also help remove quasi-constant features."
   ]
  },
  {
   "cell_type": "code",
   "execution_count": 3,
   "metadata": {},
   "outputs": [],
   "source": [
    "from sklearn.feature_selection import VarianceThreshold\n",
    "from sklearn.preprocessing import OrdinalEncoder, FunctionTransformer\n",
    "from sklearn.pipeline import Pipeline\n",
    "from sklearn.compose import ColumnTransformer, make_column_selector"
   ]
  },
  {
   "cell_type": "code",
   "execution_count": 4,
   "metadata": {},
   "outputs": [
    {
     "name": "stdout",
     "output_type": "stream",
     "text": [
      "<class 'pandas.core.frame.DataFrame'>\n",
      "RangeIndex: 6433 entries, 0 to 6432\n",
      "Data columns (total 14 columns):\n",
      " #   Column           Non-Null Count  Dtype         \n",
      "---  ------           --------------  -----         \n",
      " 0   pickup           6433 non-null   datetime64[ns]\n",
      " 1   dropoff          6433 non-null   datetime64[ns]\n",
      " 2   passengers       6433 non-null   int64         \n",
      " 3   distance         6433 non-null   float64       \n",
      " 4   fare             6433 non-null   float64       \n",
      " 5   tip              6433 non-null   float64       \n",
      " 6   tolls            6433 non-null   float64       \n",
      " 7   total            6433 non-null   float64       \n",
      " 8   color            6433 non-null   object        \n",
      " 9   payment          6389 non-null   object        \n",
      " 10  pickup_zone      6407 non-null   object        \n",
      " 11  dropoff_zone     6388 non-null   object        \n",
      " 12  pickup_borough   6407 non-null   object        \n",
      " 13  dropoff_borough  6388 non-null   object        \n",
      "dtypes: datetime64[ns](2), float64(5), int64(1), object(6)\n",
      "memory usage: 703.7+ KB\n"
     ]
    }
   ],
   "source": [
    "df.info()"
   ]
  },
  {
   "cell_type": "code",
   "execution_count": 5,
   "metadata": {},
   "outputs": [],
   "source": [
    "def convert_text_cols_to_categorical(df):\n",
    "    cols = df.select_dtypes(include=['object']).columns\n",
    "    return df.astype({col: 'category' for col in cols})"
   ]
  },
  {
   "cell_type": "code",
   "execution_count": 6,
   "metadata": {},
   "outputs": [
    {
     "name": "stdout",
     "output_type": "stream",
     "text": [
      "<class 'pandas.core.frame.DataFrame'>\n",
      "RangeIndex: 6433 entries, 0 to 6432\n",
      "Data columns (total 14 columns):\n",
      " #   Column           Non-Null Count  Dtype         \n",
      "---  ------           --------------  -----         \n",
      " 0   pickup           6433 non-null   datetime64[ns]\n",
      " 1   dropoff          6433 non-null   datetime64[ns]\n",
      " 2   passengers       6433 non-null   int64         \n",
      " 3   distance         6433 non-null   float64       \n",
      " 4   fare             6433 non-null   float64       \n",
      " 5   tip              6433 non-null   float64       \n",
      " 6   tolls            6433 non-null   float64       \n",
      " 7   total            6433 non-null   float64       \n",
      " 8   color            6433 non-null   category      \n",
      " 9   payment          6389 non-null   category      \n",
      " 10  pickup_zone      6407 non-null   category      \n",
      " 11  dropoff_zone     6388 non-null   category      \n",
      " 12  pickup_borough   6407 non-null   category      \n",
      " 13  dropoff_borough  6388 non-null   category      \n",
      "dtypes: category(6), datetime64[ns](2), float64(5), int64(1)\n",
      "memory usage: 468.4 KB\n"
     ]
    }
   ],
   "source": [
    "df.pipe(convert_text_cols_to_categorical).info()"
   ]
  },
  {
   "cell_type": "code",
   "execution_count": 7,
   "metadata": {},
   "outputs": [
    {
     "name": "stdout",
     "output_type": "stream",
     "text": [
      "<class 'pandas.core.frame.DataFrame'>\n",
      "Int64Index: 982 entries, 5451 to 6432\n",
      "Data columns (total 14 columns):\n",
      " #   Column           Non-Null Count  Dtype         \n",
      "---  ------           --------------  -----         \n",
      " 0   pickup           982 non-null    datetime64[ns]\n",
      " 1   dropoff          982 non-null    datetime64[ns]\n",
      " 2   passengers       982 non-null    int64         \n",
      " 3   distance         982 non-null    float64       \n",
      " 4   fare             982 non-null    float64       \n",
      " 5   tip              982 non-null    float64       \n",
      " 6   tolls            982 non-null    float64       \n",
      " 7   total            982 non-null    float64       \n",
      " 8   color            982 non-null    category      \n",
      " 9   payment          977 non-null    category      \n",
      " 10  pickup_zone      978 non-null    category      \n",
      " 11  dropoff_zone     973 non-null    category      \n",
      " 12  pickup_borough   978 non-null    category      \n",
      " 13  dropoff_borough  973 non-null    category      \n",
      "dtypes: category(6), datetime64[ns](2), float64(5), int64(1)\n",
      "memory usage: 88.0 KB\n"
     ]
    }
   ],
   "source": [
    "X = df\\\n",
    "    .loc[lambda x: x.color == 'green']\\\n",
    "    .pipe(convert_text_cols_to_categorical)\n",
    "X.info()"
   ]
  },
  {
   "cell_type": "code",
   "execution_count": 96,
   "metadata": {},
   "outputs": [
    {
     "data": {
      "text/html": [
       "<style>#sk-d20965e7-16b9-4ace-9a81-cf59dcd20f59 {color: black;background-color: white;}#sk-d20965e7-16b9-4ace-9a81-cf59dcd20f59 pre{padding: 0;}#sk-d20965e7-16b9-4ace-9a81-cf59dcd20f59 div.sk-toggleable {background-color: white;}#sk-d20965e7-16b9-4ace-9a81-cf59dcd20f59 label.sk-toggleable__label {cursor: pointer;display: block;width: 100%;margin-bottom: 0;padding: 0.3em;box-sizing: border-box;text-align: center;}#sk-d20965e7-16b9-4ace-9a81-cf59dcd20f59 label.sk-toggleable__label-arrow:before {content: \"▸\";float: left;margin-right: 0.25em;color: #696969;}#sk-d20965e7-16b9-4ace-9a81-cf59dcd20f59 label.sk-toggleable__label-arrow:hover:before {color: black;}#sk-d20965e7-16b9-4ace-9a81-cf59dcd20f59 div.sk-estimator:hover label.sk-toggleable__label-arrow:before {color: black;}#sk-d20965e7-16b9-4ace-9a81-cf59dcd20f59 div.sk-toggleable__content {max-height: 0;max-width: 0;overflow: hidden;text-align: left;background-color: #f0f8ff;}#sk-d20965e7-16b9-4ace-9a81-cf59dcd20f59 div.sk-toggleable__content pre {margin: 0.2em;color: black;border-radius: 0.25em;background-color: #f0f8ff;}#sk-d20965e7-16b9-4ace-9a81-cf59dcd20f59 input.sk-toggleable__control:checked~div.sk-toggleable__content {max-height: 200px;max-width: 100%;overflow: auto;}#sk-d20965e7-16b9-4ace-9a81-cf59dcd20f59 input.sk-toggleable__control:checked~label.sk-toggleable__label-arrow:before {content: \"▾\";}#sk-d20965e7-16b9-4ace-9a81-cf59dcd20f59 div.sk-estimator input.sk-toggleable__control:checked~label.sk-toggleable__label {background-color: #d4ebff;}#sk-d20965e7-16b9-4ace-9a81-cf59dcd20f59 div.sk-label input.sk-toggleable__control:checked~label.sk-toggleable__label {background-color: #d4ebff;}#sk-d20965e7-16b9-4ace-9a81-cf59dcd20f59 input.sk-hidden--visually {border: 0;clip: rect(1px 1px 1px 1px);clip: rect(1px, 1px, 1px, 1px);height: 1px;margin: -1px;overflow: hidden;padding: 0;position: absolute;width: 1px;}#sk-d20965e7-16b9-4ace-9a81-cf59dcd20f59 div.sk-estimator {font-family: monospace;background-color: #f0f8ff;border: 1px dotted black;border-radius: 0.25em;box-sizing: border-box;margin-bottom: 0.5em;}#sk-d20965e7-16b9-4ace-9a81-cf59dcd20f59 div.sk-estimator:hover {background-color: #d4ebff;}#sk-d20965e7-16b9-4ace-9a81-cf59dcd20f59 div.sk-parallel-item::after {content: \"\";width: 100%;border-bottom: 1px solid gray;flex-grow: 1;}#sk-d20965e7-16b9-4ace-9a81-cf59dcd20f59 div.sk-label:hover label.sk-toggleable__label {background-color: #d4ebff;}#sk-d20965e7-16b9-4ace-9a81-cf59dcd20f59 div.sk-serial::before {content: \"\";position: absolute;border-left: 1px solid gray;box-sizing: border-box;top: 2em;bottom: 0;left: 50%;}#sk-d20965e7-16b9-4ace-9a81-cf59dcd20f59 div.sk-serial {display: flex;flex-direction: column;align-items: center;background-color: white;padding-right: 0.2em;padding-left: 0.2em;}#sk-d20965e7-16b9-4ace-9a81-cf59dcd20f59 div.sk-item {z-index: 1;}#sk-d20965e7-16b9-4ace-9a81-cf59dcd20f59 div.sk-parallel {display: flex;align-items: stretch;justify-content: center;background-color: white;}#sk-d20965e7-16b9-4ace-9a81-cf59dcd20f59 div.sk-parallel::before {content: \"\";position: absolute;border-left: 1px solid gray;box-sizing: border-box;top: 2em;bottom: 0;left: 50%;}#sk-d20965e7-16b9-4ace-9a81-cf59dcd20f59 div.sk-parallel-item {display: flex;flex-direction: column;position: relative;background-color: white;}#sk-d20965e7-16b9-4ace-9a81-cf59dcd20f59 div.sk-parallel-item:first-child::after {align-self: flex-end;width: 50%;}#sk-d20965e7-16b9-4ace-9a81-cf59dcd20f59 div.sk-parallel-item:last-child::after {align-self: flex-start;width: 50%;}#sk-d20965e7-16b9-4ace-9a81-cf59dcd20f59 div.sk-parallel-item:only-child::after {width: 0;}#sk-d20965e7-16b9-4ace-9a81-cf59dcd20f59 div.sk-dashed-wrapped {border: 1px dashed gray;margin: 0 0.4em 0.5em 0.4em;box-sizing: border-box;padding-bottom: 0.4em;background-color: white;position: relative;}#sk-d20965e7-16b9-4ace-9a81-cf59dcd20f59 div.sk-label label {font-family: monospace;font-weight: bold;background-color: white;display: inline-block;line-height: 1.2em;}#sk-d20965e7-16b9-4ace-9a81-cf59dcd20f59 div.sk-label-container {position: relative;z-index: 2;text-align: center;}#sk-d20965e7-16b9-4ace-9a81-cf59dcd20f59 div.sk-container {/* jupyter's `normalize.less` sets `[hidden] { display: none; }` but bootstrap.min.css set `[hidden] { display: none !important; }` so we also need the `!important` here to be able to override the default hidden behavior on the sphinx rendered scikit-learn.org. See: https://github.com/scikit-learn/scikit-learn/issues/21755 */display: inline-block !important;position: relative;}#sk-d20965e7-16b9-4ace-9a81-cf59dcd20f59 div.sk-text-repr-fallback {display: none;}</style><div id=\"sk-d20965e7-16b9-4ace-9a81-cf59dcd20f59\" class=\"sk-top-container\"><div class=\"sk-text-repr-fallback\"><pre>ColumnTransformer(remainder=&#x27;passthrough&#x27;,\n",
       "                  transformers=[(&#x27;date&#x27;, &#x27;drop&#x27;,\n",
       "                                 &lt;sklearn.compose._column_transformer.make_column_selector object at 0x000001AA6F08E4F0&gt;),\n",
       "                                (&#x27;categorical&#x27;, OrdinalEncoder(),\n",
       "                                 &lt;sklearn.compose._column_transformer.make_column_selector object at 0x000001AA6F08E2B0&gt;)])</pre><b>Please rerun this cell to show the HTML repr or trust the notebook.</b></div><div class=\"sk-container\" hidden><div class=\"sk-item sk-dashed-wrapped\"><div class=\"sk-label-container\"><div class=\"sk-label sk-toggleable\"><input class=\"sk-toggleable__control sk-hidden--visually\" id=\"92dc2a33-f52b-40f1-b030-266a36648f6b\" type=\"checkbox\" ><label for=\"92dc2a33-f52b-40f1-b030-266a36648f6b\" class=\"sk-toggleable__label sk-toggleable__label-arrow\">ColumnTransformer</label><div class=\"sk-toggleable__content\"><pre>ColumnTransformer(remainder=&#x27;passthrough&#x27;,\n",
       "                  transformers=[(&#x27;date&#x27;, &#x27;drop&#x27;,\n",
       "                                 &lt;sklearn.compose._column_transformer.make_column_selector object at 0x000001AA6F08E4F0&gt;),\n",
       "                                (&#x27;categorical&#x27;, OrdinalEncoder(),\n",
       "                                 &lt;sklearn.compose._column_transformer.make_column_selector object at 0x000001AA6F08E2B0&gt;)])</pre></div></div></div><div class=\"sk-parallel\"><div class=\"sk-parallel-item\"><div class=\"sk-item\"><div class=\"sk-label-container\"><div class=\"sk-label sk-toggleable\"><input class=\"sk-toggleable__control sk-hidden--visually\" id=\"9ce88213-3830-4724-8c6a-7bd0f4f7def3\" type=\"checkbox\" ><label for=\"9ce88213-3830-4724-8c6a-7bd0f4f7def3\" class=\"sk-toggleable__label sk-toggleable__label-arrow\">date</label><div class=\"sk-toggleable__content\"><pre>&lt;sklearn.compose._column_transformer.make_column_selector object at 0x000001AA6F08E4F0&gt;</pre></div></div></div><div class=\"sk-serial\"><div class=\"sk-item\"><div class=\"sk-estimator sk-toggleable\"><input class=\"sk-toggleable__control sk-hidden--visually\" id=\"307a0f36-8ad8-41fd-adbe-2c0aeb14d804\" type=\"checkbox\" ><label for=\"307a0f36-8ad8-41fd-adbe-2c0aeb14d804\" class=\"sk-toggleable__label sk-toggleable__label-arrow\">drop</label><div class=\"sk-toggleable__content\"><pre>drop</pre></div></div></div></div></div></div><div class=\"sk-parallel-item\"><div class=\"sk-item\"><div class=\"sk-label-container\"><div class=\"sk-label sk-toggleable\"><input class=\"sk-toggleable__control sk-hidden--visually\" id=\"af8d8020-c2d1-4ca5-ba3a-cf8b1b48a1a1\" type=\"checkbox\" ><label for=\"af8d8020-c2d1-4ca5-ba3a-cf8b1b48a1a1\" class=\"sk-toggleable__label sk-toggleable__label-arrow\">categorical</label><div class=\"sk-toggleable__content\"><pre>&lt;sklearn.compose._column_transformer.make_column_selector object at 0x000001AA6F08E2B0&gt;</pre></div></div></div><div class=\"sk-serial\"><div class=\"sk-item\"><div class=\"sk-estimator sk-toggleable\"><input class=\"sk-toggleable__control sk-hidden--visually\" id=\"59f2e891-6a1e-40f0-9ead-73b67c93adf1\" type=\"checkbox\" ><label for=\"59f2e891-6a1e-40f0-9ead-73b67c93adf1\" class=\"sk-toggleable__label sk-toggleable__label-arrow\">OrdinalEncoder</label><div class=\"sk-toggleable__content\"><pre>OrdinalEncoder()</pre></div></div></div></div></div></div><div class=\"sk-parallel-item\"><div class=\"sk-item\"><div class=\"sk-label-container\"><div class=\"sk-label sk-toggleable\"><input class=\"sk-toggleable__control sk-hidden--visually\" id=\"fe7f2d0e-b1a1-4412-80c4-b7464a6c7169\" type=\"checkbox\" ><label for=\"fe7f2d0e-b1a1-4412-80c4-b7464a6c7169\" class=\"sk-toggleable__label sk-toggleable__label-arrow\">remainder</label><div class=\"sk-toggleable__content\"><pre></pre></div></div></div><div class=\"sk-serial\"><div class=\"sk-item\"><div class=\"sk-estimator sk-toggleable\"><input class=\"sk-toggleable__control sk-hidden--visually\" id=\"4fc26556-2a32-40a5-bb7f-0354c1c9ec11\" type=\"checkbox\" ><label for=\"4fc26556-2a32-40a5-bb7f-0354c1c9ec11\" class=\"sk-toggleable__label sk-toggleable__label-arrow\">passthrough</label><div class=\"sk-toggleable__content\"><pre>passthrough</pre></div></div></div></div></div></div></div></div></div></div>"
      ],
      "text/plain": [
       "ColumnTransformer(remainder='passthrough',\n",
       "                  transformers=[('date', 'drop',\n",
       "                                 <sklearn.compose._column_transformer.make_column_selector object at 0x000001AA6F08E4F0>),\n",
       "                                ('categorical', OrdinalEncoder(),\n",
       "                                 <sklearn.compose._column_transformer.make_column_selector object at 0x000001AA6F08E2B0>)])"
      ]
     },
     "execution_count": 96,
     "metadata": {},
     "output_type": "execute_result"
    }
   ],
   "source": [
    "preproc = ColumnTransformer(\n",
    "    transformers=[\n",
    "        ('date', 'drop', make_column_selector(dtype_include=['datetime64[ns]'])),\n",
    "        ('categorical', OrdinalEncoder() , make_column_selector(dtype_include=['category']))\n",
    "    ],\n",
    "    remainder='passthrough',\n",
    ")\n",
    "preproc"
   ]
  },
  {
   "cell_type": "code",
   "execution_count": 9,
   "metadata": {},
   "outputs": [],
   "source": [
    "def drop_na(df):\n",
    "    return df.dropna()"
   ]
  },
  {
   "cell_type": "code",
   "execution_count": 10,
   "metadata": {},
   "outputs": [
    {
     "data": {
      "text/html": [
       "<style>#sk-a555a249-ddbb-486b-b388-f425b827b193 {color: black;background-color: white;}#sk-a555a249-ddbb-486b-b388-f425b827b193 pre{padding: 0;}#sk-a555a249-ddbb-486b-b388-f425b827b193 div.sk-toggleable {background-color: white;}#sk-a555a249-ddbb-486b-b388-f425b827b193 label.sk-toggleable__label {cursor: pointer;display: block;width: 100%;margin-bottom: 0;padding: 0.3em;box-sizing: border-box;text-align: center;}#sk-a555a249-ddbb-486b-b388-f425b827b193 label.sk-toggleable__label-arrow:before {content: \"▸\";float: left;margin-right: 0.25em;color: #696969;}#sk-a555a249-ddbb-486b-b388-f425b827b193 label.sk-toggleable__label-arrow:hover:before {color: black;}#sk-a555a249-ddbb-486b-b388-f425b827b193 div.sk-estimator:hover label.sk-toggleable__label-arrow:before {color: black;}#sk-a555a249-ddbb-486b-b388-f425b827b193 div.sk-toggleable__content {max-height: 0;max-width: 0;overflow: hidden;text-align: left;background-color: #f0f8ff;}#sk-a555a249-ddbb-486b-b388-f425b827b193 div.sk-toggleable__content pre {margin: 0.2em;color: black;border-radius: 0.25em;background-color: #f0f8ff;}#sk-a555a249-ddbb-486b-b388-f425b827b193 input.sk-toggleable__control:checked~div.sk-toggleable__content {max-height: 200px;max-width: 100%;overflow: auto;}#sk-a555a249-ddbb-486b-b388-f425b827b193 input.sk-toggleable__control:checked~label.sk-toggleable__label-arrow:before {content: \"▾\";}#sk-a555a249-ddbb-486b-b388-f425b827b193 div.sk-estimator input.sk-toggleable__control:checked~label.sk-toggleable__label {background-color: #d4ebff;}#sk-a555a249-ddbb-486b-b388-f425b827b193 div.sk-label input.sk-toggleable__control:checked~label.sk-toggleable__label {background-color: #d4ebff;}#sk-a555a249-ddbb-486b-b388-f425b827b193 input.sk-hidden--visually {border: 0;clip: rect(1px 1px 1px 1px);clip: rect(1px, 1px, 1px, 1px);height: 1px;margin: -1px;overflow: hidden;padding: 0;position: absolute;width: 1px;}#sk-a555a249-ddbb-486b-b388-f425b827b193 div.sk-estimator {font-family: monospace;background-color: #f0f8ff;border: 1px dotted black;border-radius: 0.25em;box-sizing: border-box;margin-bottom: 0.5em;}#sk-a555a249-ddbb-486b-b388-f425b827b193 div.sk-estimator:hover {background-color: #d4ebff;}#sk-a555a249-ddbb-486b-b388-f425b827b193 div.sk-parallel-item::after {content: \"\";width: 100%;border-bottom: 1px solid gray;flex-grow: 1;}#sk-a555a249-ddbb-486b-b388-f425b827b193 div.sk-label:hover label.sk-toggleable__label {background-color: #d4ebff;}#sk-a555a249-ddbb-486b-b388-f425b827b193 div.sk-serial::before {content: \"\";position: absolute;border-left: 1px solid gray;box-sizing: border-box;top: 2em;bottom: 0;left: 50%;}#sk-a555a249-ddbb-486b-b388-f425b827b193 div.sk-serial {display: flex;flex-direction: column;align-items: center;background-color: white;padding-right: 0.2em;padding-left: 0.2em;}#sk-a555a249-ddbb-486b-b388-f425b827b193 div.sk-item {z-index: 1;}#sk-a555a249-ddbb-486b-b388-f425b827b193 div.sk-parallel {display: flex;align-items: stretch;justify-content: center;background-color: white;}#sk-a555a249-ddbb-486b-b388-f425b827b193 div.sk-parallel::before {content: \"\";position: absolute;border-left: 1px solid gray;box-sizing: border-box;top: 2em;bottom: 0;left: 50%;}#sk-a555a249-ddbb-486b-b388-f425b827b193 div.sk-parallel-item {display: flex;flex-direction: column;position: relative;background-color: white;}#sk-a555a249-ddbb-486b-b388-f425b827b193 div.sk-parallel-item:first-child::after {align-self: flex-end;width: 50%;}#sk-a555a249-ddbb-486b-b388-f425b827b193 div.sk-parallel-item:last-child::after {align-self: flex-start;width: 50%;}#sk-a555a249-ddbb-486b-b388-f425b827b193 div.sk-parallel-item:only-child::after {width: 0;}#sk-a555a249-ddbb-486b-b388-f425b827b193 div.sk-dashed-wrapped {border: 1px dashed gray;margin: 0 0.4em 0.5em 0.4em;box-sizing: border-box;padding-bottom: 0.4em;background-color: white;position: relative;}#sk-a555a249-ddbb-486b-b388-f425b827b193 div.sk-label label {font-family: monospace;font-weight: bold;background-color: white;display: inline-block;line-height: 1.2em;}#sk-a555a249-ddbb-486b-b388-f425b827b193 div.sk-label-container {position: relative;z-index: 2;text-align: center;}#sk-a555a249-ddbb-486b-b388-f425b827b193 div.sk-container {/* jupyter's `normalize.less` sets `[hidden] { display: none; }` but bootstrap.min.css set `[hidden] { display: none !important; }` so we also need the `!important` here to be able to override the default hidden behavior on the sphinx rendered scikit-learn.org. See: https://github.com/scikit-learn/scikit-learn/issues/21755 */display: inline-block !important;position: relative;}#sk-a555a249-ddbb-486b-b388-f425b827b193 div.sk-text-repr-fallback {display: none;}</style><div id=\"sk-a555a249-ddbb-486b-b388-f425b827b193\" class=\"sk-top-container\"><div class=\"sk-text-repr-fallback\"><pre>Pipeline(steps=[(&#x27;drop_missing&#x27;,\n",
       "                 FunctionTransformer(func=&lt;function drop_na at 0x000001AA6BE6C790&gt;)),\n",
       "                (&#x27;preprocess&#x27;,\n",
       "                 ColumnTransformer(remainder=&#x27;passthrough&#x27;,\n",
       "                                   transformers=[(&#x27;date&#x27;, &#x27;drop&#x27;,\n",
       "                                                  &lt;sklearn.compose._column_transformer.make_column_selector object at 0x000001AA6BE4F0A0&gt;),\n",
       "                                                 (&#x27;categorical&#x27;,\n",
       "                                                  OrdinalEncoder(),\n",
       "                                                  &lt;sklearn.compose._column_transformer.make_column_selector object at 0x000001AA6BE59D30&gt;)])),\n",
       "                (&#x27;variance&#x27;, VarianceThreshold())])</pre><b>Please rerun this cell to show the HTML repr or trust the notebook.</b></div><div class=\"sk-container\" hidden><div class=\"sk-item sk-dashed-wrapped\"><div class=\"sk-label-container\"><div class=\"sk-label sk-toggleable\"><input class=\"sk-toggleable__control sk-hidden--visually\" id=\"dbb270ee-3c0a-4ae6-8781-4d19a96924cb\" type=\"checkbox\" ><label for=\"dbb270ee-3c0a-4ae6-8781-4d19a96924cb\" class=\"sk-toggleable__label sk-toggleable__label-arrow\">Pipeline</label><div class=\"sk-toggleable__content\"><pre>Pipeline(steps=[(&#x27;drop_missing&#x27;,\n",
       "                 FunctionTransformer(func=&lt;function drop_na at 0x000001AA6BE6C790&gt;)),\n",
       "                (&#x27;preprocess&#x27;,\n",
       "                 ColumnTransformer(remainder=&#x27;passthrough&#x27;,\n",
       "                                   transformers=[(&#x27;date&#x27;, &#x27;drop&#x27;,\n",
       "                                                  &lt;sklearn.compose._column_transformer.make_column_selector object at 0x000001AA6BE4F0A0&gt;),\n",
       "                                                 (&#x27;categorical&#x27;,\n",
       "                                                  OrdinalEncoder(),\n",
       "                                                  &lt;sklearn.compose._column_transformer.make_column_selector object at 0x000001AA6BE59D30&gt;)])),\n",
       "                (&#x27;variance&#x27;, VarianceThreshold())])</pre></div></div></div><div class=\"sk-serial\"><div class=\"sk-item\"><div class=\"sk-estimator sk-toggleable\"><input class=\"sk-toggleable__control sk-hidden--visually\" id=\"ec578249-f99d-474b-9313-9fed44a1d70f\" type=\"checkbox\" ><label for=\"ec578249-f99d-474b-9313-9fed44a1d70f\" class=\"sk-toggleable__label sk-toggleable__label-arrow\">FunctionTransformer</label><div class=\"sk-toggleable__content\"><pre>FunctionTransformer(func=&lt;function drop_na at 0x000001AA6BE6C790&gt;)</pre></div></div></div><div class=\"sk-item sk-dashed-wrapped\"><div class=\"sk-label-container\"><div class=\"sk-label sk-toggleable\"><input class=\"sk-toggleable__control sk-hidden--visually\" id=\"3e9fe832-e9d6-40cd-940d-24ea9a941045\" type=\"checkbox\" ><label for=\"3e9fe832-e9d6-40cd-940d-24ea9a941045\" class=\"sk-toggleable__label sk-toggleable__label-arrow\">preprocess: ColumnTransformer</label><div class=\"sk-toggleable__content\"><pre>ColumnTransformer(remainder=&#x27;passthrough&#x27;,\n",
       "                  transformers=[(&#x27;date&#x27;, &#x27;drop&#x27;,\n",
       "                                 &lt;sklearn.compose._column_transformer.make_column_selector object at 0x000001AA6BE4F0A0&gt;),\n",
       "                                (&#x27;categorical&#x27;, OrdinalEncoder(),\n",
       "                                 &lt;sklearn.compose._column_transformer.make_column_selector object at 0x000001AA6BE59D30&gt;)])</pre></div></div></div><div class=\"sk-parallel\"><div class=\"sk-parallel-item\"><div class=\"sk-item\"><div class=\"sk-label-container\"><div class=\"sk-label sk-toggleable\"><input class=\"sk-toggleable__control sk-hidden--visually\" id=\"d39b5f32-eed5-40b3-947c-6ed1965f8be7\" type=\"checkbox\" ><label for=\"d39b5f32-eed5-40b3-947c-6ed1965f8be7\" class=\"sk-toggleable__label sk-toggleable__label-arrow\">date</label><div class=\"sk-toggleable__content\"><pre>&lt;sklearn.compose._column_transformer.make_column_selector object at 0x000001AA6BE4F0A0&gt;</pre></div></div></div><div class=\"sk-serial\"><div class=\"sk-item\"><div class=\"sk-estimator sk-toggleable\"><input class=\"sk-toggleable__control sk-hidden--visually\" id=\"312409c9-6a6f-4dc8-92b4-cbe0237b0bbe\" type=\"checkbox\" ><label for=\"312409c9-6a6f-4dc8-92b4-cbe0237b0bbe\" class=\"sk-toggleable__label sk-toggleable__label-arrow\">drop</label><div class=\"sk-toggleable__content\"><pre>drop</pre></div></div></div></div></div></div><div class=\"sk-parallel-item\"><div class=\"sk-item\"><div class=\"sk-label-container\"><div class=\"sk-label sk-toggleable\"><input class=\"sk-toggleable__control sk-hidden--visually\" id=\"f30f7eaa-0c6d-48ea-b1de-c7273e92b19e\" type=\"checkbox\" ><label for=\"f30f7eaa-0c6d-48ea-b1de-c7273e92b19e\" class=\"sk-toggleable__label sk-toggleable__label-arrow\">categorical</label><div class=\"sk-toggleable__content\"><pre>&lt;sklearn.compose._column_transformer.make_column_selector object at 0x000001AA6BE59D30&gt;</pre></div></div></div><div class=\"sk-serial\"><div class=\"sk-item\"><div class=\"sk-estimator sk-toggleable\"><input class=\"sk-toggleable__control sk-hidden--visually\" id=\"c317de7e-b9d2-4cbf-89d5-09196eb979d4\" type=\"checkbox\" ><label for=\"c317de7e-b9d2-4cbf-89d5-09196eb979d4\" class=\"sk-toggleable__label sk-toggleable__label-arrow\">OrdinalEncoder</label><div class=\"sk-toggleable__content\"><pre>OrdinalEncoder()</pre></div></div></div></div></div></div><div class=\"sk-parallel-item\"><div class=\"sk-item\"><div class=\"sk-label-container\"><div class=\"sk-label sk-toggleable\"><input class=\"sk-toggleable__control sk-hidden--visually\" id=\"80130f9f-93a9-44f7-8395-e2bf0d5b1094\" type=\"checkbox\" ><label for=\"80130f9f-93a9-44f7-8395-e2bf0d5b1094\" class=\"sk-toggleable__label sk-toggleable__label-arrow\">remainder</label><div class=\"sk-toggleable__content\"><pre></pre></div></div></div><div class=\"sk-serial\"><div class=\"sk-item\"><div class=\"sk-estimator sk-toggleable\"><input class=\"sk-toggleable__control sk-hidden--visually\" id=\"45361568-bdee-4b30-9644-31e4a3426686\" type=\"checkbox\" ><label for=\"45361568-bdee-4b30-9644-31e4a3426686\" class=\"sk-toggleable__label sk-toggleable__label-arrow\">passthrough</label><div class=\"sk-toggleable__content\"><pre>passthrough</pre></div></div></div></div></div></div></div></div><div class=\"sk-item\"><div class=\"sk-estimator sk-toggleable\"><input class=\"sk-toggleable__control sk-hidden--visually\" id=\"6695a5f2-68e4-44b7-947e-dd69e9c61a61\" type=\"checkbox\" ><label for=\"6695a5f2-68e4-44b7-947e-dd69e9c61a61\" class=\"sk-toggleable__label sk-toggleable__label-arrow\">VarianceThreshold</label><div class=\"sk-toggleable__content\"><pre>VarianceThreshold()</pre></div></div></div></div></div></div></div>"
      ],
      "text/plain": [
       "Pipeline(steps=[('drop_missing',\n",
       "                 FunctionTransformer(func=<function drop_na at 0x000001AA6BE6C790>)),\n",
       "                ('preprocess',\n",
       "                 ColumnTransformer(remainder='passthrough',\n",
       "                                   transformers=[('date', 'drop',\n",
       "                                                  <sklearn.compose._column_transformer.make_column_selector object at 0x000001AA6BE4F0A0>),\n",
       "                                                 ('categorical',\n",
       "                                                  OrdinalEncoder(),\n",
       "                                                  <sklearn.compose._column_transformer.make_column_selector object at 0x000001AA6BE59D30>)])),\n",
       "                ('variance', VarianceThreshold())])"
      ]
     },
     "execution_count": 10,
     "metadata": {},
     "output_type": "execute_result"
    }
   ],
   "source": [
    "pipe = Pipeline(\n",
    "    steps=[\n",
    "        ('drop_missing', FunctionTransformer(drop_na)),\n",
    "        ('preprocess', preproc),\n",
    "        ('variance', VarianceThreshold()),\n",
    "    ]\n",
    ")\n",
    "pipe"
   ]
  },
  {
   "cell_type": "code",
   "execution_count": 11,
   "metadata": {},
   "outputs": [
    {
     "name": "stdout",
     "output_type": "stream",
     "text": [
      "<class 'pandas.core.frame.DataFrame'>\n",
      "Int64Index: 982 entries, 5451 to 6432\n",
      "Data columns (total 14 columns):\n",
      " #   Column           Non-Null Count  Dtype         \n",
      "---  ------           --------------  -----         \n",
      " 0   pickup           982 non-null    datetime64[ns]\n",
      " 1   dropoff          982 non-null    datetime64[ns]\n",
      " 2   passengers       982 non-null    int64         \n",
      " 3   distance         982 non-null    float64       \n",
      " 4   fare             982 non-null    float64       \n",
      " 5   tip              982 non-null    float64       \n",
      " 6   tolls            982 non-null    float64       \n",
      " 7   total            982 non-null    float64       \n",
      " 8   color            982 non-null    category      \n",
      " 9   payment          977 non-null    category      \n",
      " 10  pickup_zone      978 non-null    category      \n",
      " 11  dropoff_zone     973 non-null    category      \n",
      " 12  pickup_borough   978 non-null    category      \n",
      " 13  dropoff_borough  973 non-null    category      \n",
      "dtypes: category(6), datetime64[ns](2), float64(5), int64(1)\n",
      "memory usage: 88.0 KB\n"
     ]
    }
   ],
   "source": [
    "X.info()"
   ]
  },
  {
   "cell_type": "code",
   "execution_count": 20,
   "metadata": {},
   "outputs": [
    {
     "data": {
      "text/plain": [
       "(968, 11)"
      ]
     },
     "execution_count": 20,
     "metadata": {},
     "output_type": "execute_result"
    }
   ],
   "source": [
    "X_train = pipe.fit_transform(X)\n",
    "X_train.shape"
   ]
  },
  {
   "cell_type": "markdown",
   "metadata": {},
   "source": [
    "### Univariate feature selection\n",
    "* `SelectKBest` removes all but the $k$ highest scoring features\n",
    "* `SelectPercentile` removes all but a user-specified highest scoring percentage of features\n",
    "* using common univariate statistical tests for each feature: false positive rate `SelectFpr`, false discovery rate `SelectFdr`, or family wise error `SelectFwe`.\n",
    "* `GenericUnivariateSelect` allows to perform univariate feature selection with a configurable strategy. This allows to select the best univariate selection strategy with hyper-parameter search estimator."
   ]
  },
  {
   "cell_type": "code",
   "execution_count": 99,
   "metadata": {},
   "outputs": [
    {
     "data": {
      "text/html": [
       "<style>#sk-bea6fdd4-a671-46e8-a3f2-0999680c77a9 {color: black;background-color: white;}#sk-bea6fdd4-a671-46e8-a3f2-0999680c77a9 pre{padding: 0;}#sk-bea6fdd4-a671-46e8-a3f2-0999680c77a9 div.sk-toggleable {background-color: white;}#sk-bea6fdd4-a671-46e8-a3f2-0999680c77a9 label.sk-toggleable__label {cursor: pointer;display: block;width: 100%;margin-bottom: 0;padding: 0.3em;box-sizing: border-box;text-align: center;}#sk-bea6fdd4-a671-46e8-a3f2-0999680c77a9 label.sk-toggleable__label-arrow:before {content: \"▸\";float: left;margin-right: 0.25em;color: #696969;}#sk-bea6fdd4-a671-46e8-a3f2-0999680c77a9 label.sk-toggleable__label-arrow:hover:before {color: black;}#sk-bea6fdd4-a671-46e8-a3f2-0999680c77a9 div.sk-estimator:hover label.sk-toggleable__label-arrow:before {color: black;}#sk-bea6fdd4-a671-46e8-a3f2-0999680c77a9 div.sk-toggleable__content {max-height: 0;max-width: 0;overflow: hidden;text-align: left;background-color: #f0f8ff;}#sk-bea6fdd4-a671-46e8-a3f2-0999680c77a9 div.sk-toggleable__content pre {margin: 0.2em;color: black;border-radius: 0.25em;background-color: #f0f8ff;}#sk-bea6fdd4-a671-46e8-a3f2-0999680c77a9 input.sk-toggleable__control:checked~div.sk-toggleable__content {max-height: 200px;max-width: 100%;overflow: auto;}#sk-bea6fdd4-a671-46e8-a3f2-0999680c77a9 input.sk-toggleable__control:checked~label.sk-toggleable__label-arrow:before {content: \"▾\";}#sk-bea6fdd4-a671-46e8-a3f2-0999680c77a9 div.sk-estimator input.sk-toggleable__control:checked~label.sk-toggleable__label {background-color: #d4ebff;}#sk-bea6fdd4-a671-46e8-a3f2-0999680c77a9 div.sk-label input.sk-toggleable__control:checked~label.sk-toggleable__label {background-color: #d4ebff;}#sk-bea6fdd4-a671-46e8-a3f2-0999680c77a9 input.sk-hidden--visually {border: 0;clip: rect(1px 1px 1px 1px);clip: rect(1px, 1px, 1px, 1px);height: 1px;margin: -1px;overflow: hidden;padding: 0;position: absolute;width: 1px;}#sk-bea6fdd4-a671-46e8-a3f2-0999680c77a9 div.sk-estimator {font-family: monospace;background-color: #f0f8ff;border: 1px dotted black;border-radius: 0.25em;box-sizing: border-box;margin-bottom: 0.5em;}#sk-bea6fdd4-a671-46e8-a3f2-0999680c77a9 div.sk-estimator:hover {background-color: #d4ebff;}#sk-bea6fdd4-a671-46e8-a3f2-0999680c77a9 div.sk-parallel-item::after {content: \"\";width: 100%;border-bottom: 1px solid gray;flex-grow: 1;}#sk-bea6fdd4-a671-46e8-a3f2-0999680c77a9 div.sk-label:hover label.sk-toggleable__label {background-color: #d4ebff;}#sk-bea6fdd4-a671-46e8-a3f2-0999680c77a9 div.sk-serial::before {content: \"\";position: absolute;border-left: 1px solid gray;box-sizing: border-box;top: 2em;bottom: 0;left: 50%;}#sk-bea6fdd4-a671-46e8-a3f2-0999680c77a9 div.sk-serial {display: flex;flex-direction: column;align-items: center;background-color: white;padding-right: 0.2em;padding-left: 0.2em;}#sk-bea6fdd4-a671-46e8-a3f2-0999680c77a9 div.sk-item {z-index: 1;}#sk-bea6fdd4-a671-46e8-a3f2-0999680c77a9 div.sk-parallel {display: flex;align-items: stretch;justify-content: center;background-color: white;}#sk-bea6fdd4-a671-46e8-a3f2-0999680c77a9 div.sk-parallel::before {content: \"\";position: absolute;border-left: 1px solid gray;box-sizing: border-box;top: 2em;bottom: 0;left: 50%;}#sk-bea6fdd4-a671-46e8-a3f2-0999680c77a9 div.sk-parallel-item {display: flex;flex-direction: column;position: relative;background-color: white;}#sk-bea6fdd4-a671-46e8-a3f2-0999680c77a9 div.sk-parallel-item:first-child::after {align-self: flex-end;width: 50%;}#sk-bea6fdd4-a671-46e8-a3f2-0999680c77a9 div.sk-parallel-item:last-child::after {align-self: flex-start;width: 50%;}#sk-bea6fdd4-a671-46e8-a3f2-0999680c77a9 div.sk-parallel-item:only-child::after {width: 0;}#sk-bea6fdd4-a671-46e8-a3f2-0999680c77a9 div.sk-dashed-wrapped {border: 1px dashed gray;margin: 0 0.4em 0.5em 0.4em;box-sizing: border-box;padding-bottom: 0.4em;background-color: white;position: relative;}#sk-bea6fdd4-a671-46e8-a3f2-0999680c77a9 div.sk-label label {font-family: monospace;font-weight: bold;background-color: white;display: inline-block;line-height: 1.2em;}#sk-bea6fdd4-a671-46e8-a3f2-0999680c77a9 div.sk-label-container {position: relative;z-index: 2;text-align: center;}#sk-bea6fdd4-a671-46e8-a3f2-0999680c77a9 div.sk-container {/* jupyter's `normalize.less` sets `[hidden] { display: none; }` but bootstrap.min.css set `[hidden] { display: none !important; }` so we also need the `!important` here to be able to override the default hidden behavior on the sphinx rendered scikit-learn.org. See: https://github.com/scikit-learn/scikit-learn/issues/21755 */display: inline-block !important;position: relative;}#sk-bea6fdd4-a671-46e8-a3f2-0999680c77a9 div.sk-text-repr-fallback {display: none;}</style><div id=\"sk-bea6fdd4-a671-46e8-a3f2-0999680c77a9\" class=\"sk-top-container\"><div class=\"sk-text-repr-fallback\"><pre>Pipeline(steps=[(&#x27;preprocess&#x27;,\n",
       "                 ColumnTransformer(remainder=&#x27;passthrough&#x27;,\n",
       "                                   transformers=[(&#x27;date&#x27;, &#x27;drop&#x27;,\n",
       "                                                  &lt;sklearn.compose._column_transformer.make_column_selector object at 0x000001AA6F08E4F0&gt;),\n",
       "                                                 (&#x27;categorical&#x27;,\n",
       "                                                  OrdinalEncoder(),\n",
       "                                                  &lt;sklearn.compose._column_transformer.make_column_selector object at 0x000001AA6F08E2B0&gt;)])),\n",
       "                (&#x27;impute&#x27;, SimpleImputer()), (&#x27;variance&#x27;, VarianceThreshold()),\n",
       "                (&#x27;select_k_best&#x27;,\n",
       "                 SelectKBest(k=3,\n",
       "                             score_func=&lt;function f_regression at 0x000001AA6BA80310&gt;))])</pre><b>Please rerun this cell to show the HTML repr or trust the notebook.</b></div><div class=\"sk-container\" hidden><div class=\"sk-item sk-dashed-wrapped\"><div class=\"sk-label-container\"><div class=\"sk-label sk-toggleable\"><input class=\"sk-toggleable__control sk-hidden--visually\" id=\"6b6065d3-f331-4727-93e5-3c93ae517781\" type=\"checkbox\" ><label for=\"6b6065d3-f331-4727-93e5-3c93ae517781\" class=\"sk-toggleable__label sk-toggleable__label-arrow\">Pipeline</label><div class=\"sk-toggleable__content\"><pre>Pipeline(steps=[(&#x27;preprocess&#x27;,\n",
       "                 ColumnTransformer(remainder=&#x27;passthrough&#x27;,\n",
       "                                   transformers=[(&#x27;date&#x27;, &#x27;drop&#x27;,\n",
       "                                                  &lt;sklearn.compose._column_transformer.make_column_selector object at 0x000001AA6F08E4F0&gt;),\n",
       "                                                 (&#x27;categorical&#x27;,\n",
       "                                                  OrdinalEncoder(),\n",
       "                                                  &lt;sklearn.compose._column_transformer.make_column_selector object at 0x000001AA6F08E2B0&gt;)])),\n",
       "                (&#x27;impute&#x27;, SimpleImputer()), (&#x27;variance&#x27;, VarianceThreshold()),\n",
       "                (&#x27;select_k_best&#x27;,\n",
       "                 SelectKBest(k=3,\n",
       "                             score_func=&lt;function f_regression at 0x000001AA6BA80310&gt;))])</pre></div></div></div><div class=\"sk-serial\"><div class=\"sk-item sk-dashed-wrapped\"><div class=\"sk-label-container\"><div class=\"sk-label sk-toggleable\"><input class=\"sk-toggleable__control sk-hidden--visually\" id=\"e8b13fc3-d9ae-4590-af9b-7b90d09f31de\" type=\"checkbox\" ><label for=\"e8b13fc3-d9ae-4590-af9b-7b90d09f31de\" class=\"sk-toggleable__label sk-toggleable__label-arrow\">preprocess: ColumnTransformer</label><div class=\"sk-toggleable__content\"><pre>ColumnTransformer(remainder=&#x27;passthrough&#x27;,\n",
       "                  transformers=[(&#x27;date&#x27;, &#x27;drop&#x27;,\n",
       "                                 &lt;sklearn.compose._column_transformer.make_column_selector object at 0x000001AA6F08E4F0&gt;),\n",
       "                                (&#x27;categorical&#x27;, OrdinalEncoder(),\n",
       "                                 &lt;sklearn.compose._column_transformer.make_column_selector object at 0x000001AA6F08E2B0&gt;)])</pre></div></div></div><div class=\"sk-parallel\"><div class=\"sk-parallel-item\"><div class=\"sk-item\"><div class=\"sk-label-container\"><div class=\"sk-label sk-toggleable\"><input class=\"sk-toggleable__control sk-hidden--visually\" id=\"d39891ea-ea78-468c-a36f-fc396364ba38\" type=\"checkbox\" ><label for=\"d39891ea-ea78-468c-a36f-fc396364ba38\" class=\"sk-toggleable__label sk-toggleable__label-arrow\">date</label><div class=\"sk-toggleable__content\"><pre>&lt;sklearn.compose._column_transformer.make_column_selector object at 0x000001AA6F08E4F0&gt;</pre></div></div></div><div class=\"sk-serial\"><div class=\"sk-item\"><div class=\"sk-estimator sk-toggleable\"><input class=\"sk-toggleable__control sk-hidden--visually\" id=\"3a304e62-874b-4b59-9b3c-64cabfa8afc7\" type=\"checkbox\" ><label for=\"3a304e62-874b-4b59-9b3c-64cabfa8afc7\" class=\"sk-toggleable__label sk-toggleable__label-arrow\">drop</label><div class=\"sk-toggleable__content\"><pre>drop</pre></div></div></div></div></div></div><div class=\"sk-parallel-item\"><div class=\"sk-item\"><div class=\"sk-label-container\"><div class=\"sk-label sk-toggleable\"><input class=\"sk-toggleable__control sk-hidden--visually\" id=\"a30f150e-65b8-45e9-9582-8cb9dc6e98c7\" type=\"checkbox\" ><label for=\"a30f150e-65b8-45e9-9582-8cb9dc6e98c7\" class=\"sk-toggleable__label sk-toggleable__label-arrow\">categorical</label><div class=\"sk-toggleable__content\"><pre>&lt;sklearn.compose._column_transformer.make_column_selector object at 0x000001AA6F08E2B0&gt;</pre></div></div></div><div class=\"sk-serial\"><div class=\"sk-item\"><div class=\"sk-estimator sk-toggleable\"><input class=\"sk-toggleable__control sk-hidden--visually\" id=\"e2715fdb-677a-46dc-b64e-f851cc0d43ea\" type=\"checkbox\" ><label for=\"e2715fdb-677a-46dc-b64e-f851cc0d43ea\" class=\"sk-toggleable__label sk-toggleable__label-arrow\">OrdinalEncoder</label><div class=\"sk-toggleable__content\"><pre>OrdinalEncoder()</pre></div></div></div></div></div></div><div class=\"sk-parallel-item\"><div class=\"sk-item\"><div class=\"sk-label-container\"><div class=\"sk-label sk-toggleable\"><input class=\"sk-toggleable__control sk-hidden--visually\" id=\"dfdf2bc2-cf6f-4393-9733-804325b5d0a7\" type=\"checkbox\" ><label for=\"dfdf2bc2-cf6f-4393-9733-804325b5d0a7\" class=\"sk-toggleable__label sk-toggleable__label-arrow\">remainder</label><div class=\"sk-toggleable__content\"><pre>[&#x27;passengers&#x27;, &#x27;distance&#x27;, &#x27;tip&#x27;, &#x27;tolls&#x27;, &#x27;total&#x27;]</pre></div></div></div><div class=\"sk-serial\"><div class=\"sk-item\"><div class=\"sk-estimator sk-toggleable\"><input class=\"sk-toggleable__control sk-hidden--visually\" id=\"b4fb6d7a-18a2-45c4-ac85-9dd13014dda5\" type=\"checkbox\" ><label for=\"b4fb6d7a-18a2-45c4-ac85-9dd13014dda5\" class=\"sk-toggleable__label sk-toggleable__label-arrow\">passthrough</label><div class=\"sk-toggleable__content\"><pre>passthrough</pre></div></div></div></div></div></div></div></div><div class=\"sk-item\"><div class=\"sk-estimator sk-toggleable\"><input class=\"sk-toggleable__control sk-hidden--visually\" id=\"4e963a85-b7f9-4969-948a-b51467fa73f9\" type=\"checkbox\" ><label for=\"4e963a85-b7f9-4969-948a-b51467fa73f9\" class=\"sk-toggleable__label sk-toggleable__label-arrow\">SimpleImputer</label><div class=\"sk-toggleable__content\"><pre>SimpleImputer()</pre></div></div></div><div class=\"sk-item\"><div class=\"sk-estimator sk-toggleable\"><input class=\"sk-toggleable__control sk-hidden--visually\" id=\"6cf6002b-8203-4a1f-a3eb-f52f1bfbe639\" type=\"checkbox\" ><label for=\"6cf6002b-8203-4a1f-a3eb-f52f1bfbe639\" class=\"sk-toggleable__label sk-toggleable__label-arrow\">VarianceThreshold</label><div class=\"sk-toggleable__content\"><pre>VarianceThreshold()</pre></div></div></div><div class=\"sk-item\"><div class=\"sk-estimator sk-toggleable\"><input class=\"sk-toggleable__control sk-hidden--visually\" id=\"71ce9c33-d3bf-4a7d-93ce-528fac2e989e\" type=\"checkbox\" ><label for=\"71ce9c33-d3bf-4a7d-93ce-528fac2e989e\" class=\"sk-toggleable__label sk-toggleable__label-arrow\">SelectKBest</label><div class=\"sk-toggleable__content\"><pre>SelectKBest(k=3, score_func=&lt;function f_regression at 0x000001AA6BA80310&gt;)</pre></div></div></div></div></div></div></div>"
      ],
      "text/plain": [
       "Pipeline(steps=[('preprocess',\n",
       "                 ColumnTransformer(remainder='passthrough',\n",
       "                                   transformers=[('date', 'drop',\n",
       "                                                  <sklearn.compose._column_transformer.make_column_selector object at 0x000001AA6F08E4F0>),\n",
       "                                                 ('categorical',\n",
       "                                                  OrdinalEncoder(),\n",
       "                                                  <sklearn.compose._column_transformer.make_column_selector object at 0x000001AA6F08E2B0>)])),\n",
       "                ('impute', SimpleImputer()), ('variance', VarianceThreshold()),\n",
       "                ('select_k_best',\n",
       "                 SelectKBest(k=3,\n",
       "                             score_func=<function f_regression at 0x000001AA6BA80310>))])"
      ]
     },
     "execution_count": 99,
     "metadata": {},
     "output_type": "execute_result"
    }
   ],
   "source": [
    "from sklearn.datasets import load_iris\n",
    "from sklearn.feature_selection import SelectKBest\n",
    "from sklearn.feature_selection import  f_regression, mutual_info_regression\n",
    "from sklearn.impute import SimpleImputer\n",
    "\n",
    "pipe = Pipeline(\n",
    "    steps=[\n",
    "        ('preprocess', preproc),\n",
    "        ('impute', SimpleImputer()),\n",
    "        ('variance', VarianceThreshold()),\n",
    "        ('select_k_best', SelectKBest(f_regression, k=3)),\n",
    "    ]\n",
    ")\n",
    "pipe"
   ]
  },
  {
   "cell_type": "code",
   "execution_count": 100,
   "metadata": {},
   "outputs": [
    {
     "data": {
      "text/plain": [
       "array([[ 2.29,  0.  , 15.8 ],\n",
       "       [ 0.8 ,  0.  ,  6.8 ],\n",
       "       [ 1.51,  0.  , 10.5 ],\n",
       "       ...,\n",
       "       [ 4.14,  0.  , 17.3 ],\n",
       "       [ 1.12,  0.  ,  6.8 ],\n",
       "       [ 3.85,  0.  , 20.16]])"
      ]
     },
     "execution_count": 100,
     "metadata": {},
     "output_type": "execute_result"
    }
   ],
   "source": [
    "pipe.fit_transform(X.drop(columns='fare'), X['fare'])"
   ]
  },
  {
   "cell_type": "markdown",
   "metadata": {},
   "source": [
    "### Feature selection using SelectFromModel\n",
    "Using feature importance, we can select the features that are most important to the model. In a linear model, we can use L1 or L2 regularization to select the features that are most important to the model. L1 or Lasso provides a more sparse solution since it penalizes having more coefficients."
   ]
  },
  {
   "cell_type": "markdown",
   "metadata": {},
   "source": [
    "#### Linear Model trained with L1 prior as regularizer"
   ]
  },
  {
   "cell_type": "code",
   "execution_count": 108,
   "metadata": {},
   "outputs": [
    {
     "data": {
      "text/html": [
       "<style>#sk-92bb0728-39c1-416d-9644-87c689ef190d {color: black;background-color: white;}#sk-92bb0728-39c1-416d-9644-87c689ef190d pre{padding: 0;}#sk-92bb0728-39c1-416d-9644-87c689ef190d div.sk-toggleable {background-color: white;}#sk-92bb0728-39c1-416d-9644-87c689ef190d label.sk-toggleable__label {cursor: pointer;display: block;width: 100%;margin-bottom: 0;padding: 0.3em;box-sizing: border-box;text-align: center;}#sk-92bb0728-39c1-416d-9644-87c689ef190d label.sk-toggleable__label-arrow:before {content: \"▸\";float: left;margin-right: 0.25em;color: #696969;}#sk-92bb0728-39c1-416d-9644-87c689ef190d label.sk-toggleable__label-arrow:hover:before {color: black;}#sk-92bb0728-39c1-416d-9644-87c689ef190d div.sk-estimator:hover label.sk-toggleable__label-arrow:before {color: black;}#sk-92bb0728-39c1-416d-9644-87c689ef190d div.sk-toggleable__content {max-height: 0;max-width: 0;overflow: hidden;text-align: left;background-color: #f0f8ff;}#sk-92bb0728-39c1-416d-9644-87c689ef190d div.sk-toggleable__content pre {margin: 0.2em;color: black;border-radius: 0.25em;background-color: #f0f8ff;}#sk-92bb0728-39c1-416d-9644-87c689ef190d input.sk-toggleable__control:checked~div.sk-toggleable__content {max-height: 200px;max-width: 100%;overflow: auto;}#sk-92bb0728-39c1-416d-9644-87c689ef190d input.sk-toggleable__control:checked~label.sk-toggleable__label-arrow:before {content: \"▾\";}#sk-92bb0728-39c1-416d-9644-87c689ef190d div.sk-estimator input.sk-toggleable__control:checked~label.sk-toggleable__label {background-color: #d4ebff;}#sk-92bb0728-39c1-416d-9644-87c689ef190d div.sk-label input.sk-toggleable__control:checked~label.sk-toggleable__label {background-color: #d4ebff;}#sk-92bb0728-39c1-416d-9644-87c689ef190d input.sk-hidden--visually {border: 0;clip: rect(1px 1px 1px 1px);clip: rect(1px, 1px, 1px, 1px);height: 1px;margin: -1px;overflow: hidden;padding: 0;position: absolute;width: 1px;}#sk-92bb0728-39c1-416d-9644-87c689ef190d div.sk-estimator {font-family: monospace;background-color: #f0f8ff;border: 1px dotted black;border-radius: 0.25em;box-sizing: border-box;margin-bottom: 0.5em;}#sk-92bb0728-39c1-416d-9644-87c689ef190d div.sk-estimator:hover {background-color: #d4ebff;}#sk-92bb0728-39c1-416d-9644-87c689ef190d div.sk-parallel-item::after {content: \"\";width: 100%;border-bottom: 1px solid gray;flex-grow: 1;}#sk-92bb0728-39c1-416d-9644-87c689ef190d div.sk-label:hover label.sk-toggleable__label {background-color: #d4ebff;}#sk-92bb0728-39c1-416d-9644-87c689ef190d div.sk-serial::before {content: \"\";position: absolute;border-left: 1px solid gray;box-sizing: border-box;top: 2em;bottom: 0;left: 50%;}#sk-92bb0728-39c1-416d-9644-87c689ef190d div.sk-serial {display: flex;flex-direction: column;align-items: center;background-color: white;padding-right: 0.2em;padding-left: 0.2em;}#sk-92bb0728-39c1-416d-9644-87c689ef190d div.sk-item {z-index: 1;}#sk-92bb0728-39c1-416d-9644-87c689ef190d div.sk-parallel {display: flex;align-items: stretch;justify-content: center;background-color: white;}#sk-92bb0728-39c1-416d-9644-87c689ef190d div.sk-parallel::before {content: \"\";position: absolute;border-left: 1px solid gray;box-sizing: border-box;top: 2em;bottom: 0;left: 50%;}#sk-92bb0728-39c1-416d-9644-87c689ef190d div.sk-parallel-item {display: flex;flex-direction: column;position: relative;background-color: white;}#sk-92bb0728-39c1-416d-9644-87c689ef190d div.sk-parallel-item:first-child::after {align-self: flex-end;width: 50%;}#sk-92bb0728-39c1-416d-9644-87c689ef190d div.sk-parallel-item:last-child::after {align-self: flex-start;width: 50%;}#sk-92bb0728-39c1-416d-9644-87c689ef190d div.sk-parallel-item:only-child::after {width: 0;}#sk-92bb0728-39c1-416d-9644-87c689ef190d div.sk-dashed-wrapped {border: 1px dashed gray;margin: 0 0.4em 0.5em 0.4em;box-sizing: border-box;padding-bottom: 0.4em;background-color: white;position: relative;}#sk-92bb0728-39c1-416d-9644-87c689ef190d div.sk-label label {font-family: monospace;font-weight: bold;background-color: white;display: inline-block;line-height: 1.2em;}#sk-92bb0728-39c1-416d-9644-87c689ef190d div.sk-label-container {position: relative;z-index: 2;text-align: center;}#sk-92bb0728-39c1-416d-9644-87c689ef190d div.sk-container {/* jupyter's `normalize.less` sets `[hidden] { display: none; }` but bootstrap.min.css set `[hidden] { display: none !important; }` so we also need the `!important` here to be able to override the default hidden behavior on the sphinx rendered scikit-learn.org. See: https://github.com/scikit-learn/scikit-learn/issues/21755 */display: inline-block !important;position: relative;}#sk-92bb0728-39c1-416d-9644-87c689ef190d div.sk-text-repr-fallback {display: none;}</style><div id=\"sk-92bb0728-39c1-416d-9644-87c689ef190d\" class=\"sk-top-container\"><div class=\"sk-text-repr-fallback\"><pre>Pipeline(steps=[(&#x27;preprocess&#x27;,\n",
       "                 ColumnTransformer(remainder=&#x27;passthrough&#x27;,\n",
       "                                   transformers=[(&#x27;date&#x27;, &#x27;drop&#x27;,\n",
       "                                                  &lt;sklearn.compose._column_transformer.make_column_selector object at 0x000001AA6F08E4F0&gt;),\n",
       "                                                 (&#x27;categorical&#x27;,\n",
       "                                                  OrdinalEncoder(),\n",
       "                                                  &lt;sklearn.compose._column_transformer.make_column_selector object at 0x000001AA6F08E2B0&gt;)])),\n",
       "                (&#x27;impute&#x27;, SimpleImputer()), (&#x27;variance&#x27;, VarianceThreshold()),\n",
       "                (&#x27;selector&#x27;, Lasso(alpha=0.8))])</pre><b>Please rerun this cell to show the HTML repr or trust the notebook.</b></div><div class=\"sk-container\" hidden><div class=\"sk-item sk-dashed-wrapped\"><div class=\"sk-label-container\"><div class=\"sk-label sk-toggleable\"><input class=\"sk-toggleable__control sk-hidden--visually\" id=\"56cc3d2d-abd5-468d-9360-e7ff06c8767c\" type=\"checkbox\" ><label for=\"56cc3d2d-abd5-468d-9360-e7ff06c8767c\" class=\"sk-toggleable__label sk-toggleable__label-arrow\">Pipeline</label><div class=\"sk-toggleable__content\"><pre>Pipeline(steps=[(&#x27;preprocess&#x27;,\n",
       "                 ColumnTransformer(remainder=&#x27;passthrough&#x27;,\n",
       "                                   transformers=[(&#x27;date&#x27;, &#x27;drop&#x27;,\n",
       "                                                  &lt;sklearn.compose._column_transformer.make_column_selector object at 0x000001AA6F08E4F0&gt;),\n",
       "                                                 (&#x27;categorical&#x27;,\n",
       "                                                  OrdinalEncoder(),\n",
       "                                                  &lt;sklearn.compose._column_transformer.make_column_selector object at 0x000001AA6F08E2B0&gt;)])),\n",
       "                (&#x27;impute&#x27;, SimpleImputer()), (&#x27;variance&#x27;, VarianceThreshold()),\n",
       "                (&#x27;selector&#x27;, Lasso(alpha=0.8))])</pre></div></div></div><div class=\"sk-serial\"><div class=\"sk-item sk-dashed-wrapped\"><div class=\"sk-label-container\"><div class=\"sk-label sk-toggleable\"><input class=\"sk-toggleable__control sk-hidden--visually\" id=\"fecb56f4-61bd-42dc-8739-53d0561a8516\" type=\"checkbox\" ><label for=\"fecb56f4-61bd-42dc-8739-53d0561a8516\" class=\"sk-toggleable__label sk-toggleable__label-arrow\">preprocess: ColumnTransformer</label><div class=\"sk-toggleable__content\"><pre>ColumnTransformer(remainder=&#x27;passthrough&#x27;,\n",
       "                  transformers=[(&#x27;date&#x27;, &#x27;drop&#x27;,\n",
       "                                 &lt;sklearn.compose._column_transformer.make_column_selector object at 0x000001AA6F08E4F0&gt;),\n",
       "                                (&#x27;categorical&#x27;, OrdinalEncoder(),\n",
       "                                 &lt;sklearn.compose._column_transformer.make_column_selector object at 0x000001AA6F08E2B0&gt;)])</pre></div></div></div><div class=\"sk-parallel\"><div class=\"sk-parallel-item\"><div class=\"sk-item\"><div class=\"sk-label-container\"><div class=\"sk-label sk-toggleable\"><input class=\"sk-toggleable__control sk-hidden--visually\" id=\"f9280eb6-f466-49e3-9c31-d5824f5f569c\" type=\"checkbox\" ><label for=\"f9280eb6-f466-49e3-9c31-d5824f5f569c\" class=\"sk-toggleable__label sk-toggleable__label-arrow\">date</label><div class=\"sk-toggleable__content\"><pre>&lt;sklearn.compose._column_transformer.make_column_selector object at 0x000001AA6F08E4F0&gt;</pre></div></div></div><div class=\"sk-serial\"><div class=\"sk-item\"><div class=\"sk-estimator sk-toggleable\"><input class=\"sk-toggleable__control sk-hidden--visually\" id=\"9959ebc3-3620-4825-a9e5-6320e8222319\" type=\"checkbox\" ><label for=\"9959ebc3-3620-4825-a9e5-6320e8222319\" class=\"sk-toggleable__label sk-toggleable__label-arrow\">drop</label><div class=\"sk-toggleable__content\"><pre>drop</pre></div></div></div></div></div></div><div class=\"sk-parallel-item\"><div class=\"sk-item\"><div class=\"sk-label-container\"><div class=\"sk-label sk-toggleable\"><input class=\"sk-toggleable__control sk-hidden--visually\" id=\"27398263-1081-483a-acf4-048738abe01f\" type=\"checkbox\" ><label for=\"27398263-1081-483a-acf4-048738abe01f\" class=\"sk-toggleable__label sk-toggleable__label-arrow\">categorical</label><div class=\"sk-toggleable__content\"><pre>&lt;sklearn.compose._column_transformer.make_column_selector object at 0x000001AA6F08E2B0&gt;</pre></div></div></div><div class=\"sk-serial\"><div class=\"sk-item\"><div class=\"sk-estimator sk-toggleable\"><input class=\"sk-toggleable__control sk-hidden--visually\" id=\"444130b2-28a9-463b-b641-3b86c8975fe9\" type=\"checkbox\" ><label for=\"444130b2-28a9-463b-b641-3b86c8975fe9\" class=\"sk-toggleable__label sk-toggleable__label-arrow\">OrdinalEncoder</label><div class=\"sk-toggleable__content\"><pre>OrdinalEncoder()</pre></div></div></div></div></div></div><div class=\"sk-parallel-item\"><div class=\"sk-item\"><div class=\"sk-label-container\"><div class=\"sk-label sk-toggleable\"><input class=\"sk-toggleable__control sk-hidden--visually\" id=\"2f4fcfcb-9902-4176-a700-e7b701c24bcf\" type=\"checkbox\" ><label for=\"2f4fcfcb-9902-4176-a700-e7b701c24bcf\" class=\"sk-toggleable__label sk-toggleable__label-arrow\">remainder</label><div class=\"sk-toggleable__content\"><pre>[&#x27;passengers&#x27;, &#x27;distance&#x27;, &#x27;tip&#x27;, &#x27;tolls&#x27;, &#x27;total&#x27;]</pre></div></div></div><div class=\"sk-serial\"><div class=\"sk-item\"><div class=\"sk-estimator sk-toggleable\"><input class=\"sk-toggleable__control sk-hidden--visually\" id=\"bc58dd14-8a0e-48a2-9356-81c166e4badc\" type=\"checkbox\" ><label for=\"bc58dd14-8a0e-48a2-9356-81c166e4badc\" class=\"sk-toggleable__label sk-toggleable__label-arrow\">passthrough</label><div class=\"sk-toggleable__content\"><pre>passthrough</pre></div></div></div></div></div></div></div></div><div class=\"sk-item\"><div class=\"sk-estimator sk-toggleable\"><input class=\"sk-toggleable__control sk-hidden--visually\" id=\"810597d8-1980-4b34-8142-2f4dcc42a21c\" type=\"checkbox\" ><label for=\"810597d8-1980-4b34-8142-2f4dcc42a21c\" class=\"sk-toggleable__label sk-toggleable__label-arrow\">SimpleImputer</label><div class=\"sk-toggleable__content\"><pre>SimpleImputer()</pre></div></div></div><div class=\"sk-item\"><div class=\"sk-estimator sk-toggleable\"><input class=\"sk-toggleable__control sk-hidden--visually\" id=\"88cd91de-b59a-4f3f-adc8-45a6c104ab05\" type=\"checkbox\" ><label for=\"88cd91de-b59a-4f3f-adc8-45a6c104ab05\" class=\"sk-toggleable__label sk-toggleable__label-arrow\">VarianceThreshold</label><div class=\"sk-toggleable__content\"><pre>VarianceThreshold()</pre></div></div></div><div class=\"sk-item\"><div class=\"sk-estimator sk-toggleable\"><input class=\"sk-toggleable__control sk-hidden--visually\" id=\"86f20d70-22cc-4587-8526-8b947f7967a5\" type=\"checkbox\" ><label for=\"86f20d70-22cc-4587-8526-8b947f7967a5\" class=\"sk-toggleable__label sk-toggleable__label-arrow\">Lasso</label><div class=\"sk-toggleable__content\"><pre>Lasso(alpha=0.8)</pre></div></div></div></div></div></div></div>"
      ],
      "text/plain": [
       "Pipeline(steps=[('preprocess',\n",
       "                 ColumnTransformer(remainder='passthrough',\n",
       "                                   transformers=[('date', 'drop',\n",
       "                                                  <sklearn.compose._column_transformer.make_column_selector object at 0x000001AA6F08E4F0>),\n",
       "                                                 ('categorical',\n",
       "                                                  OrdinalEncoder(),\n",
       "                                                  <sklearn.compose._column_transformer.make_column_selector object at 0x000001AA6F08E2B0>)])),\n",
       "                ('impute', SimpleImputer()), ('variance', VarianceThreshold()),\n",
       "                ('selector', Lasso(alpha=0.8))])"
      ]
     },
     "execution_count": 108,
     "metadata": {},
     "output_type": "execute_result"
    }
   ],
   "source": [
    "from sklearn.linear_model import Lasso, LinearRegression\n",
    "\n",
    "pipe = Pipeline(\n",
    "    steps=[\n",
    "        ('preprocess', preproc),\n",
    "        ('impute', SimpleImputer()),\n",
    "        ('variance', VarianceThreshold()),\n",
    "        ('selector', Lasso(alpha=0.8)),\n",
    "    ]\n",
    ")\n",
    "pipe"
   ]
  },
  {
   "cell_type": "code",
   "execution_count": 109,
   "metadata": {},
   "outputs": [
    {
     "data": {
      "text/html": [
       "<style>#sk-20b2c97a-2baa-4074-b7de-4e797aa63b88 {color: black;background-color: white;}#sk-20b2c97a-2baa-4074-b7de-4e797aa63b88 pre{padding: 0;}#sk-20b2c97a-2baa-4074-b7de-4e797aa63b88 div.sk-toggleable {background-color: white;}#sk-20b2c97a-2baa-4074-b7de-4e797aa63b88 label.sk-toggleable__label {cursor: pointer;display: block;width: 100%;margin-bottom: 0;padding: 0.3em;box-sizing: border-box;text-align: center;}#sk-20b2c97a-2baa-4074-b7de-4e797aa63b88 label.sk-toggleable__label-arrow:before {content: \"▸\";float: left;margin-right: 0.25em;color: #696969;}#sk-20b2c97a-2baa-4074-b7de-4e797aa63b88 label.sk-toggleable__label-arrow:hover:before {color: black;}#sk-20b2c97a-2baa-4074-b7de-4e797aa63b88 div.sk-estimator:hover label.sk-toggleable__label-arrow:before {color: black;}#sk-20b2c97a-2baa-4074-b7de-4e797aa63b88 div.sk-toggleable__content {max-height: 0;max-width: 0;overflow: hidden;text-align: left;background-color: #f0f8ff;}#sk-20b2c97a-2baa-4074-b7de-4e797aa63b88 div.sk-toggleable__content pre {margin: 0.2em;color: black;border-radius: 0.25em;background-color: #f0f8ff;}#sk-20b2c97a-2baa-4074-b7de-4e797aa63b88 input.sk-toggleable__control:checked~div.sk-toggleable__content {max-height: 200px;max-width: 100%;overflow: auto;}#sk-20b2c97a-2baa-4074-b7de-4e797aa63b88 input.sk-toggleable__control:checked~label.sk-toggleable__label-arrow:before {content: \"▾\";}#sk-20b2c97a-2baa-4074-b7de-4e797aa63b88 div.sk-estimator input.sk-toggleable__control:checked~label.sk-toggleable__label {background-color: #d4ebff;}#sk-20b2c97a-2baa-4074-b7de-4e797aa63b88 div.sk-label input.sk-toggleable__control:checked~label.sk-toggleable__label {background-color: #d4ebff;}#sk-20b2c97a-2baa-4074-b7de-4e797aa63b88 input.sk-hidden--visually {border: 0;clip: rect(1px 1px 1px 1px);clip: rect(1px, 1px, 1px, 1px);height: 1px;margin: -1px;overflow: hidden;padding: 0;position: absolute;width: 1px;}#sk-20b2c97a-2baa-4074-b7de-4e797aa63b88 div.sk-estimator {font-family: monospace;background-color: #f0f8ff;border: 1px dotted black;border-radius: 0.25em;box-sizing: border-box;margin-bottom: 0.5em;}#sk-20b2c97a-2baa-4074-b7de-4e797aa63b88 div.sk-estimator:hover {background-color: #d4ebff;}#sk-20b2c97a-2baa-4074-b7de-4e797aa63b88 div.sk-parallel-item::after {content: \"\";width: 100%;border-bottom: 1px solid gray;flex-grow: 1;}#sk-20b2c97a-2baa-4074-b7de-4e797aa63b88 div.sk-label:hover label.sk-toggleable__label {background-color: #d4ebff;}#sk-20b2c97a-2baa-4074-b7de-4e797aa63b88 div.sk-serial::before {content: \"\";position: absolute;border-left: 1px solid gray;box-sizing: border-box;top: 2em;bottom: 0;left: 50%;}#sk-20b2c97a-2baa-4074-b7de-4e797aa63b88 div.sk-serial {display: flex;flex-direction: column;align-items: center;background-color: white;padding-right: 0.2em;padding-left: 0.2em;}#sk-20b2c97a-2baa-4074-b7de-4e797aa63b88 div.sk-item {z-index: 1;}#sk-20b2c97a-2baa-4074-b7de-4e797aa63b88 div.sk-parallel {display: flex;align-items: stretch;justify-content: center;background-color: white;}#sk-20b2c97a-2baa-4074-b7de-4e797aa63b88 div.sk-parallel::before {content: \"\";position: absolute;border-left: 1px solid gray;box-sizing: border-box;top: 2em;bottom: 0;left: 50%;}#sk-20b2c97a-2baa-4074-b7de-4e797aa63b88 div.sk-parallel-item {display: flex;flex-direction: column;position: relative;background-color: white;}#sk-20b2c97a-2baa-4074-b7de-4e797aa63b88 div.sk-parallel-item:first-child::after {align-self: flex-end;width: 50%;}#sk-20b2c97a-2baa-4074-b7de-4e797aa63b88 div.sk-parallel-item:last-child::after {align-self: flex-start;width: 50%;}#sk-20b2c97a-2baa-4074-b7de-4e797aa63b88 div.sk-parallel-item:only-child::after {width: 0;}#sk-20b2c97a-2baa-4074-b7de-4e797aa63b88 div.sk-dashed-wrapped {border: 1px dashed gray;margin: 0 0.4em 0.5em 0.4em;box-sizing: border-box;padding-bottom: 0.4em;background-color: white;position: relative;}#sk-20b2c97a-2baa-4074-b7de-4e797aa63b88 div.sk-label label {font-family: monospace;font-weight: bold;background-color: white;display: inline-block;line-height: 1.2em;}#sk-20b2c97a-2baa-4074-b7de-4e797aa63b88 div.sk-label-container {position: relative;z-index: 2;text-align: center;}#sk-20b2c97a-2baa-4074-b7de-4e797aa63b88 div.sk-container {/* jupyter's `normalize.less` sets `[hidden] { display: none; }` but bootstrap.min.css set `[hidden] { display: none !important; }` so we also need the `!important` here to be able to override the default hidden behavior on the sphinx rendered scikit-learn.org. See: https://github.com/scikit-learn/scikit-learn/issues/21755 */display: inline-block !important;position: relative;}#sk-20b2c97a-2baa-4074-b7de-4e797aa63b88 div.sk-text-repr-fallback {display: none;}</style><div id=\"sk-20b2c97a-2baa-4074-b7de-4e797aa63b88\" class=\"sk-top-container\"><div class=\"sk-text-repr-fallback\"><pre>Pipeline(steps=[(&#x27;preprocess&#x27;,\n",
       "                 ColumnTransformer(remainder=&#x27;passthrough&#x27;,\n",
       "                                   transformers=[(&#x27;date&#x27;, &#x27;drop&#x27;,\n",
       "                                                  &lt;sklearn.compose._column_transformer.make_column_selector object at 0x000001AA6F08E4F0&gt;),\n",
       "                                                 (&#x27;categorical&#x27;,\n",
       "                                                  OrdinalEncoder(),\n",
       "                                                  &lt;sklearn.compose._column_transformer.make_column_selector object at 0x000001AA6F08E2B0&gt;)])),\n",
       "                (&#x27;impute&#x27;, SimpleImputer()), (&#x27;variance&#x27;, VarianceThreshold()),\n",
       "                (&#x27;selector&#x27;, Lasso(alpha=0.8))])</pre><b>Please rerun this cell to show the HTML repr or trust the notebook.</b></div><div class=\"sk-container\" hidden><div class=\"sk-item sk-dashed-wrapped\"><div class=\"sk-label-container\"><div class=\"sk-label sk-toggleable\"><input class=\"sk-toggleable__control sk-hidden--visually\" id=\"911e1ea5-3499-45ee-b703-82e4b6a69e0b\" type=\"checkbox\" ><label for=\"911e1ea5-3499-45ee-b703-82e4b6a69e0b\" class=\"sk-toggleable__label sk-toggleable__label-arrow\">Pipeline</label><div class=\"sk-toggleable__content\"><pre>Pipeline(steps=[(&#x27;preprocess&#x27;,\n",
       "                 ColumnTransformer(remainder=&#x27;passthrough&#x27;,\n",
       "                                   transformers=[(&#x27;date&#x27;, &#x27;drop&#x27;,\n",
       "                                                  &lt;sklearn.compose._column_transformer.make_column_selector object at 0x000001AA6F08E4F0&gt;),\n",
       "                                                 (&#x27;categorical&#x27;,\n",
       "                                                  OrdinalEncoder(),\n",
       "                                                  &lt;sklearn.compose._column_transformer.make_column_selector object at 0x000001AA6F08E2B0&gt;)])),\n",
       "                (&#x27;impute&#x27;, SimpleImputer()), (&#x27;variance&#x27;, VarianceThreshold()),\n",
       "                (&#x27;selector&#x27;, Lasso(alpha=0.8))])</pre></div></div></div><div class=\"sk-serial\"><div class=\"sk-item sk-dashed-wrapped\"><div class=\"sk-label-container\"><div class=\"sk-label sk-toggleable\"><input class=\"sk-toggleable__control sk-hidden--visually\" id=\"91c09d73-8ea4-4eae-8172-130eb8a26daa\" type=\"checkbox\" ><label for=\"91c09d73-8ea4-4eae-8172-130eb8a26daa\" class=\"sk-toggleable__label sk-toggleable__label-arrow\">preprocess: ColumnTransformer</label><div class=\"sk-toggleable__content\"><pre>ColumnTransformer(remainder=&#x27;passthrough&#x27;,\n",
       "                  transformers=[(&#x27;date&#x27;, &#x27;drop&#x27;,\n",
       "                                 &lt;sklearn.compose._column_transformer.make_column_selector object at 0x000001AA6F08E4F0&gt;),\n",
       "                                (&#x27;categorical&#x27;, OrdinalEncoder(),\n",
       "                                 &lt;sklearn.compose._column_transformer.make_column_selector object at 0x000001AA6F08E2B0&gt;)])</pre></div></div></div><div class=\"sk-parallel\"><div class=\"sk-parallel-item\"><div class=\"sk-item\"><div class=\"sk-label-container\"><div class=\"sk-label sk-toggleable\"><input class=\"sk-toggleable__control sk-hidden--visually\" id=\"e64e0e2c-44cf-4caf-8cb6-b1f551c82342\" type=\"checkbox\" ><label for=\"e64e0e2c-44cf-4caf-8cb6-b1f551c82342\" class=\"sk-toggleable__label sk-toggleable__label-arrow\">date</label><div class=\"sk-toggleable__content\"><pre>&lt;sklearn.compose._column_transformer.make_column_selector object at 0x000001AA6F08E4F0&gt;</pre></div></div></div><div class=\"sk-serial\"><div class=\"sk-item\"><div class=\"sk-estimator sk-toggleable\"><input class=\"sk-toggleable__control sk-hidden--visually\" id=\"0e8bd818-89cd-4f3a-9464-fd9db092cc28\" type=\"checkbox\" ><label for=\"0e8bd818-89cd-4f3a-9464-fd9db092cc28\" class=\"sk-toggleable__label sk-toggleable__label-arrow\">drop</label><div class=\"sk-toggleable__content\"><pre>drop</pre></div></div></div></div></div></div><div class=\"sk-parallel-item\"><div class=\"sk-item\"><div class=\"sk-label-container\"><div class=\"sk-label sk-toggleable\"><input class=\"sk-toggleable__control sk-hidden--visually\" id=\"5d61c0ac-c854-4901-a8cd-7c0a066268a8\" type=\"checkbox\" ><label for=\"5d61c0ac-c854-4901-a8cd-7c0a066268a8\" class=\"sk-toggleable__label sk-toggleable__label-arrow\">categorical</label><div class=\"sk-toggleable__content\"><pre>&lt;sklearn.compose._column_transformer.make_column_selector object at 0x000001AA6F08E2B0&gt;</pre></div></div></div><div class=\"sk-serial\"><div class=\"sk-item\"><div class=\"sk-estimator sk-toggleable\"><input class=\"sk-toggleable__control sk-hidden--visually\" id=\"96d9d796-4ff2-4063-bd6c-0330cdc50f6b\" type=\"checkbox\" ><label for=\"96d9d796-4ff2-4063-bd6c-0330cdc50f6b\" class=\"sk-toggleable__label sk-toggleable__label-arrow\">OrdinalEncoder</label><div class=\"sk-toggleable__content\"><pre>OrdinalEncoder()</pre></div></div></div></div></div></div><div class=\"sk-parallel-item\"><div class=\"sk-item\"><div class=\"sk-label-container\"><div class=\"sk-label sk-toggleable\"><input class=\"sk-toggleable__control sk-hidden--visually\" id=\"53354095-cae7-4d09-a595-046524f72060\" type=\"checkbox\" ><label for=\"53354095-cae7-4d09-a595-046524f72060\" class=\"sk-toggleable__label sk-toggleable__label-arrow\">remainder</label><div class=\"sk-toggleable__content\"><pre>[&#x27;passengers&#x27;, &#x27;distance&#x27;, &#x27;tip&#x27;, &#x27;tolls&#x27;, &#x27;total&#x27;]</pre></div></div></div><div class=\"sk-serial\"><div class=\"sk-item\"><div class=\"sk-estimator sk-toggleable\"><input class=\"sk-toggleable__control sk-hidden--visually\" id=\"85e5ed57-6d57-4a51-822f-83d67dc6f88b\" type=\"checkbox\" ><label for=\"85e5ed57-6d57-4a51-822f-83d67dc6f88b\" class=\"sk-toggleable__label sk-toggleable__label-arrow\">passthrough</label><div class=\"sk-toggleable__content\"><pre>passthrough</pre></div></div></div></div></div></div></div></div><div class=\"sk-item\"><div class=\"sk-estimator sk-toggleable\"><input class=\"sk-toggleable__control sk-hidden--visually\" id=\"2ad7199d-40aa-464d-b38a-1121c683c615\" type=\"checkbox\" ><label for=\"2ad7199d-40aa-464d-b38a-1121c683c615\" class=\"sk-toggleable__label sk-toggleable__label-arrow\">SimpleImputer</label><div class=\"sk-toggleable__content\"><pre>SimpleImputer()</pre></div></div></div><div class=\"sk-item\"><div class=\"sk-estimator sk-toggleable\"><input class=\"sk-toggleable__control sk-hidden--visually\" id=\"a2b11a0f-a4fa-4941-ba23-ccdcc75dfda3\" type=\"checkbox\" ><label for=\"a2b11a0f-a4fa-4941-ba23-ccdcc75dfda3\" class=\"sk-toggleable__label sk-toggleable__label-arrow\">VarianceThreshold</label><div class=\"sk-toggleable__content\"><pre>VarianceThreshold()</pre></div></div></div><div class=\"sk-item\"><div class=\"sk-estimator sk-toggleable\"><input class=\"sk-toggleable__control sk-hidden--visually\" id=\"2f509b89-0314-4751-9c28-f69ecfe84d48\" type=\"checkbox\" ><label for=\"2f509b89-0314-4751-9c28-f69ecfe84d48\" class=\"sk-toggleable__label sk-toggleable__label-arrow\">Lasso</label><div class=\"sk-toggleable__content\"><pre>Lasso(alpha=0.8)</pre></div></div></div></div></div></div></div>"
      ],
      "text/plain": [
       "Pipeline(steps=[('preprocess',\n",
       "                 ColumnTransformer(remainder='passthrough',\n",
       "                                   transformers=[('date', 'drop',\n",
       "                                                  <sklearn.compose._column_transformer.make_column_selector object at 0x000001AA6F08E4F0>),\n",
       "                                                 ('categorical',\n",
       "                                                  OrdinalEncoder(),\n",
       "                                                  <sklearn.compose._column_transformer.make_column_selector object at 0x000001AA6F08E2B0>)])),\n",
       "                ('impute', SimpleImputer()), ('variance', VarianceThreshold()),\n",
       "                ('selector', Lasso(alpha=0.8))])"
      ]
     },
     "execution_count": 109,
     "metadata": {},
     "output_type": "execute_result"
    }
   ],
   "source": [
    "pipe.fit(X.drop(columns='fare'), X['fare'])"
   ]
  },
  {
   "cell_type": "code",
   "execution_count": 110,
   "metadata": {},
   "outputs": [
    {
     "data": {
      "image/png": "[encoded data removed]",
      "text/plain": [
       "<Figure size 1800x1200 with 1 Axes>"
      ]
     },
     "metadata": {
      "needs_background": "light"
     },
     "output_type": "display_data"
    }
   ],
   "source": [
    "fig, ax = plt.subplots(dpi=300)\n",
    "ax.barh(\n",
    "    y=pipe['variance'].get_feature_names_out(),\n",
    "    width=pipe['selector'].coef_)\n",
    "fig .tight_layout()"
   ]
  },
  {
   "cell_type": "markdown",
   "metadata": {},
   "source": [
    "#### Feature selection using SelectFromModel"
   ]
  },
  {
   "cell_type": "code",
   "execution_count": 111,
   "metadata": {},
   "outputs": [
    {
     "data": {
      "text/html": [
       "<style>#sk-7d4b25b2-a929-4ad3-88f6-ad7c96c77fd2 {color: black;background-color: white;}#sk-7d4b25b2-a929-4ad3-88f6-ad7c96c77fd2 pre{padding: 0;}#sk-7d4b25b2-a929-4ad3-88f6-ad7c96c77fd2 div.sk-toggleable {background-color: white;}#sk-7d4b25b2-a929-4ad3-88f6-ad7c96c77fd2 label.sk-toggleable__label {cursor: pointer;display: block;width: 100%;margin-bottom: 0;padding: 0.3em;box-sizing: border-box;text-align: center;}#sk-7d4b25b2-a929-4ad3-88f6-ad7c96c77fd2 label.sk-toggleable__label-arrow:before {content: \"▸\";float: left;margin-right: 0.25em;color: #696969;}#sk-7d4b25b2-a929-4ad3-88f6-ad7c96c77fd2 label.sk-toggleable__label-arrow:hover:before {color: black;}#sk-7d4b25b2-a929-4ad3-88f6-ad7c96c77fd2 div.sk-estimator:hover label.sk-toggleable__label-arrow:before {color: black;}#sk-7d4b25b2-a929-4ad3-88f6-ad7c96c77fd2 div.sk-toggleable__content {max-height: 0;max-width: 0;overflow: hidden;text-align: left;background-color: #f0f8ff;}#sk-7d4b25b2-a929-4ad3-88f6-ad7c96c77fd2 div.sk-toggleable__content pre {margin: 0.2em;color: black;border-radius: 0.25em;background-color: #f0f8ff;}#sk-7d4b25b2-a929-4ad3-88f6-ad7c96c77fd2 input.sk-toggleable__control:checked~div.sk-toggleable__content {max-height: 200px;max-width: 100%;overflow: auto;}#sk-7d4b25b2-a929-4ad3-88f6-ad7c96c77fd2 input.sk-toggleable__control:checked~label.sk-toggleable__label-arrow:before {content: \"▾\";}#sk-7d4b25b2-a929-4ad3-88f6-ad7c96c77fd2 div.sk-estimator input.sk-toggleable__control:checked~label.sk-toggleable__label {background-color: #d4ebff;}#sk-7d4b25b2-a929-4ad3-88f6-ad7c96c77fd2 div.sk-label input.sk-toggleable__control:checked~label.sk-toggleable__label {background-color: #d4ebff;}#sk-7d4b25b2-a929-4ad3-88f6-ad7c96c77fd2 input.sk-hidden--visually {border: 0;clip: rect(1px 1px 1px 1px);clip: rect(1px, 1px, 1px, 1px);height: 1px;margin: -1px;overflow: hidden;padding: 0;position: absolute;width: 1px;}#sk-7d4b25b2-a929-4ad3-88f6-ad7c96c77fd2 div.sk-estimator {font-family: monospace;background-color: #f0f8ff;border: 1px dotted black;border-radius: 0.25em;box-sizing: border-box;margin-bottom: 0.5em;}#sk-7d4b25b2-a929-4ad3-88f6-ad7c96c77fd2 div.sk-estimator:hover {background-color: #d4ebff;}#sk-7d4b25b2-a929-4ad3-88f6-ad7c96c77fd2 div.sk-parallel-item::after {content: \"\";width: 100%;border-bottom: 1px solid gray;flex-grow: 1;}#sk-7d4b25b2-a929-4ad3-88f6-ad7c96c77fd2 div.sk-label:hover label.sk-toggleable__label {background-color: #d4ebff;}#sk-7d4b25b2-a929-4ad3-88f6-ad7c96c77fd2 div.sk-serial::before {content: \"\";position: absolute;border-left: 1px solid gray;box-sizing: border-box;top: 2em;bottom: 0;left: 50%;}#sk-7d4b25b2-a929-4ad3-88f6-ad7c96c77fd2 div.sk-serial {display: flex;flex-direction: column;align-items: center;background-color: white;padding-right: 0.2em;padding-left: 0.2em;}#sk-7d4b25b2-a929-4ad3-88f6-ad7c96c77fd2 div.sk-item {z-index: 1;}#sk-7d4b25b2-a929-4ad3-88f6-ad7c96c77fd2 div.sk-parallel {display: flex;align-items: stretch;justify-content: center;background-color: white;}#sk-7d4b25b2-a929-4ad3-88f6-ad7c96c77fd2 div.sk-parallel::before {content: \"\";position: absolute;border-left: 1px solid gray;box-sizing: border-box;top: 2em;bottom: 0;left: 50%;}#sk-7d4b25b2-a929-4ad3-88f6-ad7c96c77fd2 div.sk-parallel-item {display: flex;flex-direction: column;position: relative;background-color: white;}#sk-7d4b25b2-a929-4ad3-88f6-ad7c96c77fd2 div.sk-parallel-item:first-child::after {align-self: flex-end;width: 50%;}#sk-7d4b25b2-a929-4ad3-88f6-ad7c96c77fd2 div.sk-parallel-item:last-child::after {align-self: flex-start;width: 50%;}#sk-7d4b25b2-a929-4ad3-88f6-ad7c96c77fd2 div.sk-parallel-item:only-child::after {width: 0;}#sk-7d4b25b2-a929-4ad3-88f6-ad7c96c77fd2 div.sk-dashed-wrapped {border: 1px dashed gray;margin: 0 0.4em 0.5em 0.4em;box-sizing: border-box;padding-bottom: 0.4em;background-color: white;position: relative;}#sk-7d4b25b2-a929-4ad3-88f6-ad7c96c77fd2 div.sk-label label {font-family: monospace;font-weight: bold;background-color: white;display: inline-block;line-height: 1.2em;}#sk-7d4b25b2-a929-4ad3-88f6-ad7c96c77fd2 div.sk-label-container {position: relative;z-index: 2;text-align: center;}#sk-7d4b25b2-a929-4ad3-88f6-ad7c96c77fd2 div.sk-container {/* jupyter's `normalize.less` sets `[hidden] { display: none; }` but bootstrap.min.css set `[hidden] { display: none !important; }` so we also need the `!important` here to be able to override the default hidden behavior on the sphinx rendered scikit-learn.org. See: https://github.com/scikit-learn/scikit-learn/issues/21755 */display: inline-block !important;position: relative;}#sk-7d4b25b2-a929-4ad3-88f6-ad7c96c77fd2 div.sk-text-repr-fallback {display: none;}</style><div id=\"sk-7d4b25b2-a929-4ad3-88f6-ad7c96c77fd2\" class=\"sk-top-container\"><div class=\"sk-text-repr-fallback\"><pre>Pipeline(steps=[(&#x27;preprocess&#x27;,\n",
       "                 ColumnTransformer(remainder=&#x27;passthrough&#x27;,\n",
       "                                   transformers=[(&#x27;date&#x27;, &#x27;drop&#x27;,\n",
       "                                                  &lt;sklearn.compose._column_transformer.make_column_selector object at 0x000001AA6F08E4F0&gt;),\n",
       "                                                 (&#x27;categorical&#x27;,\n",
       "                                                  OrdinalEncoder(),\n",
       "                                                  &lt;sklearn.compose._column_transformer.make_column_selector object at 0x000001AA6F08E2B0&gt;)])),\n",
       "                (&#x27;impute&#x27;, SimpleImputer()), (&#x27;variance&#x27;, VarianceThreshold()),\n",
       "                (&#x27;selector&#x27;, SelectFromModel(estimator=Lasso(alpha=0.8)))])</pre><b>Please rerun this cell to show the HTML repr or trust the notebook.</b></div><div class=\"sk-container\" hidden><div class=\"sk-item sk-dashed-wrapped\"><div class=\"sk-label-container\"><div class=\"sk-label sk-toggleable\"><input class=\"sk-toggleable__control sk-hidden--visually\" id=\"189649b4-36fd-48db-8b60-4c623cb537ef\" type=\"checkbox\" ><label for=\"189649b4-36fd-48db-8b60-4c623cb537ef\" class=\"sk-toggleable__label sk-toggleable__label-arrow\">Pipeline</label><div class=\"sk-toggleable__content\"><pre>Pipeline(steps=[(&#x27;preprocess&#x27;,\n",
       "                 ColumnTransformer(remainder=&#x27;passthrough&#x27;,\n",
       "                                   transformers=[(&#x27;date&#x27;, &#x27;drop&#x27;,\n",
       "                                                  &lt;sklearn.compose._column_transformer.make_column_selector object at 0x000001AA6F08E4F0&gt;),\n",
       "                                                 (&#x27;categorical&#x27;,\n",
       "                                                  OrdinalEncoder(),\n",
       "                                                  &lt;sklearn.compose._column_transformer.make_column_selector object at 0x000001AA6F08E2B0&gt;)])),\n",
       "                (&#x27;impute&#x27;, SimpleImputer()), (&#x27;variance&#x27;, VarianceThreshold()),\n",
       "                (&#x27;selector&#x27;, SelectFromModel(estimator=Lasso(alpha=0.8)))])</pre></div></div></div><div class=\"sk-serial\"><div class=\"sk-item sk-dashed-wrapped\"><div class=\"sk-label-container\"><div class=\"sk-label sk-toggleable\"><input class=\"sk-toggleable__control sk-hidden--visually\" id=\"8b54a2e0-3451-4749-adb0-831fd0325f67\" type=\"checkbox\" ><label for=\"8b54a2e0-3451-4749-adb0-831fd0325f67\" class=\"sk-toggleable__label sk-toggleable__label-arrow\">preprocess: ColumnTransformer</label><div class=\"sk-toggleable__content\"><pre>ColumnTransformer(remainder=&#x27;passthrough&#x27;,\n",
       "                  transformers=[(&#x27;date&#x27;, &#x27;drop&#x27;,\n",
       "                                 &lt;sklearn.compose._column_transformer.make_column_selector object at 0x000001AA6F08E4F0&gt;),\n",
       "                                (&#x27;categorical&#x27;, OrdinalEncoder(),\n",
       "                                 &lt;sklearn.compose._column_transformer.make_column_selector object at 0x000001AA6F08E2B0&gt;)])</pre></div></div></div><div class=\"sk-parallel\"><div class=\"sk-parallel-item\"><div class=\"sk-item\"><div class=\"sk-label-container\"><div class=\"sk-label sk-toggleable\"><input class=\"sk-toggleable__control sk-hidden--visually\" id=\"53a49e8c-1a35-4e00-ac62-32739afa38cd\" type=\"checkbox\" ><label for=\"53a49e8c-1a35-4e00-ac62-32739afa38cd\" class=\"sk-toggleable__label sk-toggleable__label-arrow\">date</label><div class=\"sk-toggleable__content\"><pre>&lt;sklearn.compose._column_transformer.make_column_selector object at 0x000001AA6F08E4F0&gt;</pre></div></div></div><div class=\"sk-serial\"><div class=\"sk-item\"><div class=\"sk-estimator sk-toggleable\"><input class=\"sk-toggleable__control sk-hidden--visually\" id=\"0507f9e3-10e2-4466-b261-6114e18cc294\" type=\"checkbox\" ><label for=\"0507f9e3-10e2-4466-b261-6114e18cc294\" class=\"sk-toggleable__label sk-toggleable__label-arrow\">drop</label><div class=\"sk-toggleable__content\"><pre>drop</pre></div></div></div></div></div></div><div class=\"sk-parallel-item\"><div class=\"sk-item\"><div class=\"sk-label-container\"><div class=\"sk-label sk-toggleable\"><input class=\"sk-toggleable__control sk-hidden--visually\" id=\"a31b64cf-4f39-42b1-9b22-8dc84b85cc36\" type=\"checkbox\" ><label for=\"a31b64cf-4f39-42b1-9b22-8dc84b85cc36\" class=\"sk-toggleable__label sk-toggleable__label-arrow\">categorical</label><div class=\"sk-toggleable__content\"><pre>&lt;sklearn.compose._column_transformer.make_column_selector object at 0x000001AA6F08E2B0&gt;</pre></div></div></div><div class=\"sk-serial\"><div class=\"sk-item\"><div class=\"sk-estimator sk-toggleable\"><input class=\"sk-toggleable__control sk-hidden--visually\" id=\"305dbb3a-a865-4c46-97bf-5f4188e62a6b\" type=\"checkbox\" ><label for=\"305dbb3a-a865-4c46-97bf-5f4188e62a6b\" class=\"sk-toggleable__label sk-toggleable__label-arrow\">OrdinalEncoder</label><div class=\"sk-toggleable__content\"><pre>OrdinalEncoder()</pre></div></div></div></div></div></div><div class=\"sk-parallel-item\"><div class=\"sk-item\"><div class=\"sk-label-container\"><div class=\"sk-label sk-toggleable\"><input class=\"sk-toggleable__control sk-hidden--visually\" id=\"c8d6b654-fcb0-4030-b755-83c07d65a230\" type=\"checkbox\" ><label for=\"c8d6b654-fcb0-4030-b755-83c07d65a230\" class=\"sk-toggleable__label sk-toggleable__label-arrow\">remainder</label><div class=\"sk-toggleable__content\"><pre>[&#x27;passengers&#x27;, &#x27;distance&#x27;, &#x27;tip&#x27;, &#x27;tolls&#x27;, &#x27;total&#x27;]</pre></div></div></div><div class=\"sk-serial\"><div class=\"sk-item\"><div class=\"sk-estimator sk-toggleable\"><input class=\"sk-toggleable__control sk-hidden--visually\" id=\"c4add935-ddb5-4e3f-90fd-2bc88e82b175\" type=\"checkbox\" ><label for=\"c4add935-ddb5-4e3f-90fd-2bc88e82b175\" class=\"sk-toggleable__label sk-toggleable__label-arrow\">passthrough</label><div class=\"sk-toggleable__content\"><pre>passthrough</pre></div></div></div></div></div></div></div></div><div class=\"sk-item\"><div class=\"sk-estimator sk-toggleable\"><input class=\"sk-toggleable__control sk-hidden--visually\" id=\"7e4d0a00-e5a1-498c-a21d-56dc6de81c01\" type=\"checkbox\" ><label for=\"7e4d0a00-e5a1-498c-a21d-56dc6de81c01\" class=\"sk-toggleable__label sk-toggleable__label-arrow\">SimpleImputer</label><div class=\"sk-toggleable__content\"><pre>SimpleImputer()</pre></div></div></div><div class=\"sk-item\"><div class=\"sk-estimator sk-toggleable\"><input class=\"sk-toggleable__control sk-hidden--visually\" id=\"7c76fb21-326f-4c03-b48b-3266ae4b7d7f\" type=\"checkbox\" ><label for=\"7c76fb21-326f-4c03-b48b-3266ae4b7d7f\" class=\"sk-toggleable__label sk-toggleable__label-arrow\">VarianceThreshold</label><div class=\"sk-toggleable__content\"><pre>VarianceThreshold()</pre></div></div></div><div class=\"sk-item sk-dashed-wrapped\"><div class=\"sk-label-container\"><div class=\"sk-label sk-toggleable\"><input class=\"sk-toggleable__control sk-hidden--visually\" id=\"f3d1a3fd-704f-4e02-aa95-92f6d145874f\" type=\"checkbox\" ><label for=\"f3d1a3fd-704f-4e02-aa95-92f6d145874f\" class=\"sk-toggleable__label sk-toggleable__label-arrow\">selector: SelectFromModel</label><div class=\"sk-toggleable__content\"><pre>SelectFromModel(estimator=Lasso(alpha=0.8))</pre></div></div></div><div class=\"sk-parallel\"><div class=\"sk-parallel-item\"><div class=\"sk-item\"><div class=\"sk-serial\"><div class=\"sk-item\"><div class=\"sk-estimator sk-toggleable\"><input class=\"sk-toggleable__control sk-hidden--visually\" id=\"ab12b69d-06d1-44c2-8407-593bbc44c13d\" type=\"checkbox\" ><label for=\"ab12b69d-06d1-44c2-8407-593bbc44c13d\" class=\"sk-toggleable__label sk-toggleable__label-arrow\">Lasso</label><div class=\"sk-toggleable__content\"><pre>Lasso(alpha=0.8)</pre></div></div></div></div></div></div></div></div></div></div></div></div>"
      ],
      "text/plain": [
       "Pipeline(steps=[('preprocess',\n",
       "                 ColumnTransformer(remainder='passthrough',\n",
       "                                   transformers=[('date', 'drop',\n",
       "                                                  <sklearn.compose._column_transformer.make_column_selector object at 0x000001AA6F08E4F0>),\n",
       "                                                 ('categorical',\n",
       "                                                  OrdinalEncoder(),\n",
       "                                                  <sklearn.compose._column_transformer.make_column_selector object at 0x000001AA6F08E2B0>)])),\n",
       "                ('impute', SimpleImputer()), ('variance', VarianceThreshold()),\n",
       "                ('selector', SelectFromModel(estimator=Lasso(alpha=0.8)))])"
      ]
     },
     "execution_count": 111,
     "metadata": {},
     "output_type": "execute_result"
    }
   ],
   "source": [
    "from sklearn.feature_selection import SelectFromModel\n",
    "\n",
    "pipe = Pipeline(\n",
    "    steps=[\n",
    "        ('preprocess', preproc),\n",
    "        ('impute', SimpleImputer()),\n",
    "        ('variance', VarianceThreshold()),\n",
    "        ('selector', SelectFromModel(Lasso(alpha=.8))),\n",
    "    ]\n",
    ")\n",
    "pipe"
   ]
  },
  {
   "cell_type": "code",
   "execution_count": 112,
   "metadata": {},
   "outputs": [
    {
     "data": {
      "text/plain": [
       "array([[ 57.  ,  37.  ,   0.  ,   0.  ,  15.8 ],\n",
       "       [ 75.  ,  89.  ,   0.  ,   0.  ,   6.8 ],\n",
       "       [ 45.  ,  51.  ,   1.2 ,   0.  ,  10.5 ],\n",
       "       ...,\n",
       "       [ 34.  ,  21.  ,   0.  ,   0.  ,  17.3 ],\n",
       "       [ 47.  ,  49.  ,   0.  ,   0.  ,   6.8 ],\n",
       "       [ 11.  , 181.  ,   3.36,   0.  ,  20.16]])"
      ]
     },
     "execution_count": 112,
     "metadata": {},
     "output_type": "execute_result"
    }
   ],
   "source": [
    "pipe.fit_transform(X.drop(columns='fare'), X['fare'])"
   ]
  },
  {
   "cell_type": "markdown",
   "metadata": {},
   "source": [
    "### Recursive feature elimination"
   ]
  },
  {
   "cell_type": "code",
   "execution_count": 91,
   "metadata": {},
   "outputs": [
    {
     "data": {
      "text/html": [
       "<style>#sk-8ee87598-9ee3-40b2-9b3c-a40b02b8a0d2 {color: black;background-color: white;}#sk-8ee87598-9ee3-40b2-9b3c-a40b02b8a0d2 pre{padding: 0;}#sk-8ee87598-9ee3-40b2-9b3c-a40b02b8a0d2 div.sk-toggleable {background-color: white;}#sk-8ee87598-9ee3-40b2-9b3c-a40b02b8a0d2 label.sk-toggleable__label {cursor: pointer;display: block;width: 100%;margin-bottom: 0;padding: 0.3em;box-sizing: border-box;text-align: center;}#sk-8ee87598-9ee3-40b2-9b3c-a40b02b8a0d2 label.sk-toggleable__label-arrow:before {content: \"▸\";float: left;margin-right: 0.25em;color: #696969;}#sk-8ee87598-9ee3-40b2-9b3c-a40b02b8a0d2 label.sk-toggleable__label-arrow:hover:before {color: black;}#sk-8ee87598-9ee3-40b2-9b3c-a40b02b8a0d2 div.sk-estimator:hover label.sk-toggleable__label-arrow:before {color: black;}#sk-8ee87598-9ee3-40b2-9b3c-a40b02b8a0d2 div.sk-toggleable__content {max-height: 0;max-width: 0;overflow: hidden;text-align: left;background-color: #f0f8ff;}#sk-8ee87598-9ee3-40b2-9b3c-a40b02b8a0d2 div.sk-toggleable__content pre {margin: 0.2em;color: black;border-radius: 0.25em;background-color: #f0f8ff;}#sk-8ee87598-9ee3-40b2-9b3c-a40b02b8a0d2 input.sk-toggleable__control:checked~div.sk-toggleable__content {max-height: 200px;max-width: 100%;overflow: auto;}#sk-8ee87598-9ee3-40b2-9b3c-a40b02b8a0d2 input.sk-toggleable__control:checked~label.sk-toggleable__label-arrow:before {content: \"▾\";}#sk-8ee87598-9ee3-40b2-9b3c-a40b02b8a0d2 div.sk-estimator input.sk-toggleable__control:checked~label.sk-toggleable__label {background-color: #d4ebff;}#sk-8ee87598-9ee3-40b2-9b3c-a40b02b8a0d2 div.sk-label input.sk-toggleable__control:checked~label.sk-toggleable__label {background-color: #d4ebff;}#sk-8ee87598-9ee3-40b2-9b3c-a40b02b8a0d2 input.sk-hidden--visually {border: 0;clip: rect(1px 1px 1px 1px);clip: rect(1px, 1px, 1px, 1px);height: 1px;margin: -1px;overflow: hidden;padding: 0;position: absolute;width: 1px;}#sk-8ee87598-9ee3-40b2-9b3c-a40b02b8a0d2 div.sk-estimator {font-family: monospace;background-color: #f0f8ff;border: 1px dotted black;border-radius: 0.25em;box-sizing: border-box;margin-bottom: 0.5em;}#sk-8ee87598-9ee3-40b2-9b3c-a40b02b8a0d2 div.sk-estimator:hover {background-color: #d4ebff;}#sk-8ee87598-9ee3-40b2-9b3c-a40b02b8a0d2 div.sk-parallel-item::after {content: \"\";width: 100%;border-bottom: 1px solid gray;flex-grow: 1;}#sk-8ee87598-9ee3-40b2-9b3c-a40b02b8a0d2 div.sk-label:hover label.sk-toggleable__label {background-color: #d4ebff;}#sk-8ee87598-9ee3-40b2-9b3c-a40b02b8a0d2 div.sk-serial::before {content: \"\";position: absolute;border-left: 1px solid gray;box-sizing: border-box;top: 2em;bottom: 0;left: 50%;}#sk-8ee87598-9ee3-40b2-9b3c-a40b02b8a0d2 div.sk-serial {display: flex;flex-direction: column;align-items: center;background-color: white;padding-right: 0.2em;padding-left: 0.2em;}#sk-8ee87598-9ee3-40b2-9b3c-a40b02b8a0d2 div.sk-item {z-index: 1;}#sk-8ee87598-9ee3-40b2-9b3c-a40b02b8a0d2 div.sk-parallel {display: flex;align-items: stretch;justify-content: center;background-color: white;}#sk-8ee87598-9ee3-40b2-9b3c-a40b02b8a0d2 div.sk-parallel::before {content: \"\";position: absolute;border-left: 1px solid gray;box-sizing: border-box;top: 2em;bottom: 0;left: 50%;}#sk-8ee87598-9ee3-40b2-9b3c-a40b02b8a0d2 div.sk-parallel-item {display: flex;flex-direction: column;position: relative;background-color: white;}#sk-8ee87598-9ee3-40b2-9b3c-a40b02b8a0d2 div.sk-parallel-item:first-child::after {align-self: flex-end;width: 50%;}#sk-8ee87598-9ee3-40b2-9b3c-a40b02b8a0d2 div.sk-parallel-item:last-child::after {align-self: flex-start;width: 50%;}#sk-8ee87598-9ee3-40b2-9b3c-a40b02b8a0d2 div.sk-parallel-item:only-child::after {width: 0;}#sk-8ee87598-9ee3-40b2-9b3c-a40b02b8a0d2 div.sk-dashed-wrapped {border: 1px dashed gray;margin: 0 0.4em 0.5em 0.4em;box-sizing: border-box;padding-bottom: 0.4em;background-color: white;position: relative;}#sk-8ee87598-9ee3-40b2-9b3c-a40b02b8a0d2 div.sk-label label {font-family: monospace;font-weight: bold;background-color: white;display: inline-block;line-height: 1.2em;}#sk-8ee87598-9ee3-40b2-9b3c-a40b02b8a0d2 div.sk-label-container {position: relative;z-index: 2;text-align: center;}#sk-8ee87598-9ee3-40b2-9b3c-a40b02b8a0d2 div.sk-container {/* jupyter's `normalize.less` sets `[hidden] { display: none; }` but bootstrap.min.css set `[hidden] { display: none !important; }` so we also need the `!important` here to be able to override the default hidden behavior on the sphinx rendered scikit-learn.org. See: https://github.com/scikit-learn/scikit-learn/issues/21755 */display: inline-block !important;position: relative;}#sk-8ee87598-9ee3-40b2-9b3c-a40b02b8a0d2 div.sk-text-repr-fallback {display: none;}</style><div id=\"sk-8ee87598-9ee3-40b2-9b3c-a40b02b8a0d2\" class=\"sk-top-container\"><div class=\"sk-text-repr-fallback\"><pre>Pipeline(steps=[(&#x27;preprocess&#x27;,\n",
       "                 ColumnTransformer(remainder=&#x27;passthrough&#x27;,\n",
       "                                   transformers=[(&#x27;date&#x27;, &#x27;drop&#x27;,\n",
       "                                                  &lt;sklearn.compose._column_transformer.make_column_selector object at 0x000001AA6BE4F0A0&gt;),\n",
       "                                                 (&#x27;categorical&#x27;,\n",
       "                                                  OrdinalEncoder(),\n",
       "                                                  &lt;sklearn.compose._column_transformer.make_column_selector object at 0x000001AA6BE59D30&gt;)])),\n",
       "                (&#x27;impute&#x27;, SimpleImputer()), (&#x27;variance&#x27;, VarianceThreshold()),\n",
       "                (&#x27;selector&#x27;,\n",
       "                 RFE(estimator=Lasso(alpha=0.8), n_features_to_select=4))])</pre><b>Please rerun this cell to show the HTML repr or trust the notebook.</b></div><div class=\"sk-container\" hidden><div class=\"sk-item sk-dashed-wrapped\"><div class=\"sk-label-container\"><div class=\"sk-label sk-toggleable\"><input class=\"sk-toggleable__control sk-hidden--visually\" id=\"28b932ed-674f-4954-9dad-7d7d2a22f712\" type=\"checkbox\" ><label for=\"28b932ed-674f-4954-9dad-7d7d2a22f712\" class=\"sk-toggleable__label sk-toggleable__label-arrow\">Pipeline</label><div class=\"sk-toggleable__content\"><pre>Pipeline(steps=[(&#x27;preprocess&#x27;,\n",
       "                 ColumnTransformer(remainder=&#x27;passthrough&#x27;,\n",
       "                                   transformers=[(&#x27;date&#x27;, &#x27;drop&#x27;,\n",
       "                                                  &lt;sklearn.compose._column_transformer.make_column_selector object at 0x000001AA6BE4F0A0&gt;),\n",
       "                                                 (&#x27;categorical&#x27;,\n",
       "                                                  OrdinalEncoder(),\n",
       "                                                  &lt;sklearn.compose._column_transformer.make_column_selector object at 0x000001AA6BE59D30&gt;)])),\n",
       "                (&#x27;impute&#x27;, SimpleImputer()), (&#x27;variance&#x27;, VarianceThreshold()),\n",
       "                (&#x27;selector&#x27;,\n",
       "                 RFE(estimator=Lasso(alpha=0.8), n_features_to_select=4))])</pre></div></div></div><div class=\"sk-serial\"><div class=\"sk-item sk-dashed-wrapped\"><div class=\"sk-label-container\"><div class=\"sk-label sk-toggleable\"><input class=\"sk-toggleable__control sk-hidden--visually\" id=\"78ff0df6-0ea1-483f-9a34-2b9fd1c7bbd4\" type=\"checkbox\" ><label for=\"78ff0df6-0ea1-483f-9a34-2b9fd1c7bbd4\" class=\"sk-toggleable__label sk-toggleable__label-arrow\">preprocess: ColumnTransformer</label><div class=\"sk-toggleable__content\"><pre>ColumnTransformer(remainder=&#x27;passthrough&#x27;,\n",
       "                  transformers=[(&#x27;date&#x27;, &#x27;drop&#x27;,\n",
       "                                 &lt;sklearn.compose._column_transformer.make_column_selector object at 0x000001AA6BE4F0A0&gt;),\n",
       "                                (&#x27;categorical&#x27;, OrdinalEncoder(),\n",
       "                                 &lt;sklearn.compose._column_transformer.make_column_selector object at 0x000001AA6BE59D30&gt;)])</pre></div></div></div><div class=\"sk-parallel\"><div class=\"sk-parallel-item\"><div class=\"sk-item\"><div class=\"sk-label-container\"><div class=\"sk-label sk-toggleable\"><input class=\"sk-toggleable__control sk-hidden--visually\" id=\"71828bff-10fa-4fc9-8d0b-640f10b44d47\" type=\"checkbox\" ><label for=\"71828bff-10fa-4fc9-8d0b-640f10b44d47\" class=\"sk-toggleable__label sk-toggleable__label-arrow\">date</label><div class=\"sk-toggleable__content\"><pre>&lt;sklearn.compose._column_transformer.make_column_selector object at 0x000001AA6BE4F0A0&gt;</pre></div></div></div><div class=\"sk-serial\"><div class=\"sk-item\"><div class=\"sk-estimator sk-toggleable\"><input class=\"sk-toggleable__control sk-hidden--visually\" id=\"dc3db9ce-d91e-4075-8125-9e30d237fdfa\" type=\"checkbox\" ><label for=\"dc3db9ce-d91e-4075-8125-9e30d237fdfa\" class=\"sk-toggleable__label sk-toggleable__label-arrow\">drop</label><div class=\"sk-toggleable__content\"><pre>drop</pre></div></div></div></div></div></div><div class=\"sk-parallel-item\"><div class=\"sk-item\"><div class=\"sk-label-container\"><div class=\"sk-label sk-toggleable\"><input class=\"sk-toggleable__control sk-hidden--visually\" id=\"fb306706-f052-400d-948e-ff87c58fd465\" type=\"checkbox\" ><label for=\"fb306706-f052-400d-948e-ff87c58fd465\" class=\"sk-toggleable__label sk-toggleable__label-arrow\">categorical</label><div class=\"sk-toggleable__content\"><pre>&lt;sklearn.compose._column_transformer.make_column_selector object at 0x000001AA6BE59D30&gt;</pre></div></div></div><div class=\"sk-serial\"><div class=\"sk-item\"><div class=\"sk-estimator sk-toggleable\"><input class=\"sk-toggleable__control sk-hidden--visually\" id=\"c40074f3-04f7-441e-8c85-8368e3512c41\" type=\"checkbox\" ><label for=\"c40074f3-04f7-441e-8c85-8368e3512c41\" class=\"sk-toggleable__label sk-toggleable__label-arrow\">OrdinalEncoder</label><div class=\"sk-toggleable__content\"><pre>OrdinalEncoder()</pre></div></div></div></div></div></div><div class=\"sk-parallel-item\"><div class=\"sk-item\"><div class=\"sk-label-container\"><div class=\"sk-label sk-toggleable\"><input class=\"sk-toggleable__control sk-hidden--visually\" id=\"dcb9b8b4-a38e-4243-8067-e53ae84aaad6\" type=\"checkbox\" ><label for=\"dcb9b8b4-a38e-4243-8067-e53ae84aaad6\" class=\"sk-toggleable__label sk-toggleable__label-arrow\">remainder</label><div class=\"sk-toggleable__content\"><pre>[&#x27;passengers&#x27;, &#x27;distance&#x27;, &#x27;tip&#x27;, &#x27;tolls&#x27;, &#x27;total&#x27;]</pre></div></div></div><div class=\"sk-serial\"><div class=\"sk-item\"><div class=\"sk-estimator sk-toggleable\"><input class=\"sk-toggleable__control sk-hidden--visually\" id=\"0ce35b1b-cc39-4963-bba1-26bea8023d43\" type=\"checkbox\" ><label for=\"0ce35b1b-cc39-4963-bba1-26bea8023d43\" class=\"sk-toggleable__label sk-toggleable__label-arrow\">passthrough</label><div class=\"sk-toggleable__content\"><pre>passthrough</pre></div></div></div></div></div></div></div></div><div class=\"sk-item\"><div class=\"sk-estimator sk-toggleable\"><input class=\"sk-toggleable__control sk-hidden--visually\" id=\"fe63e9de-3731-4074-8872-b533f87c1bc4\" type=\"checkbox\" ><label for=\"fe63e9de-3731-4074-8872-b533f87c1bc4\" class=\"sk-toggleable__label sk-toggleable__label-arrow\">SimpleImputer</label><div class=\"sk-toggleable__content\"><pre>SimpleImputer()</pre></div></div></div><div class=\"sk-item\"><div class=\"sk-estimator sk-toggleable\"><input class=\"sk-toggleable__control sk-hidden--visually\" id=\"bd50ec5b-66d5-4928-b2d9-dc82e6817de4\" type=\"checkbox\" ><label for=\"bd50ec5b-66d5-4928-b2d9-dc82e6817de4\" class=\"sk-toggleable__label sk-toggleable__label-arrow\">VarianceThreshold</label><div class=\"sk-toggleable__content\"><pre>VarianceThreshold()</pre></div></div></div><div class=\"sk-item sk-dashed-wrapped\"><div class=\"sk-label-container\"><div class=\"sk-label sk-toggleable\"><input class=\"sk-toggleable__control sk-hidden--visually\" id=\"e6d1489a-daf6-4b35-b8b5-7f778ae1186d\" type=\"checkbox\" ><label for=\"e6d1489a-daf6-4b35-b8b5-7f778ae1186d\" class=\"sk-toggleable__label sk-toggleable__label-arrow\">selector: RFE</label><div class=\"sk-toggleable__content\"><pre>RFE(estimator=Lasso(alpha=0.8), n_features_to_select=4)</pre></div></div></div><div class=\"sk-parallel\"><div class=\"sk-parallel-item\"><div class=\"sk-item\"><div class=\"sk-serial\"><div class=\"sk-item\"><div class=\"sk-estimator sk-toggleable\"><input class=\"sk-toggleable__control sk-hidden--visually\" id=\"40f7972e-4ad8-4ec5-8323-4bdabdaece1c\" type=\"checkbox\" ><label for=\"40f7972e-4ad8-4ec5-8323-4bdabdaece1c\" class=\"sk-toggleable__label sk-toggleable__label-arrow\">Lasso</label><div class=\"sk-toggleable__content\"><pre>Lasso(alpha=0.8)</pre></div></div></div></div></div></div></div></div></div></div></div></div>"
      ],
      "text/plain": [
       "Pipeline(steps=[('preprocess',\n",
       "                 ColumnTransformer(remainder='passthrough',\n",
       "                                   transformers=[('date', 'drop',\n",
       "                                                  <sklearn.compose._column_transformer.make_column_selector object at 0x000001AA6BE4F0A0>),\n",
       "                                                 ('categorical',\n",
       "                                                  OrdinalEncoder(),\n",
       "                                                  <sklearn.compose._column_transformer.make_column_selector object at 0x000001AA6BE59D30>)])),\n",
       "                ('impute', SimpleImputer()), ('variance', VarianceThreshold()),\n",
       "                ('selector',\n",
       "                 RFE(estimator=Lasso(alpha=0.8), n_features_to_select=4))])"
      ]
     },
     "execution_count": 91,
     "metadata": {},
     "output_type": "execute_result"
    }
   ],
   "source": [
    "from sklearn.feature_selection import RFE\n",
    "\n",
    "pipe = Pipeline(\n",
    "    steps=[\n",
    "        ('preprocess', preproc),\n",
    "        ('impute', SimpleImputer()),\n",
    "        ('variance', VarianceThreshold()),\n",
    "        ('selector', RFE(\n",
    "            estimator=Lasso(alpha=.8),\n",
    "            n_features_to_select=4,\n",
    "            step=1\n",
    "        )),\n",
    "    ]\n",
    ")\n",
    "pipe"
   ]
  },
  {
   "cell_type": "code",
   "execution_count": 92,
   "metadata": {},
   "outputs": [
    {
     "data": {
      "text/plain": [
       "array([[ 37.  ,   0.  ,   0.  ,  15.8 ],\n",
       "       [ 89.  ,   0.  ,   0.  ,   6.8 ],\n",
       "       [ 51.  ,   1.2 ,   0.  ,  10.5 ],\n",
       "       ...,\n",
       "       [ 21.  ,   0.  ,   0.  ,  17.3 ],\n",
       "       [ 49.  ,   0.  ,   0.  ,   6.8 ],\n",
       "       [181.  ,   3.36,   0.  ,  20.16]])"
      ]
     },
     "execution_count": 92,
     "metadata": {},
     "output_type": "execute_result"
    }
   ],
   "source": [
    "pipe.fit_transform(X.drop(columns='fare'), X['fare'])"
   ]
  },
  {
   "cell_type": "markdown",
   "metadata": {},
   "source": [
    "### Sequential Feature Selection"
   ]
  },
  {
   "cell_type": "markdown",
   "metadata": {},
   "source": [
    "## References\n",
    "* [1.13. Feature selection](https://scikit-learn.org/stable/modules/feature_selection.html)\n",
    "* Post, Martijn J. et al. “Does Feature Selection Improve Classification? A Large Scale Experiment in OpenML.” *IDA* (2016)."
   ]
  }
 ],
 "metadata": {
  "interpreter": {
   "hash": "b891d50534d2c8e091cf7a356cbf9c12043eea4113371b8b02c3ad6572b71b50"
  },
  "kernelspec": {
   "display_name": "Python 3.9.5",
   "language": "python",
   "name": "python3"
  },
  "language_info": {
   "codemirror_mode": {
    "name": "ipython",
    "version": 3
   },
   "file_extension": ".py",
   "mimetype": "text/x-python",
   "name": "python",
   "nbconvert_exporter": "python",
   "pygments_lexer": "ipython3",
   "version": "3.8.8"
  },
  "orig_nbformat": 4
 },
 "nbformat": 4,
 "nbformat_minor": 2
}
