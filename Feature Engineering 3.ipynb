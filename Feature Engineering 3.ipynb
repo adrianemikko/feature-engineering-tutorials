{
 "cells": [
  {
   "cell_type": "markdown",
   "metadata": {},
   "source": [
    "# Python Learning Sessions: Feature Engineering"
   ]
  },
  {
   "cell_type": "markdown",
   "metadata": {},
   "source": [
    "![impute](resources\\sklearn.impute.png)"
   ]
  },
  {
   "cell_type": "markdown",
   "metadata": {},
   "source": [
    "## Missing values"
   ]
  },
  {
   "cell_type": "markdown",
   "metadata": {},
   "source": [
    "When dealing with missing values, there are a lot of strategies to deal with them:\n",
    "* `Dropping the columns` - When there are a lot of missing values, it is better to drop the column.\n",
    "* `Dropping the rows` - If dataset size is much larger than the rows with missing values, it is better to drop the rows. Be careful, however, as your model might encouter missing values at infernce and may pickup errors.\n",
    "* `Imputation` - When the missing values are relatively small, imputation might improve the model's performance. There are a few ways to impute the missing values:\n",
    "    * Last value carried forward - Commonly used in time series data.\n",
    "    * Mean - Use the mean of the column to impute the missing values. Commonly used in regression.\n",
    "    * Median - Use the median of the column to impute the missing values.\n",
    "    * k-NN - Use the k-nearest neighbors to impute the missing values.\n",
    "    * Using NA as a placeholder - Use NA as a placeholder for the missing values. Models will treat this as a different category.\n",
    "    * Other logical rules - Use the logical rules to impute the missing values, e.g., \n",
    "* `Adding indicator variables` - Quite common in social sciences; adding an extra column that indicates if the value is missing or not.\n",
    "* `Using a model has native support for missing values` - Use a model that can process missing value, e.g., `HistGradientBoostingClassifier` or `LightGBMClassifier`.\n",
    "* `Random` - Use random values to impute the missing values."
   ]
  },
  {
   "cell_type": "markdown",
   "metadata": {},
   "source": [
    "You have to be careful when dealing with missing values. There are several mechanisms how missing values are generated (Gelman, 2007):\n",
    "* `Completely random` - The missing values are generated completely randomly. Discarding these samples does not bias inference.\n",
    "* `Missingness at random` - The missing values are not generated completely randomly. It may depend on different groups of samples. This can be ignored if they are related to a certain feature.\n",
    "* `Missing values depend on external factors` - The missing values are generated based on external factors that are not caputred in the dataset. Recommended to model as a missing value.\n",
    "* `Missng values that depend on the value of the feature` - The missing values are generated based on the value of the feature itself, e.g., people with low salary might not disclose it."
   ]
  },
  {
   "cell_type": "code",
   "execution_count": 1,
   "metadata": {},
   "outputs": [],
   "source": [
    "import pandas as pd\n",
    "import numpy as np\n",
    "from matplotlib import pyplot as plt\n",
    "from sklearn import set_config\n",
    "\n",
    "set_config(display=\"diagram\")"
   ]
  },
  {
   "cell_type": "code",
   "execution_count": 2,
   "metadata": {},
   "outputs": [
    {
     "data": {
      "text/html": [
       "<div>\n",
       "<style scoped>\n",
       "    .dataframe tbody tr th:only-of-type {\n",
       "        vertical-align: middle;\n",
       "    }\n",
       "\n",
       "    .dataframe tbody tr th {\n",
       "        vertical-align: top;\n",
       "    }\n",
       "\n",
       "    .dataframe thead th {\n",
       "        text-align: right;\n",
       "    }\n",
       "</style>\n",
       "<table border=\"1\" class=\"dataframe\">\n",
       "  <thead>\n",
       "    <tr style=\"text-align: right;\">\n",
       "      <th></th>\n",
       "      <th>pickup</th>\n",
       "      <th>dropoff</th>\n",
       "      <th>passengers</th>\n",
       "      <th>distance</th>\n",
       "      <th>fare</th>\n",
       "      <th>tip</th>\n",
       "      <th>tolls</th>\n",
       "      <th>total</th>\n",
       "      <th>color</th>\n",
       "      <th>payment</th>\n",
       "      <th>pickup_zone</th>\n",
       "      <th>dropoff_zone</th>\n",
       "      <th>pickup_borough</th>\n",
       "      <th>dropoff_borough</th>\n",
       "    </tr>\n",
       "  </thead>\n",
       "  <tbody>\n",
       "    <tr>\n",
       "      <th>0</th>\n",
       "      <td>2019-03-23 20:21:09</td>\n",
       "      <td>2019-03-23 20:27:24</td>\n",
       "      <td>1</td>\n",
       "      <td>1.60</td>\n",
       "      <td>7.0</td>\n",
       "      <td>2.15</td>\n",
       "      <td>0.0</td>\n",
       "      <td>12.95</td>\n",
       "      <td>yellow</td>\n",
       "      <td>credit card</td>\n",
       "      <td>Lenox Hill West</td>\n",
       "      <td>UN/Turtle Bay South</td>\n",
       "      <td>Manhattan</td>\n",
       "      <td>Manhattan</td>\n",
       "    </tr>\n",
       "    <tr>\n",
       "      <th>1</th>\n",
       "      <td>2019-03-04 16:11:55</td>\n",
       "      <td>2019-03-04 16:19:00</td>\n",
       "      <td>1</td>\n",
       "      <td>0.79</td>\n",
       "      <td>5.0</td>\n",
       "      <td>0.00</td>\n",
       "      <td>0.0</td>\n",
       "      <td>9.30</td>\n",
       "      <td>yellow</td>\n",
       "      <td>cash</td>\n",
       "      <td>Upper West Side South</td>\n",
       "      <td>Upper West Side South</td>\n",
       "      <td>Manhattan</td>\n",
       "      <td>Manhattan</td>\n",
       "    </tr>\n",
       "    <tr>\n",
       "      <th>2</th>\n",
       "      <td>2019-03-27 17:53:01</td>\n",
       "      <td>2019-03-27 18:00:25</td>\n",
       "      <td>1</td>\n",
       "      <td>1.37</td>\n",
       "      <td>7.5</td>\n",
       "      <td>2.36</td>\n",
       "      <td>0.0</td>\n",
       "      <td>14.16</td>\n",
       "      <td>yellow</td>\n",
       "      <td>credit card</td>\n",
       "      <td>Alphabet City</td>\n",
       "      <td>West Village</td>\n",
       "      <td>Manhattan</td>\n",
       "      <td>Manhattan</td>\n",
       "    </tr>\n",
       "    <tr>\n",
       "      <th>3</th>\n",
       "      <td>2019-03-10 01:23:59</td>\n",
       "      <td>2019-03-10 01:49:51</td>\n",
       "      <td>1</td>\n",
       "      <td>7.70</td>\n",
       "      <td>27.0</td>\n",
       "      <td>6.15</td>\n",
       "      <td>0.0</td>\n",
       "      <td>36.95</td>\n",
       "      <td>yellow</td>\n",
       "      <td>credit card</td>\n",
       "      <td>Hudson Sq</td>\n",
       "      <td>Yorkville West</td>\n",
       "      <td>Manhattan</td>\n",
       "      <td>Manhattan</td>\n",
       "    </tr>\n",
       "    <tr>\n",
       "      <th>4</th>\n",
       "      <td>2019-03-30 13:27:42</td>\n",
       "      <td>2019-03-30 13:37:14</td>\n",
       "      <td>3</td>\n",
       "      <td>2.16</td>\n",
       "      <td>9.0</td>\n",
       "      <td>1.10</td>\n",
       "      <td>0.0</td>\n",
       "      <td>13.40</td>\n",
       "      <td>yellow</td>\n",
       "      <td>credit card</td>\n",
       "      <td>Midtown East</td>\n",
       "      <td>Yorkville West</td>\n",
       "      <td>Manhattan</td>\n",
       "      <td>Manhattan</td>\n",
       "    </tr>\n",
       "    <tr>\n",
       "      <th>...</th>\n",
       "      <td>...</td>\n",
       "      <td>...</td>\n",
       "      <td>...</td>\n",
       "      <td>...</td>\n",
       "      <td>...</td>\n",
       "      <td>...</td>\n",
       "      <td>...</td>\n",
       "      <td>...</td>\n",
       "      <td>...</td>\n",
       "      <td>...</td>\n",
       "      <td>...</td>\n",
       "      <td>...</td>\n",
       "      <td>...</td>\n",
       "      <td>...</td>\n",
       "    </tr>\n",
       "    <tr>\n",
       "      <th>6428</th>\n",
       "      <td>2019-03-31 09:51:53</td>\n",
       "      <td>2019-03-31 09:55:27</td>\n",
       "      <td>1</td>\n",
       "      <td>0.75</td>\n",
       "      <td>4.5</td>\n",
       "      <td>1.06</td>\n",
       "      <td>0.0</td>\n",
       "      <td>6.36</td>\n",
       "      <td>green</td>\n",
       "      <td>credit card</td>\n",
       "      <td>East Harlem North</td>\n",
       "      <td>Central Harlem North</td>\n",
       "      <td>Manhattan</td>\n",
       "      <td>Manhattan</td>\n",
       "    </tr>\n",
       "    <tr>\n",
       "      <th>6429</th>\n",
       "      <td>2019-03-31 17:38:00</td>\n",
       "      <td>2019-03-31 18:34:23</td>\n",
       "      <td>1</td>\n",
       "      <td>18.74</td>\n",
       "      <td>58.0</td>\n",
       "      <td>0.00</td>\n",
       "      <td>0.0</td>\n",
       "      <td>58.80</td>\n",
       "      <td>green</td>\n",
       "      <td>credit card</td>\n",
       "      <td>Jamaica</td>\n",
       "      <td>East Concourse/Concourse Village</td>\n",
       "      <td>Queens</td>\n",
       "      <td>Bronx</td>\n",
       "    </tr>\n",
       "    <tr>\n",
       "      <th>6430</th>\n",
       "      <td>2019-03-23 22:55:18</td>\n",
       "      <td>2019-03-23 23:14:25</td>\n",
       "      <td>1</td>\n",
       "      <td>4.14</td>\n",
       "      <td>16.0</td>\n",
       "      <td>0.00</td>\n",
       "      <td>0.0</td>\n",
       "      <td>17.30</td>\n",
       "      <td>green</td>\n",
       "      <td>cash</td>\n",
       "      <td>Crown Heights North</td>\n",
       "      <td>Bushwick North</td>\n",
       "      <td>Brooklyn</td>\n",
       "      <td>Brooklyn</td>\n",
       "    </tr>\n",
       "    <tr>\n",
       "      <th>6431</th>\n",
       "      <td>2019-03-04 10:09:25</td>\n",
       "      <td>2019-03-04 10:14:29</td>\n",
       "      <td>1</td>\n",
       "      <td>1.12</td>\n",
       "      <td>6.0</td>\n",
       "      <td>0.00</td>\n",
       "      <td>0.0</td>\n",
       "      <td>6.80</td>\n",
       "      <td>green</td>\n",
       "      <td>credit card</td>\n",
       "      <td>East New York</td>\n",
       "      <td>East Flatbush/Remsen Village</td>\n",
       "      <td>Brooklyn</td>\n",
       "      <td>Brooklyn</td>\n",
       "    </tr>\n",
       "    <tr>\n",
       "      <th>6432</th>\n",
       "      <td>2019-03-13 19:31:22</td>\n",
       "      <td>2019-03-13 19:48:02</td>\n",
       "      <td>1</td>\n",
       "      <td>3.85</td>\n",
       "      <td>15.0</td>\n",
       "      <td>3.36</td>\n",
       "      <td>0.0</td>\n",
       "      <td>20.16</td>\n",
       "      <td>green</td>\n",
       "      <td>credit card</td>\n",
       "      <td>Boerum Hill</td>\n",
       "      <td>Windsor Terrace</td>\n",
       "      <td>Brooklyn</td>\n",
       "      <td>Brooklyn</td>\n",
       "    </tr>\n",
       "  </tbody>\n",
       "</table>\n",
       "<p>6433 rows × 14 columns</p>\n",
       "</div>"
      ],
      "text/plain": [
       "                  pickup             dropoff  passengers  distance  fare  \\\n",
       "0    2019-03-23 20:21:09 2019-03-23 20:27:24           1      1.60   7.0   \n",
       "1    2019-03-04 16:11:55 2019-03-04 16:19:00           1      0.79   5.0   \n",
       "2    2019-03-27 17:53:01 2019-03-27 18:00:25           1      1.37   7.5   \n",
       "3    2019-03-10 01:23:59 2019-03-10 01:49:51           1      7.70  27.0   \n",
       "4    2019-03-30 13:27:42 2019-03-30 13:37:14           3      2.16   9.0   \n",
       "...                  ...                 ...         ...       ...   ...   \n",
       "6428 2019-03-31 09:51:53 2019-03-31 09:55:27           1      0.75   4.5   \n",
       "6429 2019-03-31 17:38:00 2019-03-31 18:34:23           1     18.74  58.0   \n",
       "6430 2019-03-23 22:55:18 2019-03-23 23:14:25           1      4.14  16.0   \n",
       "6431 2019-03-04 10:09:25 2019-03-04 10:14:29           1      1.12   6.0   \n",
       "6432 2019-03-13 19:31:22 2019-03-13 19:48:02           1      3.85  15.0   \n",
       "\n",
       "       tip  tolls  total   color      payment            pickup_zone  \\\n",
       "0     2.15    0.0  12.95  yellow  credit card        Lenox Hill West   \n",
       "1     0.00    0.0   9.30  yellow         cash  Upper West Side South   \n",
       "2     2.36    0.0  14.16  yellow  credit card          Alphabet City   \n",
       "3     6.15    0.0  36.95  yellow  credit card              Hudson Sq   \n",
       "4     1.10    0.0  13.40  yellow  credit card           Midtown East   \n",
       "...    ...    ...    ...     ...          ...                    ...   \n",
       "6428  1.06    0.0   6.36   green  credit card      East Harlem North   \n",
       "6429  0.00    0.0  58.80   green  credit card                Jamaica   \n",
       "6430  0.00    0.0  17.30   green         cash    Crown Heights North   \n",
       "6431  0.00    0.0   6.80   green  credit card          East New York   \n",
       "6432  3.36    0.0  20.16   green  credit card            Boerum Hill   \n",
       "\n",
       "                          dropoff_zone pickup_borough dropoff_borough  \n",
       "0                  UN/Turtle Bay South      Manhattan       Manhattan  \n",
       "1                Upper West Side South      Manhattan       Manhattan  \n",
       "2                         West Village      Manhattan       Manhattan  \n",
       "3                       Yorkville West      Manhattan       Manhattan  \n",
       "4                       Yorkville West      Manhattan       Manhattan  \n",
       "...                                ...            ...             ...  \n",
       "6428              Central Harlem North      Manhattan       Manhattan  \n",
       "6429  East Concourse/Concourse Village         Queens           Bronx  \n",
       "6430                    Bushwick North       Brooklyn        Brooklyn  \n",
       "6431      East Flatbush/Remsen Village       Brooklyn        Brooklyn  \n",
       "6432                   Windsor Terrace       Brooklyn        Brooklyn  \n",
       "\n",
       "[6433 rows x 14 columns]"
      ]
     },
     "execution_count": 2,
     "metadata": {},
     "output_type": "execute_result"
    }
   ],
   "source": [
    "link = 'https://raw.githubusercontent.com/mwaskom/seaborn-data/master/taxis.csv'\n",
    "df = pd.read_csv(link, parse_dates=[0, 1])\n",
    "df"
   ]
  },
  {
   "cell_type": "code",
   "execution_count": 67,
   "metadata": {},
   "outputs": [
    {
     "name": "stdout",
     "output_type": "stream",
     "text": [
      "<class 'pandas.core.frame.DataFrame'>\n",
      "RangeIndex: 6433 entries, 0 to 6432\n",
      "Data columns (total 10 columns):\n",
      " #   Column           Non-Null Count  Dtype         \n",
      "---  ------           --------------  -----         \n",
      " 0   pickup           6433 non-null   datetime64[ns]\n",
      " 1   dropoff          6433 non-null   datetime64[ns]\n",
      " 2   passengers       6433 non-null   int64         \n",
      " 3   distance         6433 non-null   float64       \n",
      " 4   color            6433 non-null   category      \n",
      " 5   payment          6389 non-null   category      \n",
      " 6   pickup_zone      6407 non-null   category      \n",
      " 7   dropoff_zone     6388 non-null   category      \n",
      " 8   pickup_borough   6407 non-null   category      \n",
      " 9   dropoff_borough  6388 non-null   category      \n",
      "dtypes: category(6), datetime64[ns](2), float64(1), int64(1)\n",
      "memory usage: 267.3 KB\n"
     ]
    }
   ],
   "source": [
    "def convert_text_cols_to_categorical(df):\n",
    "    cols = df.select_dtypes(include=['object']).columns\n",
    "    return df.astype({col: 'category' for col in cols})\n",
    "    \n",
    "X = df.pipe(convert_text_cols_to_categorical).drop(\n",
    "    columns=['fare', 'tip', 'tolls', 'total'])\n",
    "y = df['total']\n",
    "\n",
    "X.info()"
   ]
  },
  {
   "cell_type": "markdown",
   "metadata": {},
   "source": [
    "### Using a model has native support for missing values"
   ]
  },
  {
   "cell_type": "code",
   "execution_count": 68,
   "metadata": {},
   "outputs": [
    {
     "data": {
      "text/html": [
       "<style>#sk-d8b1fa52-e11c-4a2b-b791-66c192262617 {color: black;background-color: white;}#sk-d8b1fa52-e11c-4a2b-b791-66c192262617 pre{padding: 0;}#sk-d8b1fa52-e11c-4a2b-b791-66c192262617 div.sk-toggleable {background-color: white;}#sk-d8b1fa52-e11c-4a2b-b791-66c192262617 label.sk-toggleable__label {cursor: pointer;display: block;width: 100%;margin-bottom: 0;padding: 0.3em;box-sizing: border-box;text-align: center;}#sk-d8b1fa52-e11c-4a2b-b791-66c192262617 label.sk-toggleable__label-arrow:before {content: \"▸\";float: left;margin-right: 0.25em;color: #696969;}#sk-d8b1fa52-e11c-4a2b-b791-66c192262617 label.sk-toggleable__label-arrow:hover:before {color: black;}#sk-d8b1fa52-e11c-4a2b-b791-66c192262617 div.sk-estimator:hover label.sk-toggleable__label-arrow:before {color: black;}#sk-d8b1fa52-e11c-4a2b-b791-66c192262617 div.sk-toggleable__content {max-height: 0;max-width: 0;overflow: hidden;text-align: left;background-color: #f0f8ff;}#sk-d8b1fa52-e11c-4a2b-b791-66c192262617 div.sk-toggleable__content pre {margin: 0.2em;color: black;border-radius: 0.25em;background-color: #f0f8ff;}#sk-d8b1fa52-e11c-4a2b-b791-66c192262617 input.sk-toggleable__control:checked~div.sk-toggleable__content {max-height: 200px;max-width: 100%;overflow: auto;}#sk-d8b1fa52-e11c-4a2b-b791-66c192262617 input.sk-toggleable__control:checked~label.sk-toggleable__label-arrow:before {content: \"▾\";}#sk-d8b1fa52-e11c-4a2b-b791-66c192262617 div.sk-estimator input.sk-toggleable__control:checked~label.sk-toggleable__label {background-color: #d4ebff;}#sk-d8b1fa52-e11c-4a2b-b791-66c192262617 div.sk-label input.sk-toggleable__control:checked~label.sk-toggleable__label {background-color: #d4ebff;}#sk-d8b1fa52-e11c-4a2b-b791-66c192262617 input.sk-hidden--visually {border: 0;clip: rect(1px 1px 1px 1px);clip: rect(1px, 1px, 1px, 1px);height: 1px;margin: -1px;overflow: hidden;padding: 0;position: absolute;width: 1px;}#sk-d8b1fa52-e11c-4a2b-b791-66c192262617 div.sk-estimator {font-family: monospace;background-color: #f0f8ff;border: 1px dotted black;border-radius: 0.25em;box-sizing: border-box;margin-bottom: 0.5em;}#sk-d8b1fa52-e11c-4a2b-b791-66c192262617 div.sk-estimator:hover {background-color: #d4ebff;}#sk-d8b1fa52-e11c-4a2b-b791-66c192262617 div.sk-parallel-item::after {content: \"\";width: 100%;border-bottom: 1px solid gray;flex-grow: 1;}#sk-d8b1fa52-e11c-4a2b-b791-66c192262617 div.sk-label:hover label.sk-toggleable__label {background-color: #d4ebff;}#sk-d8b1fa52-e11c-4a2b-b791-66c192262617 div.sk-serial::before {content: \"\";position: absolute;border-left: 1px solid gray;box-sizing: border-box;top: 2em;bottom: 0;left: 50%;}#sk-d8b1fa52-e11c-4a2b-b791-66c192262617 div.sk-serial {display: flex;flex-direction: column;align-items: center;background-color: white;padding-right: 0.2em;padding-left: 0.2em;}#sk-d8b1fa52-e11c-4a2b-b791-66c192262617 div.sk-item {z-index: 1;}#sk-d8b1fa52-e11c-4a2b-b791-66c192262617 div.sk-parallel {display: flex;align-items: stretch;justify-content: center;background-color: white;}#sk-d8b1fa52-e11c-4a2b-b791-66c192262617 div.sk-parallel::before {content: \"\";position: absolute;border-left: 1px solid gray;box-sizing: border-box;top: 2em;bottom: 0;left: 50%;}#sk-d8b1fa52-e11c-4a2b-b791-66c192262617 div.sk-parallel-item {display: flex;flex-direction: column;position: relative;background-color: white;}#sk-d8b1fa52-e11c-4a2b-b791-66c192262617 div.sk-parallel-item:first-child::after {align-self: flex-end;width: 50%;}#sk-d8b1fa52-e11c-4a2b-b791-66c192262617 div.sk-parallel-item:last-child::after {align-self: flex-start;width: 50%;}#sk-d8b1fa52-e11c-4a2b-b791-66c192262617 div.sk-parallel-item:only-child::after {width: 0;}#sk-d8b1fa52-e11c-4a2b-b791-66c192262617 div.sk-dashed-wrapped {border: 1px dashed gray;margin: 0 0.4em 0.5em 0.4em;box-sizing: border-box;padding-bottom: 0.4em;background-color: white;position: relative;}#sk-d8b1fa52-e11c-4a2b-b791-66c192262617 div.sk-label label {font-family: monospace;font-weight: bold;background-color: white;display: inline-block;line-height: 1.2em;}#sk-d8b1fa52-e11c-4a2b-b791-66c192262617 div.sk-label-container {position: relative;z-index: 2;text-align: center;}#sk-d8b1fa52-e11c-4a2b-b791-66c192262617 div.sk-container {/* jupyter's `normalize.less` sets `[hidden] { display: none; }` but bootstrap.min.css set `[hidden] { display: none !important; }` so we also need the `!important` here to be able to override the default hidden behavior on the sphinx rendered scikit-learn.org. See: https://github.com/scikit-learn/scikit-learn/issues/21755 */display: inline-block !important;position: relative;}#sk-d8b1fa52-e11c-4a2b-b791-66c192262617 div.sk-text-repr-fallback {display: none;}</style><div id=\"sk-d8b1fa52-e11c-4a2b-b791-66c192262617\" class=\"sk-top-container\"><div class=\"sk-text-repr-fallback\"><pre>Pipeline(steps=[(&#x27;preprocess&#x27;,\n",
       "                 ColumnTransformer(remainder=&#x27;passthrough&#x27;,\n",
       "                                   transformers=[(&#x27;date&#x27;, &#x27;drop&#x27;,\n",
       "                                                  &lt;sklearn.compose._column_transformer.make_column_selector object at 0x000001B6C0190EE0&gt;),\n",
       "                                                 (&#x27;categorical&#x27;,\n",
       "                                                  OrdinalEncoder(handle_unknown=&#x27;use_encoded_value&#x27;,\n",
       "                                                                 unknown_value=nan),\n",
       "                                                  &lt;sklearn.compose._column_transformer.make_column_selector object at 0x000001B6C0190A90&gt;)])),\n",
       "                (&#x27;variance&#x27;, VarianceThreshold()),\n",
       "                (&#x27;predictor&#x27;, Lasso(alpha=0.8))])</pre><b>Please rerun this cell to show the HTML repr or trust the notebook.</b></div><div class=\"sk-container\" hidden><div class=\"sk-item sk-dashed-wrapped\"><div class=\"sk-label-container\"><div class=\"sk-label sk-toggleable\"><input class=\"sk-toggleable__control sk-hidden--visually\" id=\"535fd079-6487-4b19-9ccf-14d532113ece\" type=\"checkbox\" ><label for=\"535fd079-6487-4b19-9ccf-14d532113ece\" class=\"sk-toggleable__label sk-toggleable__label-arrow\">Pipeline</label><div class=\"sk-toggleable__content\"><pre>Pipeline(steps=[(&#x27;preprocess&#x27;,\n",
       "                 ColumnTransformer(remainder=&#x27;passthrough&#x27;,\n",
       "                                   transformers=[(&#x27;date&#x27;, &#x27;drop&#x27;,\n",
       "                                                  &lt;sklearn.compose._column_transformer.make_column_selector object at 0x000001B6C0190EE0&gt;),\n",
       "                                                 (&#x27;categorical&#x27;,\n",
       "                                                  OrdinalEncoder(handle_unknown=&#x27;use_encoded_value&#x27;,\n",
       "                                                                 unknown_value=nan),\n",
       "                                                  &lt;sklearn.compose._column_transformer.make_column_selector object at 0x000001B6C0190A90&gt;)])),\n",
       "                (&#x27;variance&#x27;, VarianceThreshold()),\n",
       "                (&#x27;predictor&#x27;, Lasso(alpha=0.8))])</pre></div></div></div><div class=\"sk-serial\"><div class=\"sk-item sk-dashed-wrapped\"><div class=\"sk-label-container\"><div class=\"sk-label sk-toggleable\"><input class=\"sk-toggleable__control sk-hidden--visually\" id=\"bea83838-52d0-45ce-8a1b-2744e9c39232\" type=\"checkbox\" ><label for=\"bea83838-52d0-45ce-8a1b-2744e9c39232\" class=\"sk-toggleable__label sk-toggleable__label-arrow\">preprocess: ColumnTransformer</label><div class=\"sk-toggleable__content\"><pre>ColumnTransformer(remainder=&#x27;passthrough&#x27;,\n",
       "                  transformers=[(&#x27;date&#x27;, &#x27;drop&#x27;,\n",
       "                                 &lt;sklearn.compose._column_transformer.make_column_selector object at 0x000001B6C0190EE0&gt;),\n",
       "                                (&#x27;categorical&#x27;,\n",
       "                                 OrdinalEncoder(handle_unknown=&#x27;use_encoded_value&#x27;,\n",
       "                                                unknown_value=nan),\n",
       "                                 &lt;sklearn.compose._column_transformer.make_column_selector object at 0x000001B6C0190A90&gt;)])</pre></div></div></div><div class=\"sk-parallel\"><div class=\"sk-parallel-item\"><div class=\"sk-item\"><div class=\"sk-label-container\"><div class=\"sk-label sk-toggleable\"><input class=\"sk-toggleable__control sk-hidden--visually\" id=\"1e65cc4b-e4ff-40f4-beab-740f91ee6669\" type=\"checkbox\" ><label for=\"1e65cc4b-e4ff-40f4-beab-740f91ee6669\" class=\"sk-toggleable__label sk-toggleable__label-arrow\">date</label><div class=\"sk-toggleable__content\"><pre>&lt;sklearn.compose._column_transformer.make_column_selector object at 0x000001B6C0190EE0&gt;</pre></div></div></div><div class=\"sk-serial\"><div class=\"sk-item\"><div class=\"sk-estimator sk-toggleable\"><input class=\"sk-toggleable__control sk-hidden--visually\" id=\"d8946577-9b2c-4aea-8b28-de7e708a0bce\" type=\"checkbox\" ><label for=\"d8946577-9b2c-4aea-8b28-de7e708a0bce\" class=\"sk-toggleable__label sk-toggleable__label-arrow\">drop</label><div class=\"sk-toggleable__content\"><pre>drop</pre></div></div></div></div></div></div><div class=\"sk-parallel-item\"><div class=\"sk-item\"><div class=\"sk-label-container\"><div class=\"sk-label sk-toggleable\"><input class=\"sk-toggleable__control sk-hidden--visually\" id=\"06b679c3-ee20-4163-9a4e-ef67dd7ef136\" type=\"checkbox\" ><label for=\"06b679c3-ee20-4163-9a4e-ef67dd7ef136\" class=\"sk-toggleable__label sk-toggleable__label-arrow\">categorical</label><div class=\"sk-toggleable__content\"><pre>&lt;sklearn.compose._column_transformer.make_column_selector object at 0x000001B6C0190A90&gt;</pre></div></div></div><div class=\"sk-serial\"><div class=\"sk-item\"><div class=\"sk-estimator sk-toggleable\"><input class=\"sk-toggleable__control sk-hidden--visually\" id=\"a945a8ea-8c16-496a-9f8b-7b4897f2a16e\" type=\"checkbox\" ><label for=\"a945a8ea-8c16-496a-9f8b-7b4897f2a16e\" class=\"sk-toggleable__label sk-toggleable__label-arrow\">OrdinalEncoder</label><div class=\"sk-toggleable__content\"><pre>OrdinalEncoder(handle_unknown=&#x27;use_encoded_value&#x27;, unknown_value=nan)</pre></div></div></div></div></div></div><div class=\"sk-parallel-item\"><div class=\"sk-item\"><div class=\"sk-label-container\"><div class=\"sk-label sk-toggleable\"><input class=\"sk-toggleable__control sk-hidden--visually\" id=\"49d0dff7-b6d9-43b8-a777-5a8c46c1990f\" type=\"checkbox\" ><label for=\"49d0dff7-b6d9-43b8-a777-5a8c46c1990f\" class=\"sk-toggleable__label sk-toggleable__label-arrow\">remainder</label><div class=\"sk-toggleable__content\"><pre></pre></div></div></div><div class=\"sk-serial\"><div class=\"sk-item\"><div class=\"sk-estimator sk-toggleable\"><input class=\"sk-toggleable__control sk-hidden--visually\" id=\"238e68c8-1686-40e4-be65-28a83612bb20\" type=\"checkbox\" ><label for=\"238e68c8-1686-40e4-be65-28a83612bb20\" class=\"sk-toggleable__label sk-toggleable__label-arrow\">passthrough</label><div class=\"sk-toggleable__content\"><pre>passthrough</pre></div></div></div></div></div></div></div></div><div class=\"sk-item\"><div class=\"sk-estimator sk-toggleable\"><input class=\"sk-toggleable__control sk-hidden--visually\" id=\"56019a76-e0a7-4c60-bebc-dbdf7e9a541f\" type=\"checkbox\" ><label for=\"56019a76-e0a7-4c60-bebc-dbdf7e9a541f\" class=\"sk-toggleable__label sk-toggleable__label-arrow\">VarianceThreshold</label><div class=\"sk-toggleable__content\"><pre>VarianceThreshold()</pre></div></div></div><div class=\"sk-item\"><div class=\"sk-estimator sk-toggleable\"><input class=\"sk-toggleable__control sk-hidden--visually\" id=\"8c4ba393-d3d5-47c0-a585-fc8a74c8c06a\" type=\"checkbox\" ><label for=\"8c4ba393-d3d5-47c0-a585-fc8a74c8c06a\" class=\"sk-toggleable__label sk-toggleable__label-arrow\">Lasso</label><div class=\"sk-toggleable__content\"><pre>Lasso(alpha=0.8)</pre></div></div></div></div></div></div></div>"
      ],
      "text/plain": [
       "Pipeline(steps=[('preprocess',\n",
       "                 ColumnTransformer(remainder='passthrough',\n",
       "                                   transformers=[('date', 'drop',\n",
       "                                                  <sklearn.compose._column_transformer.make_column_selector object at 0x000001B6C0190EE0>),\n",
       "                                                 ('categorical',\n",
       "                                                  OrdinalEncoder(handle_unknown='use_encoded_value',\n",
       "                                                                 unknown_value=nan),\n",
       "                                                  <sklearn.compose._column_transformer.make_column_selector object at 0x000001B6C0190A90>)])),\n",
       "                ('variance', VarianceThreshold()),\n",
       "                ('predictor', Lasso(alpha=0.8))])"
      ]
     },
     "execution_count": 68,
     "metadata": {},
     "output_type": "execute_result"
    }
   ],
   "source": [
    "from sklearn.feature_selection import VarianceThreshold\n",
    "from sklearn.preprocessing import OrdinalEncoder, FunctionTransformer\n",
    "from sklearn.pipeline import Pipeline\n",
    "from sklearn.compose import ColumnTransformer, make_column_selector\n",
    "from sklearn.linear_model import Lasso, LinearRegression\n",
    "from sklearn.impute import SimpleImputer\n",
    "\n",
    "preproc = ColumnTransformer(\n",
    "    transformers=[\n",
    "        ('date', 'drop', make_column_selector(dtype_include=['datetime64[ns]'])),\n",
    "        (\n",
    "            'categorical',\n",
    "            OrdinalEncoder(\n",
    "                handle_unknown='use_encoded_value',\n",
    "                unknown_value=np.nan\n",
    "            ) ,\n",
    "            make_column_selector(dtype_include=['category']))\n",
    "    ],\n",
    "    remainder='passthrough',\n",
    ")\n",
    "preproc\n",
    "\n",
    "pipe = Pipeline(\n",
    "    steps=[\n",
    "        ('preprocess', preproc),\n",
    "        ('variance', VarianceThreshold()),\n",
    "        ('predictor', Lasso(alpha=0.8)),\n",
    "    ]\n",
    ")\n",
    "pipe"
   ]
  },
  {
   "cell_type": "code",
   "execution_count": 69,
   "metadata": {},
   "outputs": [
    {
     "ename": "ValueError",
     "evalue": "Input contains NaN, infinity or a value too large for dtype('float64').",
     "output_type": "error",
     "traceback": [
      "\u001b[1;31m---------------------------------------------------------------------------\u001b[0m",
      "\u001b[1;31mValueError\u001b[0m                                Traceback (most recent call last)",
      "\u001b[1;32m<ipython-input-69-22130e81eed3>\u001b[0m in \u001b[0;36m<module>\u001b[1;34m\u001b[0m\n\u001b[1;32m----> 1\u001b[1;33m \u001b[0mpipe\u001b[0m\u001b[1;33m.\u001b[0m\u001b[0mfit\u001b[0m\u001b[1;33m(\u001b[0m\u001b[0mX\u001b[0m\u001b[1;33m,\u001b[0m \u001b[0my\u001b[0m\u001b[1;33m)\u001b[0m\u001b[1;33m\u001b[0m\u001b[1;33m\u001b[0m\u001b[0m\n\u001b[0m",
      "\u001b[1;32m~\\Anaconda3\\lib\\site-packages\\sklearn\\pipeline.py\u001b[0m in \u001b[0;36mfit\u001b[1;34m(self, X, y, **fit_params)\u001b[0m\n\u001b[0;32m    392\u001b[0m             \u001b[1;32mif\u001b[0m \u001b[0mself\u001b[0m\u001b[1;33m.\u001b[0m\u001b[0m_final_estimator\u001b[0m \u001b[1;33m!=\u001b[0m \u001b[1;34m\"passthrough\"\u001b[0m\u001b[1;33m:\u001b[0m\u001b[1;33m\u001b[0m\u001b[1;33m\u001b[0m\u001b[0m\n\u001b[0;32m    393\u001b[0m                 \u001b[0mfit_params_last_step\u001b[0m \u001b[1;33m=\u001b[0m \u001b[0mfit_params_steps\u001b[0m\u001b[1;33m[\u001b[0m\u001b[0mself\u001b[0m\u001b[1;33m.\u001b[0m\u001b[0msteps\u001b[0m\u001b[1;33m[\u001b[0m\u001b[1;33m-\u001b[0m\u001b[1;36m1\u001b[0m\u001b[1;33m]\u001b[0m\u001b[1;33m[\u001b[0m\u001b[1;36m0\u001b[0m\u001b[1;33m]\u001b[0m\u001b[1;33m]\u001b[0m\u001b[1;33m\u001b[0m\u001b[1;33m\u001b[0m\u001b[0m\n\u001b[1;32m--> 394\u001b[1;33m                 \u001b[0mself\u001b[0m\u001b[1;33m.\u001b[0m\u001b[0m_final_estimator\u001b[0m\u001b[1;33m.\u001b[0m\u001b[0mfit\u001b[0m\u001b[1;33m(\u001b[0m\u001b[0mXt\u001b[0m\u001b[1;33m,\u001b[0m \u001b[0my\u001b[0m\u001b[1;33m,\u001b[0m \u001b[1;33m**\u001b[0m\u001b[0mfit_params_last_step\u001b[0m\u001b[1;33m)\u001b[0m\u001b[1;33m\u001b[0m\u001b[1;33m\u001b[0m\u001b[0m\n\u001b[0m\u001b[0;32m    395\u001b[0m \u001b[1;33m\u001b[0m\u001b[0m\n\u001b[0;32m    396\u001b[0m         \u001b[1;32mreturn\u001b[0m \u001b[0mself\u001b[0m\u001b[1;33m\u001b[0m\u001b[1;33m\u001b[0m\u001b[0m\n",
      "\u001b[1;32m~\\Anaconda3\\lib\\site-packages\\sklearn\\linear_model\\_coordinate_descent.py\u001b[0m in \u001b[0;36mfit\u001b[1;34m(self, X, y, sample_weight, check_input)\u001b[0m\n\u001b[0;32m    933\u001b[0m         \u001b[1;32mif\u001b[0m \u001b[0mcheck_input\u001b[0m\u001b[1;33m:\u001b[0m\u001b[1;33m\u001b[0m\u001b[1;33m\u001b[0m\u001b[0m\n\u001b[0;32m    934\u001b[0m             \u001b[0mX_copied\u001b[0m \u001b[1;33m=\u001b[0m \u001b[0mself\u001b[0m\u001b[1;33m.\u001b[0m\u001b[0mcopy_X\u001b[0m \u001b[1;32mand\u001b[0m \u001b[0mself\u001b[0m\u001b[1;33m.\u001b[0m\u001b[0mfit_intercept\u001b[0m\u001b[1;33m\u001b[0m\u001b[1;33m\u001b[0m\u001b[0m\n\u001b[1;32m--> 935\u001b[1;33m             X, y = self._validate_data(\n\u001b[0m\u001b[0;32m    936\u001b[0m                 \u001b[0mX\u001b[0m\u001b[1;33m,\u001b[0m\u001b[1;33m\u001b[0m\u001b[1;33m\u001b[0m\u001b[0m\n\u001b[0;32m    937\u001b[0m                 \u001b[0my\u001b[0m\u001b[1;33m,\u001b[0m\u001b[1;33m\u001b[0m\u001b[1;33m\u001b[0m\u001b[0m\n",
      "\u001b[1;32m~\\Anaconda3\\lib\\site-packages\\sklearn\\base.py\u001b[0m in \u001b[0;36m_validate_data\u001b[1;34m(self, X, y, reset, validate_separately, **check_params)\u001b[0m\n\u001b[0;32m    579\u001b[0m                 \u001b[0my\u001b[0m \u001b[1;33m=\u001b[0m \u001b[0mcheck_array\u001b[0m\u001b[1;33m(\u001b[0m\u001b[0my\u001b[0m\u001b[1;33m,\u001b[0m \u001b[1;33m**\u001b[0m\u001b[0mcheck_y_params\u001b[0m\u001b[1;33m)\u001b[0m\u001b[1;33m\u001b[0m\u001b[1;33m\u001b[0m\u001b[0m\n\u001b[0;32m    580\u001b[0m             \u001b[1;32melse\u001b[0m\u001b[1;33m:\u001b[0m\u001b[1;33m\u001b[0m\u001b[1;33m\u001b[0m\u001b[0m\n\u001b[1;32m--> 581\u001b[1;33m                 \u001b[0mX\u001b[0m\u001b[1;33m,\u001b[0m \u001b[0my\u001b[0m \u001b[1;33m=\u001b[0m \u001b[0mcheck_X_y\u001b[0m\u001b[1;33m(\u001b[0m\u001b[0mX\u001b[0m\u001b[1;33m,\u001b[0m \u001b[0my\u001b[0m\u001b[1;33m,\u001b[0m \u001b[1;33m**\u001b[0m\u001b[0mcheck_params\u001b[0m\u001b[1;33m)\u001b[0m\u001b[1;33m\u001b[0m\u001b[1;33m\u001b[0m\u001b[0m\n\u001b[0m\u001b[0;32m    582\u001b[0m             \u001b[0mout\u001b[0m \u001b[1;33m=\u001b[0m \u001b[0mX\u001b[0m\u001b[1;33m,\u001b[0m \u001b[0my\u001b[0m\u001b[1;33m\u001b[0m\u001b[1;33m\u001b[0m\u001b[0m\n\u001b[0;32m    583\u001b[0m \u001b[1;33m\u001b[0m\u001b[0m\n",
      "\u001b[1;32m~\\Anaconda3\\lib\\site-packages\\sklearn\\utils\\validation.py\u001b[0m in \u001b[0;36mcheck_X_y\u001b[1;34m(X, y, accept_sparse, accept_large_sparse, dtype, order, copy, force_all_finite, ensure_2d, allow_nd, multi_output, ensure_min_samples, ensure_min_features, y_numeric, estimator)\u001b[0m\n\u001b[0;32m    962\u001b[0m         \u001b[1;32mraise\u001b[0m \u001b[0mValueError\u001b[0m\u001b[1;33m(\u001b[0m\u001b[1;34m\"y cannot be None\"\u001b[0m\u001b[1;33m)\u001b[0m\u001b[1;33m\u001b[0m\u001b[1;33m\u001b[0m\u001b[0m\n\u001b[0;32m    963\u001b[0m \u001b[1;33m\u001b[0m\u001b[0m\n\u001b[1;32m--> 964\u001b[1;33m     X = check_array(\n\u001b[0m\u001b[0;32m    965\u001b[0m         \u001b[0mX\u001b[0m\u001b[1;33m,\u001b[0m\u001b[1;33m\u001b[0m\u001b[1;33m\u001b[0m\u001b[0m\n\u001b[0;32m    966\u001b[0m         \u001b[0maccept_sparse\u001b[0m\u001b[1;33m=\u001b[0m\u001b[0maccept_sparse\u001b[0m\u001b[1;33m,\u001b[0m\u001b[1;33m\u001b[0m\u001b[1;33m\u001b[0m\u001b[0m\n",
      "\u001b[1;32m~\\Anaconda3\\lib\\site-packages\\sklearn\\utils\\validation.py\u001b[0m in \u001b[0;36mcheck_array\u001b[1;34m(array, accept_sparse, accept_large_sparse, dtype, order, copy, force_all_finite, ensure_2d, allow_nd, ensure_min_samples, ensure_min_features, estimator)\u001b[0m\n\u001b[0;32m    798\u001b[0m \u001b[1;33m\u001b[0m\u001b[0m\n\u001b[0;32m    799\u001b[0m         \u001b[1;32mif\u001b[0m \u001b[0mforce_all_finite\u001b[0m\u001b[1;33m:\u001b[0m\u001b[1;33m\u001b[0m\u001b[1;33m\u001b[0m\u001b[0m\n\u001b[1;32m--> 800\u001b[1;33m             \u001b[0m_assert_all_finite\u001b[0m\u001b[1;33m(\u001b[0m\u001b[0marray\u001b[0m\u001b[1;33m,\u001b[0m \u001b[0mallow_nan\u001b[0m\u001b[1;33m=\u001b[0m\u001b[0mforce_all_finite\u001b[0m \u001b[1;33m==\u001b[0m \u001b[1;34m\"allow-nan\"\u001b[0m\u001b[1;33m)\u001b[0m\u001b[1;33m\u001b[0m\u001b[1;33m\u001b[0m\u001b[0m\n\u001b[0m\u001b[0;32m    801\u001b[0m \u001b[1;33m\u001b[0m\u001b[0m\n\u001b[0;32m    802\u001b[0m     \u001b[1;32mif\u001b[0m \u001b[0mensure_min_samples\u001b[0m \u001b[1;33m>\u001b[0m \u001b[1;36m0\u001b[0m\u001b[1;33m:\u001b[0m\u001b[1;33m\u001b[0m\u001b[1;33m\u001b[0m\u001b[0m\n",
      "\u001b[1;32m~\\Anaconda3\\lib\\site-packages\\sklearn\\utils\\validation.py\u001b[0m in \u001b[0;36m_assert_all_finite\u001b[1;34m(X, allow_nan, msg_dtype)\u001b[0m\n\u001b[0;32m    112\u001b[0m         ):\n\u001b[0;32m    113\u001b[0m             \u001b[0mtype_err\u001b[0m \u001b[1;33m=\u001b[0m \u001b[1;34m\"infinity\"\u001b[0m \u001b[1;32mif\u001b[0m \u001b[0mallow_nan\u001b[0m \u001b[1;32melse\u001b[0m \u001b[1;34m\"NaN, infinity\"\u001b[0m\u001b[1;33m\u001b[0m\u001b[1;33m\u001b[0m\u001b[0m\n\u001b[1;32m--> 114\u001b[1;33m             raise ValueError(\n\u001b[0m\u001b[0;32m    115\u001b[0m                 msg_err.format(\n\u001b[0;32m    116\u001b[0m                     \u001b[0mtype_err\u001b[0m\u001b[1;33m,\u001b[0m \u001b[0mmsg_dtype\u001b[0m \u001b[1;32mif\u001b[0m \u001b[0mmsg_dtype\u001b[0m \u001b[1;32mis\u001b[0m \u001b[1;32mnot\u001b[0m \u001b[1;32mNone\u001b[0m \u001b[1;32melse\u001b[0m \u001b[0mX\u001b[0m\u001b[1;33m.\u001b[0m\u001b[0mdtype\u001b[0m\u001b[1;33m\u001b[0m\u001b[1;33m\u001b[0m\u001b[0m\n",
      "\u001b[1;31mValueError\u001b[0m: Input contains NaN, infinity or a value too large for dtype('float64')."
     ]
    }
   ],
   "source": [
    "pipe.fit(X, y)"
   ]
  },
  {
   "cell_type": "code",
   "execution_count": 71,
   "metadata": {},
   "outputs": [
    {
     "data": {
      "text/html": [
       "<style>#sk-51a49847-c8ca-459a-9b89-74d9ec410991 {color: black;background-color: white;}#sk-51a49847-c8ca-459a-9b89-74d9ec410991 pre{padding: 0;}#sk-51a49847-c8ca-459a-9b89-74d9ec410991 div.sk-toggleable {background-color: white;}#sk-51a49847-c8ca-459a-9b89-74d9ec410991 label.sk-toggleable__label {cursor: pointer;display: block;width: 100%;margin-bottom: 0;padding: 0.3em;box-sizing: border-box;text-align: center;}#sk-51a49847-c8ca-459a-9b89-74d9ec410991 label.sk-toggleable__label-arrow:before {content: \"▸\";float: left;margin-right: 0.25em;color: #696969;}#sk-51a49847-c8ca-459a-9b89-74d9ec410991 label.sk-toggleable__label-arrow:hover:before {color: black;}#sk-51a49847-c8ca-459a-9b89-74d9ec410991 div.sk-estimator:hover label.sk-toggleable__label-arrow:before {color: black;}#sk-51a49847-c8ca-459a-9b89-74d9ec410991 div.sk-toggleable__content {max-height: 0;max-width: 0;overflow: hidden;text-align: left;background-color: #f0f8ff;}#sk-51a49847-c8ca-459a-9b89-74d9ec410991 div.sk-toggleable__content pre {margin: 0.2em;color: black;border-radius: 0.25em;background-color: #f0f8ff;}#sk-51a49847-c8ca-459a-9b89-74d9ec410991 input.sk-toggleable__control:checked~div.sk-toggleable__content {max-height: 200px;max-width: 100%;overflow: auto;}#sk-51a49847-c8ca-459a-9b89-74d9ec410991 input.sk-toggleable__control:checked~label.sk-toggleable__label-arrow:before {content: \"▾\";}#sk-51a49847-c8ca-459a-9b89-74d9ec410991 div.sk-estimator input.sk-toggleable__control:checked~label.sk-toggleable__label {background-color: #d4ebff;}#sk-51a49847-c8ca-459a-9b89-74d9ec410991 div.sk-label input.sk-toggleable__control:checked~label.sk-toggleable__label {background-color: #d4ebff;}#sk-51a49847-c8ca-459a-9b89-74d9ec410991 input.sk-hidden--visually {border: 0;clip: rect(1px 1px 1px 1px);clip: rect(1px, 1px, 1px, 1px);height: 1px;margin: -1px;overflow: hidden;padding: 0;position: absolute;width: 1px;}#sk-51a49847-c8ca-459a-9b89-74d9ec410991 div.sk-estimator {font-family: monospace;background-color: #f0f8ff;border: 1px dotted black;border-radius: 0.25em;box-sizing: border-box;margin-bottom: 0.5em;}#sk-51a49847-c8ca-459a-9b89-74d9ec410991 div.sk-estimator:hover {background-color: #d4ebff;}#sk-51a49847-c8ca-459a-9b89-74d9ec410991 div.sk-parallel-item::after {content: \"\";width: 100%;border-bottom: 1px solid gray;flex-grow: 1;}#sk-51a49847-c8ca-459a-9b89-74d9ec410991 div.sk-label:hover label.sk-toggleable__label {background-color: #d4ebff;}#sk-51a49847-c8ca-459a-9b89-74d9ec410991 div.sk-serial::before {content: \"\";position: absolute;border-left: 1px solid gray;box-sizing: border-box;top: 2em;bottom: 0;left: 50%;}#sk-51a49847-c8ca-459a-9b89-74d9ec410991 div.sk-serial {display: flex;flex-direction: column;align-items: center;background-color: white;padding-right: 0.2em;padding-left: 0.2em;}#sk-51a49847-c8ca-459a-9b89-74d9ec410991 div.sk-item {z-index: 1;}#sk-51a49847-c8ca-459a-9b89-74d9ec410991 div.sk-parallel {display: flex;align-items: stretch;justify-content: center;background-color: white;}#sk-51a49847-c8ca-459a-9b89-74d9ec410991 div.sk-parallel::before {content: \"\";position: absolute;border-left: 1px solid gray;box-sizing: border-box;top: 2em;bottom: 0;left: 50%;}#sk-51a49847-c8ca-459a-9b89-74d9ec410991 div.sk-parallel-item {display: flex;flex-direction: column;position: relative;background-color: white;}#sk-51a49847-c8ca-459a-9b89-74d9ec410991 div.sk-parallel-item:first-child::after {align-self: flex-end;width: 50%;}#sk-51a49847-c8ca-459a-9b89-74d9ec410991 div.sk-parallel-item:last-child::after {align-self: flex-start;width: 50%;}#sk-51a49847-c8ca-459a-9b89-74d9ec410991 div.sk-parallel-item:only-child::after {width: 0;}#sk-51a49847-c8ca-459a-9b89-74d9ec410991 div.sk-dashed-wrapped {border: 1px dashed gray;margin: 0 0.4em 0.5em 0.4em;box-sizing: border-box;padding-bottom: 0.4em;background-color: white;position: relative;}#sk-51a49847-c8ca-459a-9b89-74d9ec410991 div.sk-label label {font-family: monospace;font-weight: bold;background-color: white;display: inline-block;line-height: 1.2em;}#sk-51a49847-c8ca-459a-9b89-74d9ec410991 div.sk-label-container {position: relative;z-index: 2;text-align: center;}#sk-51a49847-c8ca-459a-9b89-74d9ec410991 div.sk-container {/* jupyter's `normalize.less` sets `[hidden] { display: none; }` but bootstrap.min.css set `[hidden] { display: none !important; }` so we also need the `!important` here to be able to override the default hidden behavior on the sphinx rendered scikit-learn.org. See: https://github.com/scikit-learn/scikit-learn/issues/21755 */display: inline-block !important;position: relative;}#sk-51a49847-c8ca-459a-9b89-74d9ec410991 div.sk-text-repr-fallback {display: none;}</style><div id=\"sk-51a49847-c8ca-459a-9b89-74d9ec410991\" class=\"sk-top-container\"><div class=\"sk-text-repr-fallback\"><pre>Pipeline(steps=[(&#x27;preprocess&#x27;,\n",
       "                 ColumnTransformer(remainder=&#x27;passthrough&#x27;,\n",
       "                                   transformers=[(&#x27;date&#x27;, &#x27;drop&#x27;,\n",
       "                                                  &lt;sklearn.compose._column_transformer.make_column_selector object at 0x000001B6C0190EE0&gt;),\n",
       "                                                 (&#x27;categorical&#x27;,\n",
       "                                                  OrdinalEncoder(handle_unknown=&#x27;use_encoded_value&#x27;,\n",
       "                                                                 unknown_value=nan),\n",
       "                                                  &lt;sklearn.compose._column_transformer.make_column_selector object at 0x000001B6C0190A90&gt;)])),\n",
       "                (&#x27;variance&#x27;, VarianceThreshold()),\n",
       "                (&#x27;predictor&#x27;, HistGradientBoostingRegressor())])</pre><b>Please rerun this cell to show the HTML repr or trust the notebook.</b></div><div class=\"sk-container\" hidden><div class=\"sk-item sk-dashed-wrapped\"><div class=\"sk-label-container\"><div class=\"sk-label sk-toggleable\"><input class=\"sk-toggleable__control sk-hidden--visually\" id=\"904b2b55-4acd-48aa-8dca-ff1ffe0c9841\" type=\"checkbox\" ><label for=\"904b2b55-4acd-48aa-8dca-ff1ffe0c9841\" class=\"sk-toggleable__label sk-toggleable__label-arrow\">Pipeline</label><div class=\"sk-toggleable__content\"><pre>Pipeline(steps=[(&#x27;preprocess&#x27;,\n",
       "                 ColumnTransformer(remainder=&#x27;passthrough&#x27;,\n",
       "                                   transformers=[(&#x27;date&#x27;, &#x27;drop&#x27;,\n",
       "                                                  &lt;sklearn.compose._column_transformer.make_column_selector object at 0x000001B6C0190EE0&gt;),\n",
       "                                                 (&#x27;categorical&#x27;,\n",
       "                                                  OrdinalEncoder(handle_unknown=&#x27;use_encoded_value&#x27;,\n",
       "                                                                 unknown_value=nan),\n",
       "                                                  &lt;sklearn.compose._column_transformer.make_column_selector object at 0x000001B6C0190A90&gt;)])),\n",
       "                (&#x27;variance&#x27;, VarianceThreshold()),\n",
       "                (&#x27;predictor&#x27;, HistGradientBoostingRegressor())])</pre></div></div></div><div class=\"sk-serial\"><div class=\"sk-item sk-dashed-wrapped\"><div class=\"sk-label-container\"><div class=\"sk-label sk-toggleable\"><input class=\"sk-toggleable__control sk-hidden--visually\" id=\"706600b7-8f04-4384-8285-b53f1763d45e\" type=\"checkbox\" ><label for=\"706600b7-8f04-4384-8285-b53f1763d45e\" class=\"sk-toggleable__label sk-toggleable__label-arrow\">preprocess: ColumnTransformer</label><div class=\"sk-toggleable__content\"><pre>ColumnTransformer(remainder=&#x27;passthrough&#x27;,\n",
       "                  transformers=[(&#x27;date&#x27;, &#x27;drop&#x27;,\n",
       "                                 &lt;sklearn.compose._column_transformer.make_column_selector object at 0x000001B6C0190EE0&gt;),\n",
       "                                (&#x27;categorical&#x27;,\n",
       "                                 OrdinalEncoder(handle_unknown=&#x27;use_encoded_value&#x27;,\n",
       "                                                unknown_value=nan),\n",
       "                                 &lt;sklearn.compose._column_transformer.make_column_selector object at 0x000001B6C0190A90&gt;)])</pre></div></div></div><div class=\"sk-parallel\"><div class=\"sk-parallel-item\"><div class=\"sk-item\"><div class=\"sk-label-container\"><div class=\"sk-label sk-toggleable\"><input class=\"sk-toggleable__control sk-hidden--visually\" id=\"22f3bca1-076a-41e1-aded-8ed330505379\" type=\"checkbox\" ><label for=\"22f3bca1-076a-41e1-aded-8ed330505379\" class=\"sk-toggleable__label sk-toggleable__label-arrow\">date</label><div class=\"sk-toggleable__content\"><pre>&lt;sklearn.compose._column_transformer.make_column_selector object at 0x000001B6C0190EE0&gt;</pre></div></div></div><div class=\"sk-serial\"><div class=\"sk-item\"><div class=\"sk-estimator sk-toggleable\"><input class=\"sk-toggleable__control sk-hidden--visually\" id=\"a4dedd52-9838-4383-946c-23c9ddd66860\" type=\"checkbox\" ><label for=\"a4dedd52-9838-4383-946c-23c9ddd66860\" class=\"sk-toggleable__label sk-toggleable__label-arrow\">drop</label><div class=\"sk-toggleable__content\"><pre>drop</pre></div></div></div></div></div></div><div class=\"sk-parallel-item\"><div class=\"sk-item\"><div class=\"sk-label-container\"><div class=\"sk-label sk-toggleable\"><input class=\"sk-toggleable__control sk-hidden--visually\" id=\"b2a4b6df-bfaf-4cbe-8ab8-c37bd304d0a4\" type=\"checkbox\" ><label for=\"b2a4b6df-bfaf-4cbe-8ab8-c37bd304d0a4\" class=\"sk-toggleable__label sk-toggleable__label-arrow\">categorical</label><div class=\"sk-toggleable__content\"><pre>&lt;sklearn.compose._column_transformer.make_column_selector object at 0x000001B6C0190A90&gt;</pre></div></div></div><div class=\"sk-serial\"><div class=\"sk-item\"><div class=\"sk-estimator sk-toggleable\"><input class=\"sk-toggleable__control sk-hidden--visually\" id=\"304d7052-b9b0-444e-b34f-cef158f151da\" type=\"checkbox\" ><label for=\"304d7052-b9b0-444e-b34f-cef158f151da\" class=\"sk-toggleable__label sk-toggleable__label-arrow\">OrdinalEncoder</label><div class=\"sk-toggleable__content\"><pre>OrdinalEncoder(handle_unknown=&#x27;use_encoded_value&#x27;, unknown_value=nan)</pre></div></div></div></div></div></div><div class=\"sk-parallel-item\"><div class=\"sk-item\"><div class=\"sk-label-container\"><div class=\"sk-label sk-toggleable\"><input class=\"sk-toggleable__control sk-hidden--visually\" id=\"ea496eec-921a-4d75-895c-5cce9ddda529\" type=\"checkbox\" ><label for=\"ea496eec-921a-4d75-895c-5cce9ddda529\" class=\"sk-toggleable__label sk-toggleable__label-arrow\">remainder</label><div class=\"sk-toggleable__content\"><pre>[&#x27;passengers&#x27;, &#x27;distance&#x27;]</pre></div></div></div><div class=\"sk-serial\"><div class=\"sk-item\"><div class=\"sk-estimator sk-toggleable\"><input class=\"sk-toggleable__control sk-hidden--visually\" id=\"2eefdb88-df05-45ea-bb16-0d93dca498dc\" type=\"checkbox\" ><label for=\"2eefdb88-df05-45ea-bb16-0d93dca498dc\" class=\"sk-toggleable__label sk-toggleable__label-arrow\">passthrough</label><div class=\"sk-toggleable__content\"><pre>passthrough</pre></div></div></div></div></div></div></div></div><div class=\"sk-item\"><div class=\"sk-estimator sk-toggleable\"><input class=\"sk-toggleable__control sk-hidden--visually\" id=\"b3bf83c0-0519-401e-b5cc-b2d0ca24a823\" type=\"checkbox\" ><label for=\"b3bf83c0-0519-401e-b5cc-b2d0ca24a823\" class=\"sk-toggleable__label sk-toggleable__label-arrow\">VarianceThreshold</label><div class=\"sk-toggleable__content\"><pre>VarianceThreshold()</pre></div></div></div><div class=\"sk-item\"><div class=\"sk-estimator sk-toggleable\"><input class=\"sk-toggleable__control sk-hidden--visually\" id=\"e873eba6-c41d-4b1f-a928-93889d6c1f11\" type=\"checkbox\" ><label for=\"e873eba6-c41d-4b1f-a928-93889d6c1f11\" class=\"sk-toggleable__label sk-toggleable__label-arrow\">HistGradientBoostingRegressor</label><div class=\"sk-toggleable__content\"><pre>HistGradientBoostingRegressor()</pre></div></div></div></div></div></div></div>"
      ],
      "text/plain": [
       "Pipeline(steps=[('preprocess',\n",
       "                 ColumnTransformer(remainder='passthrough',\n",
       "                                   transformers=[('date', 'drop',\n",
       "                                                  <sklearn.compose._column_transformer.make_column_selector object at 0x000001B6C0190EE0>),\n",
       "                                                 ('categorical',\n",
       "                                                  OrdinalEncoder(handle_unknown='use_encoded_value',\n",
       "                                                                 unknown_value=nan),\n",
       "                                                  <sklearn.compose._column_transformer.make_column_selector object at 0x000001B6C0190A90>)])),\n",
       "                ('variance', VarianceThreshold()),\n",
       "                ('predictor', HistGradientBoostingRegressor())])"
      ]
     },
     "execution_count": 71,
     "metadata": {},
     "output_type": "execute_result"
    }
   ],
   "source": [
    "from sklearn.ensemble import HistGradientBoostingRegressor\n",
    "\n",
    "pipe = Pipeline(\n",
    "    steps=[\n",
    "        ('preprocess', preproc),\n",
    "        ('variance', VarianceThreshold()),\n",
    "        ('predictor', HistGradientBoostingRegressor()),\n",
    "    ]\n",
    ")\n",
    "pipe.fit(X, y)"
   ]
  },
  {
   "cell_type": "code",
   "execution_count": 76,
   "metadata": {},
   "outputs": [
    {
     "data": {
      "text/plain": [
       "('CV Score:', 0.8329526438640601)"
      ]
     },
     "execution_count": 76,
     "metadata": {},
     "output_type": "execute_result"
    }
   ],
   "source": [
    "from sklearn.model_selection import cross_val_score\n",
    "\n",
    "scores = cross_val_score(pipe, X=X,y=y, cv=5)\n",
    "'CV Score:', scores.mean()"
   ]
  },
  {
   "cell_type": "markdown",
   "metadata": {},
   "source": [
    "### Univariate feature imputation\n",
    "Uses basic approach such as mean, median or mode to impute missing values."
   ]
  },
  {
   "cell_type": "code",
   "execution_count": 77,
   "metadata": {},
   "outputs": [
    {
     "data": {
      "text/html": [
       "<style>#sk-736cf97f-abcf-4c21-9633-8388f136ac16 {color: black;background-color: white;}#sk-736cf97f-abcf-4c21-9633-8388f136ac16 pre{padding: 0;}#sk-736cf97f-abcf-4c21-9633-8388f136ac16 div.sk-toggleable {background-color: white;}#sk-736cf97f-abcf-4c21-9633-8388f136ac16 label.sk-toggleable__label {cursor: pointer;display: block;width: 100%;margin-bottom: 0;padding: 0.3em;box-sizing: border-box;text-align: center;}#sk-736cf97f-abcf-4c21-9633-8388f136ac16 label.sk-toggleable__label-arrow:before {content: \"▸\";float: left;margin-right: 0.25em;color: #696969;}#sk-736cf97f-abcf-4c21-9633-8388f136ac16 label.sk-toggleable__label-arrow:hover:before {color: black;}#sk-736cf97f-abcf-4c21-9633-8388f136ac16 div.sk-estimator:hover label.sk-toggleable__label-arrow:before {color: black;}#sk-736cf97f-abcf-4c21-9633-8388f136ac16 div.sk-toggleable__content {max-height: 0;max-width: 0;overflow: hidden;text-align: left;background-color: #f0f8ff;}#sk-736cf97f-abcf-4c21-9633-8388f136ac16 div.sk-toggleable__content pre {margin: 0.2em;color: black;border-radius: 0.25em;background-color: #f0f8ff;}#sk-736cf97f-abcf-4c21-9633-8388f136ac16 input.sk-toggleable__control:checked~div.sk-toggleable__content {max-height: 200px;max-width: 100%;overflow: auto;}#sk-736cf97f-abcf-4c21-9633-8388f136ac16 input.sk-toggleable__control:checked~label.sk-toggleable__label-arrow:before {content: \"▾\";}#sk-736cf97f-abcf-4c21-9633-8388f136ac16 div.sk-estimator input.sk-toggleable__control:checked~label.sk-toggleable__label {background-color: #d4ebff;}#sk-736cf97f-abcf-4c21-9633-8388f136ac16 div.sk-label input.sk-toggleable__control:checked~label.sk-toggleable__label {background-color: #d4ebff;}#sk-736cf97f-abcf-4c21-9633-8388f136ac16 input.sk-hidden--visually {border: 0;clip: rect(1px 1px 1px 1px);clip: rect(1px, 1px, 1px, 1px);height: 1px;margin: -1px;overflow: hidden;padding: 0;position: absolute;width: 1px;}#sk-736cf97f-abcf-4c21-9633-8388f136ac16 div.sk-estimator {font-family: monospace;background-color: #f0f8ff;border: 1px dotted black;border-radius: 0.25em;box-sizing: border-box;margin-bottom: 0.5em;}#sk-736cf97f-abcf-4c21-9633-8388f136ac16 div.sk-estimator:hover {background-color: #d4ebff;}#sk-736cf97f-abcf-4c21-9633-8388f136ac16 div.sk-parallel-item::after {content: \"\";width: 100%;border-bottom: 1px solid gray;flex-grow: 1;}#sk-736cf97f-abcf-4c21-9633-8388f136ac16 div.sk-label:hover label.sk-toggleable__label {background-color: #d4ebff;}#sk-736cf97f-abcf-4c21-9633-8388f136ac16 div.sk-serial::before {content: \"\";position: absolute;border-left: 1px solid gray;box-sizing: border-box;top: 2em;bottom: 0;left: 50%;}#sk-736cf97f-abcf-4c21-9633-8388f136ac16 div.sk-serial {display: flex;flex-direction: column;align-items: center;background-color: white;padding-right: 0.2em;padding-left: 0.2em;}#sk-736cf97f-abcf-4c21-9633-8388f136ac16 div.sk-item {z-index: 1;}#sk-736cf97f-abcf-4c21-9633-8388f136ac16 div.sk-parallel {display: flex;align-items: stretch;justify-content: center;background-color: white;}#sk-736cf97f-abcf-4c21-9633-8388f136ac16 div.sk-parallel::before {content: \"\";position: absolute;border-left: 1px solid gray;box-sizing: border-box;top: 2em;bottom: 0;left: 50%;}#sk-736cf97f-abcf-4c21-9633-8388f136ac16 div.sk-parallel-item {display: flex;flex-direction: column;position: relative;background-color: white;}#sk-736cf97f-abcf-4c21-9633-8388f136ac16 div.sk-parallel-item:first-child::after {align-self: flex-end;width: 50%;}#sk-736cf97f-abcf-4c21-9633-8388f136ac16 div.sk-parallel-item:last-child::after {align-self: flex-start;width: 50%;}#sk-736cf97f-abcf-4c21-9633-8388f136ac16 div.sk-parallel-item:only-child::after {width: 0;}#sk-736cf97f-abcf-4c21-9633-8388f136ac16 div.sk-dashed-wrapped {border: 1px dashed gray;margin: 0 0.4em 0.5em 0.4em;box-sizing: border-box;padding-bottom: 0.4em;background-color: white;position: relative;}#sk-736cf97f-abcf-4c21-9633-8388f136ac16 div.sk-label label {font-family: monospace;font-weight: bold;background-color: white;display: inline-block;line-height: 1.2em;}#sk-736cf97f-abcf-4c21-9633-8388f136ac16 div.sk-label-container {position: relative;z-index: 2;text-align: center;}#sk-736cf97f-abcf-4c21-9633-8388f136ac16 div.sk-container {/* jupyter's `normalize.less` sets `[hidden] { display: none; }` but bootstrap.min.css set `[hidden] { display: none !important; }` so we also need the `!important` here to be able to override the default hidden behavior on the sphinx rendered scikit-learn.org. See: https://github.com/scikit-learn/scikit-learn/issues/21755 */display: inline-block !important;position: relative;}#sk-736cf97f-abcf-4c21-9633-8388f136ac16 div.sk-text-repr-fallback {display: none;}</style><div id=\"sk-736cf97f-abcf-4c21-9633-8388f136ac16\" class=\"sk-top-container\"><div class=\"sk-text-repr-fallback\"><pre>Pipeline(steps=[(&#x27;preprocess&#x27;,\n",
       "                 ColumnTransformer(remainder=&#x27;passthrough&#x27;,\n",
       "                                   transformers=[(&#x27;date&#x27;, &#x27;drop&#x27;,\n",
       "                                                  &lt;sklearn.compose._column_transformer.make_column_selector object at 0x000001B6C0190EE0&gt;),\n",
       "                                                 (&#x27;categorical&#x27;,\n",
       "                                                  OrdinalEncoder(handle_unknown=&#x27;use_encoded_value&#x27;,\n",
       "                                                                 unknown_value=nan),\n",
       "                                                  &lt;sklearn.compose._column_transformer.make_column_selector object at 0x000001B6C0190A90&gt;)])),\n",
       "                (&#x27;imputer&#x27;, SimpleImputer()), (&#x27;variance&#x27;, VarianceThreshold()),\n",
       "                (&#x27;predictor&#x27;, RandomForestRegressor())])</pre><b>Please rerun this cell to show the HTML repr or trust the notebook.</b></div><div class=\"sk-container\" hidden><div class=\"sk-item sk-dashed-wrapped\"><div class=\"sk-label-container\"><div class=\"sk-label sk-toggleable\"><input class=\"sk-toggleable__control sk-hidden--visually\" id=\"545dcb7a-574f-447e-bdc5-58551bd3e507\" type=\"checkbox\" ><label for=\"545dcb7a-574f-447e-bdc5-58551bd3e507\" class=\"sk-toggleable__label sk-toggleable__label-arrow\">Pipeline</label><div class=\"sk-toggleable__content\"><pre>Pipeline(steps=[(&#x27;preprocess&#x27;,\n",
       "                 ColumnTransformer(remainder=&#x27;passthrough&#x27;,\n",
       "                                   transformers=[(&#x27;date&#x27;, &#x27;drop&#x27;,\n",
       "                                                  &lt;sklearn.compose._column_transformer.make_column_selector object at 0x000001B6C0190EE0&gt;),\n",
       "                                                 (&#x27;categorical&#x27;,\n",
       "                                                  OrdinalEncoder(handle_unknown=&#x27;use_encoded_value&#x27;,\n",
       "                                                                 unknown_value=nan),\n",
       "                                                  &lt;sklearn.compose._column_transformer.make_column_selector object at 0x000001B6C0190A90&gt;)])),\n",
       "                (&#x27;imputer&#x27;, SimpleImputer()), (&#x27;variance&#x27;, VarianceThreshold()),\n",
       "                (&#x27;predictor&#x27;, RandomForestRegressor())])</pre></div></div></div><div class=\"sk-serial\"><div class=\"sk-item sk-dashed-wrapped\"><div class=\"sk-label-container\"><div class=\"sk-label sk-toggleable\"><input class=\"sk-toggleable__control sk-hidden--visually\" id=\"57b755f1-1bc8-4a18-8ce7-e750005c1b0d\" type=\"checkbox\" ><label for=\"57b755f1-1bc8-4a18-8ce7-e750005c1b0d\" class=\"sk-toggleable__label sk-toggleable__label-arrow\">preprocess: ColumnTransformer</label><div class=\"sk-toggleable__content\"><pre>ColumnTransformer(remainder=&#x27;passthrough&#x27;,\n",
       "                  transformers=[(&#x27;date&#x27;, &#x27;drop&#x27;,\n",
       "                                 &lt;sklearn.compose._column_transformer.make_column_selector object at 0x000001B6C0190EE0&gt;),\n",
       "                                (&#x27;categorical&#x27;,\n",
       "                                 OrdinalEncoder(handle_unknown=&#x27;use_encoded_value&#x27;,\n",
       "                                                unknown_value=nan),\n",
       "                                 &lt;sklearn.compose._column_transformer.make_column_selector object at 0x000001B6C0190A90&gt;)])</pre></div></div></div><div class=\"sk-parallel\"><div class=\"sk-parallel-item\"><div class=\"sk-item\"><div class=\"sk-label-container\"><div class=\"sk-label sk-toggleable\"><input class=\"sk-toggleable__control sk-hidden--visually\" id=\"c7e25cb3-7cf4-4b0d-b830-a9d331d8f67d\" type=\"checkbox\" ><label for=\"c7e25cb3-7cf4-4b0d-b830-a9d331d8f67d\" class=\"sk-toggleable__label sk-toggleable__label-arrow\">date</label><div class=\"sk-toggleable__content\"><pre>&lt;sklearn.compose._column_transformer.make_column_selector object at 0x000001B6C0190EE0&gt;</pre></div></div></div><div class=\"sk-serial\"><div class=\"sk-item\"><div class=\"sk-estimator sk-toggleable\"><input class=\"sk-toggleable__control sk-hidden--visually\" id=\"14e5e27f-5c2e-49fc-a21b-7e9385f25729\" type=\"checkbox\" ><label for=\"14e5e27f-5c2e-49fc-a21b-7e9385f25729\" class=\"sk-toggleable__label sk-toggleable__label-arrow\">drop</label><div class=\"sk-toggleable__content\"><pre>drop</pre></div></div></div></div></div></div><div class=\"sk-parallel-item\"><div class=\"sk-item\"><div class=\"sk-label-container\"><div class=\"sk-label sk-toggleable\"><input class=\"sk-toggleable__control sk-hidden--visually\" id=\"0c4f17cb-36bd-4308-b057-b9ea869b18e8\" type=\"checkbox\" ><label for=\"0c4f17cb-36bd-4308-b057-b9ea869b18e8\" class=\"sk-toggleable__label sk-toggleable__label-arrow\">categorical</label><div class=\"sk-toggleable__content\"><pre>&lt;sklearn.compose._column_transformer.make_column_selector object at 0x000001B6C0190A90&gt;</pre></div></div></div><div class=\"sk-serial\"><div class=\"sk-item\"><div class=\"sk-estimator sk-toggleable\"><input class=\"sk-toggleable__control sk-hidden--visually\" id=\"08c496de-1aad-47e7-89c9-acac1206d590\" type=\"checkbox\" ><label for=\"08c496de-1aad-47e7-89c9-acac1206d590\" class=\"sk-toggleable__label sk-toggleable__label-arrow\">OrdinalEncoder</label><div class=\"sk-toggleable__content\"><pre>OrdinalEncoder(handle_unknown=&#x27;use_encoded_value&#x27;, unknown_value=nan)</pre></div></div></div></div></div></div><div class=\"sk-parallel-item\"><div class=\"sk-item\"><div class=\"sk-label-container\"><div class=\"sk-label sk-toggleable\"><input class=\"sk-toggleable__control sk-hidden--visually\" id=\"9e17a697-9e35-4ca6-9ffc-945c4ead0594\" type=\"checkbox\" ><label for=\"9e17a697-9e35-4ca6-9ffc-945c4ead0594\" class=\"sk-toggleable__label sk-toggleable__label-arrow\">remainder</label><div class=\"sk-toggleable__content\"><pre>[&#x27;passengers&#x27;, &#x27;distance&#x27;]</pre></div></div></div><div class=\"sk-serial\"><div class=\"sk-item\"><div class=\"sk-estimator sk-toggleable\"><input class=\"sk-toggleable__control sk-hidden--visually\" id=\"133b6606-0000-462e-94cc-9b835c910eaa\" type=\"checkbox\" ><label for=\"133b6606-0000-462e-94cc-9b835c910eaa\" class=\"sk-toggleable__label sk-toggleable__label-arrow\">passthrough</label><div class=\"sk-toggleable__content\"><pre>passthrough</pre></div></div></div></div></div></div></div></div><div class=\"sk-item\"><div class=\"sk-estimator sk-toggleable\"><input class=\"sk-toggleable__control sk-hidden--visually\" id=\"914d2e56-5e86-42ec-ab97-a99acae1d5f5\" type=\"checkbox\" ><label for=\"914d2e56-5e86-42ec-ab97-a99acae1d5f5\" class=\"sk-toggleable__label sk-toggleable__label-arrow\">SimpleImputer</label><div class=\"sk-toggleable__content\"><pre>SimpleImputer()</pre></div></div></div><div class=\"sk-item\"><div class=\"sk-estimator sk-toggleable\"><input class=\"sk-toggleable__control sk-hidden--visually\" id=\"26c92ed4-4d3f-4acc-b43f-60f0bfd2f01b\" type=\"checkbox\" ><label for=\"26c92ed4-4d3f-4acc-b43f-60f0bfd2f01b\" class=\"sk-toggleable__label sk-toggleable__label-arrow\">VarianceThreshold</label><div class=\"sk-toggleable__content\"><pre>VarianceThreshold()</pre></div></div></div><div class=\"sk-item\"><div class=\"sk-estimator sk-toggleable\"><input class=\"sk-toggleable__control sk-hidden--visually\" id=\"c7ef1dad-08cc-4c6d-b349-4aa29a38b618\" type=\"checkbox\" ><label for=\"c7ef1dad-08cc-4c6d-b349-4aa29a38b618\" class=\"sk-toggleable__label sk-toggleable__label-arrow\">RandomForestRegressor</label><div class=\"sk-toggleable__content\"><pre>RandomForestRegressor()</pre></div></div></div></div></div></div></div>"
      ],
      "text/plain": [
       "Pipeline(steps=[('preprocess',\n",
       "                 ColumnTransformer(remainder='passthrough',\n",
       "                                   transformers=[('date', 'drop',\n",
       "                                                  <sklearn.compose._column_transformer.make_column_selector object at 0x000001B6C0190EE0>),\n",
       "                                                 ('categorical',\n",
       "                                                  OrdinalEncoder(handle_unknown='use_encoded_value',\n",
       "                                                                 unknown_value=nan),\n",
       "                                                  <sklearn.compose._column_transformer.make_column_selector object at 0x000001B6C0190A90>)])),\n",
       "                ('imputer', SimpleImputer()), ('variance', VarianceThreshold()),\n",
       "                ('predictor', RandomForestRegressor())])"
      ]
     },
     "execution_count": 77,
     "metadata": {},
     "output_type": "execute_result"
    }
   ],
   "source": [
    "from sklearn.ensemble import RandomForestRegressor\n",
    "\n",
    "pipe = Pipeline(\n",
    "    steps=[\n",
    "        ('preprocess', preproc),\n",
    "        ('imputer', SimpleImputer()),\n",
    "        ('variance', VarianceThreshold()),\n",
    "        ('predictor', RandomForestRegressor()),\n",
    "    ]\n",
    ")\n",
    "pipe"
   ]
  },
  {
   "cell_type": "code",
   "execution_count": 78,
   "metadata": {},
   "outputs": [
    {
     "data": {
      "text/plain": [
       "('CV Score:', 0.8120387683059794)"
      ]
     },
     "execution_count": 78,
     "metadata": {},
     "output_type": "execute_result"
    }
   ],
   "source": [
    "scores = cross_val_score(pipe, X=X,y=y, cv=5)\n",
    "'CV Score:', scores.mean()"
   ]
  },
  {
   "cell_type": "markdown",
   "metadata": {},
   "source": [
    "### Multivariate feature imputation\n",
    "A more sophisticated approach is to use a model to impute missing values. At each iteration, one feature with missing values is selected and the model is trained on the complete dataset. to predict the missing values. A disadvantage of this approach is that it takes a long time to train."
   ]
  },
  {
   "cell_type": "code",
   "execution_count": 87,
   "metadata": {},
   "outputs": [],
   "source": [
    "from sklearn.experimental import enable_iterative_imputer\n",
    "from sklearn.impute import IterativeImputer\n",
    "from sklearn.linear_model import BayesianRidge\n",
    "\n",
    "pipe = Pipeline(\n",
    "    steps=[\n",
    "        ('preprocess', preproc),\n",
    "        ('imputer', IterativeImputer(estimator=BayesianRidge())),\n",
    "        ('variance', VarianceThreshold()),\n",
    "        ('predictor', RandomForestRegressor()),\n",
    "    ]\n",
    ")"
   ]
  },
  {
   "cell_type": "code",
   "execution_count": 88,
   "metadata": {},
   "outputs": [
    {
     "data": {
      "text/plain": [
       "('CV Score:', 0.8077764551425604)"
      ]
     },
     "execution_count": 88,
     "metadata": {},
     "output_type": "execute_result"
    }
   ],
   "source": [
    "scores = cross_val_score(pipe, X=X,y=y, cv=5)\n",
    "'CV Score:', scores.mean()"
   ]
  },
  {
   "cell_type": "markdown",
   "metadata": {},
   "source": [
    "### Marking imputed values\n",
    "You can also mark the imputed values with another feature that indicates the missingness."
   ]
  },
  {
   "cell_type": "code",
   "execution_count": 103,
   "metadata": {},
   "outputs": [
    {
     "data": {
      "text/html": [
       "<style>#sk-eb83ee28-908a-4700-8e49-90bda5dd25d3 {color: black;background-color: white;}#sk-eb83ee28-908a-4700-8e49-90bda5dd25d3 pre{padding: 0;}#sk-eb83ee28-908a-4700-8e49-90bda5dd25d3 div.sk-toggleable {background-color: white;}#sk-eb83ee28-908a-4700-8e49-90bda5dd25d3 label.sk-toggleable__label {cursor: pointer;display: block;width: 100%;margin-bottom: 0;padding: 0.3em;box-sizing: border-box;text-align: center;}#sk-eb83ee28-908a-4700-8e49-90bda5dd25d3 label.sk-toggleable__label-arrow:before {content: \"▸\";float: left;margin-right: 0.25em;color: #696969;}#sk-eb83ee28-908a-4700-8e49-90bda5dd25d3 label.sk-toggleable__label-arrow:hover:before {color: black;}#sk-eb83ee28-908a-4700-8e49-90bda5dd25d3 div.sk-estimator:hover label.sk-toggleable__label-arrow:before {color: black;}#sk-eb83ee28-908a-4700-8e49-90bda5dd25d3 div.sk-toggleable__content {max-height: 0;max-width: 0;overflow: hidden;text-align: left;background-color: #f0f8ff;}#sk-eb83ee28-908a-4700-8e49-90bda5dd25d3 div.sk-toggleable__content pre {margin: 0.2em;color: black;border-radius: 0.25em;background-color: #f0f8ff;}#sk-eb83ee28-908a-4700-8e49-90bda5dd25d3 input.sk-toggleable__control:checked~div.sk-toggleable__content {max-height: 200px;max-width: 100%;overflow: auto;}#sk-eb83ee28-908a-4700-8e49-90bda5dd25d3 input.sk-toggleable__control:checked~label.sk-toggleable__label-arrow:before {content: \"▾\";}#sk-eb83ee28-908a-4700-8e49-90bda5dd25d3 div.sk-estimator input.sk-toggleable__control:checked~label.sk-toggleable__label {background-color: #d4ebff;}#sk-eb83ee28-908a-4700-8e49-90bda5dd25d3 div.sk-label input.sk-toggleable__control:checked~label.sk-toggleable__label {background-color: #d4ebff;}#sk-eb83ee28-908a-4700-8e49-90bda5dd25d3 input.sk-hidden--visually {border: 0;clip: rect(1px 1px 1px 1px);clip: rect(1px, 1px, 1px, 1px);height: 1px;margin: -1px;overflow: hidden;padding: 0;position: absolute;width: 1px;}#sk-eb83ee28-908a-4700-8e49-90bda5dd25d3 div.sk-estimator {font-family: monospace;background-color: #f0f8ff;border: 1px dotted black;border-radius: 0.25em;box-sizing: border-box;margin-bottom: 0.5em;}#sk-eb83ee28-908a-4700-8e49-90bda5dd25d3 div.sk-estimator:hover {background-color: #d4ebff;}#sk-eb83ee28-908a-4700-8e49-90bda5dd25d3 div.sk-parallel-item::after {content: \"\";width: 100%;border-bottom: 1px solid gray;flex-grow: 1;}#sk-eb83ee28-908a-4700-8e49-90bda5dd25d3 div.sk-label:hover label.sk-toggleable__label {background-color: #d4ebff;}#sk-eb83ee28-908a-4700-8e49-90bda5dd25d3 div.sk-serial::before {content: \"\";position: absolute;border-left: 1px solid gray;box-sizing: border-box;top: 2em;bottom: 0;left: 50%;}#sk-eb83ee28-908a-4700-8e49-90bda5dd25d3 div.sk-serial {display: flex;flex-direction: column;align-items: center;background-color: white;padding-right: 0.2em;padding-left: 0.2em;}#sk-eb83ee28-908a-4700-8e49-90bda5dd25d3 div.sk-item {z-index: 1;}#sk-eb83ee28-908a-4700-8e49-90bda5dd25d3 div.sk-parallel {display: flex;align-items: stretch;justify-content: center;background-color: white;}#sk-eb83ee28-908a-4700-8e49-90bda5dd25d3 div.sk-parallel::before {content: \"\";position: absolute;border-left: 1px solid gray;box-sizing: border-box;top: 2em;bottom: 0;left: 50%;}#sk-eb83ee28-908a-4700-8e49-90bda5dd25d3 div.sk-parallel-item {display: flex;flex-direction: column;position: relative;background-color: white;}#sk-eb83ee28-908a-4700-8e49-90bda5dd25d3 div.sk-parallel-item:first-child::after {align-self: flex-end;width: 50%;}#sk-eb83ee28-908a-4700-8e49-90bda5dd25d3 div.sk-parallel-item:last-child::after {align-self: flex-start;width: 50%;}#sk-eb83ee28-908a-4700-8e49-90bda5dd25d3 div.sk-parallel-item:only-child::after {width: 0;}#sk-eb83ee28-908a-4700-8e49-90bda5dd25d3 div.sk-dashed-wrapped {border: 1px dashed gray;margin: 0 0.4em 0.5em 0.4em;box-sizing: border-box;padding-bottom: 0.4em;background-color: white;position: relative;}#sk-eb83ee28-908a-4700-8e49-90bda5dd25d3 div.sk-label label {font-family: monospace;font-weight: bold;background-color: white;display: inline-block;line-height: 1.2em;}#sk-eb83ee28-908a-4700-8e49-90bda5dd25d3 div.sk-label-container {position: relative;z-index: 2;text-align: center;}#sk-eb83ee28-908a-4700-8e49-90bda5dd25d3 div.sk-container {/* jupyter's `normalize.less` sets `[hidden] { display: none; }` but bootstrap.min.css set `[hidden] { display: none !important; }` so we also need the `!important` here to be able to override the default hidden behavior on the sphinx rendered scikit-learn.org. See: https://github.com/scikit-learn/scikit-learn/issues/21755 */display: inline-block !important;position: relative;}#sk-eb83ee28-908a-4700-8e49-90bda5dd25d3 div.sk-text-repr-fallback {display: none;}</style><div id=\"sk-eb83ee28-908a-4700-8e49-90bda5dd25d3\" class=\"sk-top-container\"><div class=\"sk-text-repr-fallback\"><pre>Pipeline(steps=[(&#x27;preprocess&#x27;,\n",
       "                 ColumnTransformer(remainder=&#x27;passthrough&#x27;,\n",
       "                                   transformers=[(&#x27;date&#x27;, &#x27;drop&#x27;,\n",
       "                                                  &lt;sklearn.compose._column_transformer.make_column_selector object at 0x000001B6C0190EE0&gt;),\n",
       "                                                 (&#x27;categorical&#x27;,\n",
       "                                                  OrdinalEncoder(handle_unknown=&#x27;use_encoded_value&#x27;,\n",
       "                                                                 unknown_value=nan),\n",
       "                                                  &lt;sklearn.compose._column_transformer.make_column_selector object at 0x000001B6C0190A90&gt;)])),\n",
       "                (&#x27;imputer&#x27;,\n",
       "                 FeatureUnion(transformer_list=[(&#x27;features&#x27;, SimpleImputer()),\n",
       "                                                (&#x27;indicators&#x27;,\n",
       "                                                 MissingIndicator(error_on_new=False,\n",
       "                                                                  sparse=False))])),\n",
       "                (&#x27;variance&#x27;, VarianceThreshold()),\n",
       "                (&#x27;predictor&#x27;, RandomForestRegressor())])</pre><b>Please rerun this cell to show the HTML repr or trust the notebook.</b></div><div class=\"sk-container\" hidden><div class=\"sk-item sk-dashed-wrapped\"><div class=\"sk-label-container\"><div class=\"sk-label sk-toggleable\"><input class=\"sk-toggleable__control sk-hidden--visually\" id=\"9e86abfc-6dca-40f3-a081-8f05d9d93470\" type=\"checkbox\" ><label for=\"9e86abfc-6dca-40f3-a081-8f05d9d93470\" class=\"sk-toggleable__label sk-toggleable__label-arrow\">Pipeline</label><div class=\"sk-toggleable__content\"><pre>Pipeline(steps=[(&#x27;preprocess&#x27;,\n",
       "                 ColumnTransformer(remainder=&#x27;passthrough&#x27;,\n",
       "                                   transformers=[(&#x27;date&#x27;, &#x27;drop&#x27;,\n",
       "                                                  &lt;sklearn.compose._column_transformer.make_column_selector object at 0x000001B6C0190EE0&gt;),\n",
       "                                                 (&#x27;categorical&#x27;,\n",
       "                                                  OrdinalEncoder(handle_unknown=&#x27;use_encoded_value&#x27;,\n",
       "                                                                 unknown_value=nan),\n",
       "                                                  &lt;sklearn.compose._column_transformer.make_column_selector object at 0x000001B6C0190A90&gt;)])),\n",
       "                (&#x27;imputer&#x27;,\n",
       "                 FeatureUnion(transformer_list=[(&#x27;features&#x27;, SimpleImputer()),\n",
       "                                                (&#x27;indicators&#x27;,\n",
       "                                                 MissingIndicator(error_on_new=False,\n",
       "                                                                  sparse=False))])),\n",
       "                (&#x27;variance&#x27;, VarianceThreshold()),\n",
       "                (&#x27;predictor&#x27;, RandomForestRegressor())])</pre></div></div></div><div class=\"sk-serial\"><div class=\"sk-item sk-dashed-wrapped\"><div class=\"sk-label-container\"><div class=\"sk-label sk-toggleable\"><input class=\"sk-toggleable__control sk-hidden--visually\" id=\"bbbe1739-7191-43f7-a83c-890395d94d68\" type=\"checkbox\" ><label for=\"bbbe1739-7191-43f7-a83c-890395d94d68\" class=\"sk-toggleable__label sk-toggleable__label-arrow\">preprocess: ColumnTransformer</label><div class=\"sk-toggleable__content\"><pre>ColumnTransformer(remainder=&#x27;passthrough&#x27;,\n",
       "                  transformers=[(&#x27;date&#x27;, &#x27;drop&#x27;,\n",
       "                                 &lt;sklearn.compose._column_transformer.make_column_selector object at 0x000001B6C0190EE0&gt;),\n",
       "                                (&#x27;categorical&#x27;,\n",
       "                                 OrdinalEncoder(handle_unknown=&#x27;use_encoded_value&#x27;,\n",
       "                                                unknown_value=nan),\n",
       "                                 &lt;sklearn.compose._column_transformer.make_column_selector object at 0x000001B6C0190A90&gt;)])</pre></div></div></div><div class=\"sk-parallel\"><div class=\"sk-parallel-item\"><div class=\"sk-item\"><div class=\"sk-label-container\"><div class=\"sk-label sk-toggleable\"><input class=\"sk-toggleable__control sk-hidden--visually\" id=\"09ce38df-d5c9-4e21-9b30-e05a744ff36e\" type=\"checkbox\" ><label for=\"09ce38df-d5c9-4e21-9b30-e05a744ff36e\" class=\"sk-toggleable__label sk-toggleable__label-arrow\">date</label><div class=\"sk-toggleable__content\"><pre>&lt;sklearn.compose._column_transformer.make_column_selector object at 0x000001B6C0190EE0&gt;</pre></div></div></div><div class=\"sk-serial\"><div class=\"sk-item\"><div class=\"sk-estimator sk-toggleable\"><input class=\"sk-toggleable__control sk-hidden--visually\" id=\"861f6f8d-c694-4a6a-897f-211c7ffda539\" type=\"checkbox\" ><label for=\"861f6f8d-c694-4a6a-897f-211c7ffda539\" class=\"sk-toggleable__label sk-toggleable__label-arrow\">drop</label><div class=\"sk-toggleable__content\"><pre>drop</pre></div></div></div></div></div></div><div class=\"sk-parallel-item\"><div class=\"sk-item\"><div class=\"sk-label-container\"><div class=\"sk-label sk-toggleable\"><input class=\"sk-toggleable__control sk-hidden--visually\" id=\"59366603-f27b-4737-a712-c8b19f6a1b49\" type=\"checkbox\" ><label for=\"59366603-f27b-4737-a712-c8b19f6a1b49\" class=\"sk-toggleable__label sk-toggleable__label-arrow\">categorical</label><div class=\"sk-toggleable__content\"><pre>&lt;sklearn.compose._column_transformer.make_column_selector object at 0x000001B6C0190A90&gt;</pre></div></div></div><div class=\"sk-serial\"><div class=\"sk-item\"><div class=\"sk-estimator sk-toggleable\"><input class=\"sk-toggleable__control sk-hidden--visually\" id=\"61450dae-aaf6-4994-9ac6-31444053a34f\" type=\"checkbox\" ><label for=\"61450dae-aaf6-4994-9ac6-31444053a34f\" class=\"sk-toggleable__label sk-toggleable__label-arrow\">OrdinalEncoder</label><div class=\"sk-toggleable__content\"><pre>OrdinalEncoder(handle_unknown=&#x27;use_encoded_value&#x27;, unknown_value=nan)</pre></div></div></div></div></div></div><div class=\"sk-parallel-item\"><div class=\"sk-item\"><div class=\"sk-label-container\"><div class=\"sk-label sk-toggleable\"><input class=\"sk-toggleable__control sk-hidden--visually\" id=\"8114fe0d-c43c-4825-b4f2-ee4d34aec337\" type=\"checkbox\" ><label for=\"8114fe0d-c43c-4825-b4f2-ee4d34aec337\" class=\"sk-toggleable__label sk-toggleable__label-arrow\">remainder</label><div class=\"sk-toggleable__content\"><pre>[&#x27;passengers&#x27;, &#x27;distance&#x27;]</pre></div></div></div><div class=\"sk-serial\"><div class=\"sk-item\"><div class=\"sk-estimator sk-toggleable\"><input class=\"sk-toggleable__control sk-hidden--visually\" id=\"fea647b1-31d6-459c-ae8f-7aa225f7e5a4\" type=\"checkbox\" ><label for=\"fea647b1-31d6-459c-ae8f-7aa225f7e5a4\" class=\"sk-toggleable__label sk-toggleable__label-arrow\">passthrough</label><div class=\"sk-toggleable__content\"><pre>passthrough</pre></div></div></div></div></div></div></div></div><div class=\"sk-item sk-dashed-wrapped\"><div class=\"sk-label-container\"><div class=\"sk-label sk-toggleable\"><input class=\"sk-toggleable__control sk-hidden--visually\" id=\"0c22147c-c5f9-4974-9ad4-a595048532c3\" type=\"checkbox\" ><label for=\"0c22147c-c5f9-4974-9ad4-a595048532c3\" class=\"sk-toggleable__label sk-toggleable__label-arrow\">imputer: FeatureUnion</label><div class=\"sk-toggleable__content\"><pre>FeatureUnion(transformer_list=[(&#x27;features&#x27;, SimpleImputer()),\n",
       "                               (&#x27;indicators&#x27;,\n",
       "                                MissingIndicator(error_on_new=False,\n",
       "                                                 sparse=False))])</pre></div></div></div><div class=\"sk-parallel\"><div class=\"sk-parallel-item\"><div class=\"sk-item\"><div class=\"sk-label-container\"><div class=\"sk-label sk-toggleable\"><label>features</label></div></div><div class=\"sk-serial\"><div class=\"sk-item\"><div class=\"sk-estimator sk-toggleable\"><input class=\"sk-toggleable__control sk-hidden--visually\" id=\"fedbdfeb-db03-4beb-9f99-30d50a24164d\" type=\"checkbox\" ><label for=\"fedbdfeb-db03-4beb-9f99-30d50a24164d\" class=\"sk-toggleable__label sk-toggleable__label-arrow\">SimpleImputer</label><div class=\"sk-toggleable__content\"><pre>SimpleImputer()</pre></div></div></div></div></div></div><div class=\"sk-parallel-item\"><div class=\"sk-item\"><div class=\"sk-label-container\"><div class=\"sk-label sk-toggleable\"><label>indicators</label></div></div><div class=\"sk-serial\"><div class=\"sk-item\"><div class=\"sk-estimator sk-toggleable\"><input class=\"sk-toggleable__control sk-hidden--visually\" id=\"cc77d911-552a-48a9-ab80-39701dbe6931\" type=\"checkbox\" ><label for=\"cc77d911-552a-48a9-ab80-39701dbe6931\" class=\"sk-toggleable__label sk-toggleable__label-arrow\">MissingIndicator</label><div class=\"sk-toggleable__content\"><pre>MissingIndicator(error_on_new=False, sparse=False)</pre></div></div></div></div></div></div></div></div><div class=\"sk-item\"><div class=\"sk-estimator sk-toggleable\"><input class=\"sk-toggleable__control sk-hidden--visually\" id=\"e4750e63-efa7-4ede-85b1-1f1e1085c9cb\" type=\"checkbox\" ><label for=\"e4750e63-efa7-4ede-85b1-1f1e1085c9cb\" class=\"sk-toggleable__label sk-toggleable__label-arrow\">VarianceThreshold</label><div class=\"sk-toggleable__content\"><pre>VarianceThreshold()</pre></div></div></div><div class=\"sk-item\"><div class=\"sk-estimator sk-toggleable\"><input class=\"sk-toggleable__control sk-hidden--visually\" id=\"de5929a2-83e8-4fbe-bf42-e3ef7e494e14\" type=\"checkbox\" ><label for=\"de5929a2-83e8-4fbe-bf42-e3ef7e494e14\" class=\"sk-toggleable__label sk-toggleable__label-arrow\">RandomForestRegressor</label><div class=\"sk-toggleable__content\"><pre>RandomForestRegressor()</pre></div></div></div></div></div></div></div>"
      ],
      "text/plain": [
       "Pipeline(steps=[('preprocess',\n",
       "                 ColumnTransformer(remainder='passthrough',\n",
       "                                   transformers=[('date', 'drop',\n",
       "                                                  <sklearn.compose._column_transformer.make_column_selector object at 0x000001B6C0190EE0>),\n",
       "                                                 ('categorical',\n",
       "                                                  OrdinalEncoder(handle_unknown='use_encoded_value',\n",
       "                                                                 unknown_value=nan),\n",
       "                                                  <sklearn.compose._column_transformer.make_column_selector object at 0x000001B6C0190A90>)])),\n",
       "                ('imputer',\n",
       "                 FeatureUnion(transformer_list=[('features', SimpleImputer()),\n",
       "                                                ('indicators',\n",
       "                                                 MissingIndicator(error_on_new=False,\n",
       "                                                                  sparse=False))])),\n",
       "                ('variance', VarianceThreshold()),\n",
       "                ('predictor', RandomForestRegressor())])"
      ]
     },
     "execution_count": 103,
     "metadata": {},
     "output_type": "execute_result"
    }
   ],
   "source": [
    "from sklearn.pipeline import FeatureUnion\n",
    "from sklearn.impute import MissingIndicator\n",
    "\n",
    "missing = FeatureUnion(\n",
    "    transformer_list=[\n",
    "        ('features', SimpleImputer()),\n",
    "        ('indicators', MissingIndicator(sparse=False, error_on_new=False))\n",
    "    ]\n",
    ")\n",
    "\n",
    "pipe = Pipeline(\n",
    "    steps=[\n",
    "        ('preprocess', preproc),\n",
    "        ('imputer', missing),\n",
    "        ('variance', VarianceThreshold()),\n",
    "        ('predictor', RandomForestRegressor()),\n",
    "    ]\n",
    ")\n",
    "pipe"
   ]
  },
  {
   "cell_type": "code",
   "execution_count": 105,
   "metadata": {},
   "outputs": [
    {
     "data": {
      "text/plain": [
       "('CV Score:', 0.8280057321569227)"
      ]
     },
     "execution_count": 105,
     "metadata": {},
     "output_type": "execute_result"
    }
   ],
   "source": [
    "scores = cross_val_score(pipe, X=X,y=y, cv=5)\n",
    "'CV Score:', scores.mean()"
   ]
  },
  {
   "cell_type": "markdown",
   "metadata": {},
   "source": [
    "## Preprocessing data"
   ]
  },
  {
   "cell_type": "markdown",
   "metadata": {},
   "source": [
    "### Encoding categorical features\n",
    "For linear models, categorical features are typically encoded using one-hot encoding. For example, if you have a categorical feature with 3 categories, you will have 3 columns in the resulting dataset. You can also use an ordinal encoding, which is similar to one-hot encoding, but uses integers instead of binary values. This works for tree-based models such as random forests and gradient boosting but may not make sense for linear."
   ]
  },
  {
   "cell_type": "code",
   "execution_count": 107,
   "metadata": {},
   "outputs": [
    {
     "data": {
      "text/html": [
       "<style>#sk-1984c762-2325-410e-94e4-98bf6b813132 {color: black;background-color: white;}#sk-1984c762-2325-410e-94e4-98bf6b813132 pre{padding: 0;}#sk-1984c762-2325-410e-94e4-98bf6b813132 div.sk-toggleable {background-color: white;}#sk-1984c762-2325-410e-94e4-98bf6b813132 label.sk-toggleable__label {cursor: pointer;display: block;width: 100%;margin-bottom: 0;padding: 0.3em;box-sizing: border-box;text-align: center;}#sk-1984c762-2325-410e-94e4-98bf6b813132 label.sk-toggleable__label-arrow:before {content: \"▸\";float: left;margin-right: 0.25em;color: #696969;}#sk-1984c762-2325-410e-94e4-98bf6b813132 label.sk-toggleable__label-arrow:hover:before {color: black;}#sk-1984c762-2325-410e-94e4-98bf6b813132 div.sk-estimator:hover label.sk-toggleable__label-arrow:before {color: black;}#sk-1984c762-2325-410e-94e4-98bf6b813132 div.sk-toggleable__content {max-height: 0;max-width: 0;overflow: hidden;text-align: left;background-color: #f0f8ff;}#sk-1984c762-2325-410e-94e4-98bf6b813132 div.sk-toggleable__content pre {margin: 0.2em;color: black;border-radius: 0.25em;background-color: #f0f8ff;}#sk-1984c762-2325-410e-94e4-98bf6b813132 input.sk-toggleable__control:checked~div.sk-toggleable__content {max-height: 200px;max-width: 100%;overflow: auto;}#sk-1984c762-2325-410e-94e4-98bf6b813132 input.sk-toggleable__control:checked~label.sk-toggleable__label-arrow:before {content: \"▾\";}#sk-1984c762-2325-410e-94e4-98bf6b813132 div.sk-estimator input.sk-toggleable__control:checked~label.sk-toggleable__label {background-color: #d4ebff;}#sk-1984c762-2325-410e-94e4-98bf6b813132 div.sk-label input.sk-toggleable__control:checked~label.sk-toggleable__label {background-color: #d4ebff;}#sk-1984c762-2325-410e-94e4-98bf6b813132 input.sk-hidden--visually {border: 0;clip: rect(1px 1px 1px 1px);clip: rect(1px, 1px, 1px, 1px);height: 1px;margin: -1px;overflow: hidden;padding: 0;position: absolute;width: 1px;}#sk-1984c762-2325-410e-94e4-98bf6b813132 div.sk-estimator {font-family: monospace;background-color: #f0f8ff;border: 1px dotted black;border-radius: 0.25em;box-sizing: border-box;margin-bottom: 0.5em;}#sk-1984c762-2325-410e-94e4-98bf6b813132 div.sk-estimator:hover {background-color: #d4ebff;}#sk-1984c762-2325-410e-94e4-98bf6b813132 div.sk-parallel-item::after {content: \"\";width: 100%;border-bottom: 1px solid gray;flex-grow: 1;}#sk-1984c762-2325-410e-94e4-98bf6b813132 div.sk-label:hover label.sk-toggleable__label {background-color: #d4ebff;}#sk-1984c762-2325-410e-94e4-98bf6b813132 div.sk-serial::before {content: \"\";position: absolute;border-left: 1px solid gray;box-sizing: border-box;top: 2em;bottom: 0;left: 50%;}#sk-1984c762-2325-410e-94e4-98bf6b813132 div.sk-serial {display: flex;flex-direction: column;align-items: center;background-color: white;padding-right: 0.2em;padding-left: 0.2em;}#sk-1984c762-2325-410e-94e4-98bf6b813132 div.sk-item {z-index: 1;}#sk-1984c762-2325-410e-94e4-98bf6b813132 div.sk-parallel {display: flex;align-items: stretch;justify-content: center;background-color: white;}#sk-1984c762-2325-410e-94e4-98bf6b813132 div.sk-parallel::before {content: \"\";position: absolute;border-left: 1px solid gray;box-sizing: border-box;top: 2em;bottom: 0;left: 50%;}#sk-1984c762-2325-410e-94e4-98bf6b813132 div.sk-parallel-item {display: flex;flex-direction: column;position: relative;background-color: white;}#sk-1984c762-2325-410e-94e4-98bf6b813132 div.sk-parallel-item:first-child::after {align-self: flex-end;width: 50%;}#sk-1984c762-2325-410e-94e4-98bf6b813132 div.sk-parallel-item:last-child::after {align-self: flex-start;width: 50%;}#sk-1984c762-2325-410e-94e4-98bf6b813132 div.sk-parallel-item:only-child::after {width: 0;}#sk-1984c762-2325-410e-94e4-98bf6b813132 div.sk-dashed-wrapped {border: 1px dashed gray;margin: 0 0.4em 0.5em 0.4em;box-sizing: border-box;padding-bottom: 0.4em;background-color: white;position: relative;}#sk-1984c762-2325-410e-94e4-98bf6b813132 div.sk-label label {font-family: monospace;font-weight: bold;background-color: white;display: inline-block;line-height: 1.2em;}#sk-1984c762-2325-410e-94e4-98bf6b813132 div.sk-label-container {position: relative;z-index: 2;text-align: center;}#sk-1984c762-2325-410e-94e4-98bf6b813132 div.sk-container {/* jupyter's `normalize.less` sets `[hidden] { display: none; }` but bootstrap.min.css set `[hidden] { display: none !important; }` so we also need the `!important` here to be able to override the default hidden behavior on the sphinx rendered scikit-learn.org. See: https://github.com/scikit-learn/scikit-learn/issues/21755 */display: inline-block !important;position: relative;}#sk-1984c762-2325-410e-94e4-98bf6b813132 div.sk-text-repr-fallback {display: none;}</style><div id=\"sk-1984c762-2325-410e-94e4-98bf6b813132\" class=\"sk-top-container\"><div class=\"sk-text-repr-fallback\"><pre>Pipeline(steps=[(&#x27;preprocess&#x27;,\n",
       "                 ColumnTransformer(remainder=&#x27;passthrough&#x27;,\n",
       "                                   transformers=[(&#x27;date&#x27;, &#x27;drop&#x27;,\n",
       "                                                  &lt;sklearn.compose._column_transformer.make_column_selector object at 0x000001B6C0ADADF0&gt;),\n",
       "                                                 (&#x27;categorical&#x27;,\n",
       "                                                  OneHotEncoder(handle_unknown=&#x27;ignore&#x27;),\n",
       "                                                  &lt;sklearn.compose._column_transformer.make_column_selector object at 0x000001B6C0ADADC0&gt;)])),\n",
       "                (&#x27;imputer&#x27;, SimpleImputer()), (&#x27;variance&#x27;, VarianceThreshold()),\n",
       "                (&#x27;predictor&#x27;, Lasso(alpha=0.8))])</pre><b>Please rerun this cell to show the HTML repr or trust the notebook.</b></div><div class=\"sk-container\" hidden><div class=\"sk-item sk-dashed-wrapped\"><div class=\"sk-label-container\"><div class=\"sk-label sk-toggleable\"><input class=\"sk-toggleable__control sk-hidden--visually\" id=\"de82ddb5-c540-4d1a-aa41-f08ab787dbd7\" type=\"checkbox\" ><label for=\"de82ddb5-c540-4d1a-aa41-f08ab787dbd7\" class=\"sk-toggleable__label sk-toggleable__label-arrow\">Pipeline</label><div class=\"sk-toggleable__content\"><pre>Pipeline(steps=[(&#x27;preprocess&#x27;,\n",
       "                 ColumnTransformer(remainder=&#x27;passthrough&#x27;,\n",
       "                                   transformers=[(&#x27;date&#x27;, &#x27;drop&#x27;,\n",
       "                                                  &lt;sklearn.compose._column_transformer.make_column_selector object at 0x000001B6C0ADADF0&gt;),\n",
       "                                                 (&#x27;categorical&#x27;,\n",
       "                                                  OneHotEncoder(handle_unknown=&#x27;ignore&#x27;),\n",
       "                                                  &lt;sklearn.compose._column_transformer.make_column_selector object at 0x000001B6C0ADADC0&gt;)])),\n",
       "                (&#x27;imputer&#x27;, SimpleImputer()), (&#x27;variance&#x27;, VarianceThreshold()),\n",
       "                (&#x27;predictor&#x27;, Lasso(alpha=0.8))])</pre></div></div></div><div class=\"sk-serial\"><div class=\"sk-item sk-dashed-wrapped\"><div class=\"sk-label-container\"><div class=\"sk-label sk-toggleable\"><input class=\"sk-toggleable__control sk-hidden--visually\" id=\"3e9f68dd-cb20-49d1-9703-835300707349\" type=\"checkbox\" ><label for=\"3e9f68dd-cb20-49d1-9703-835300707349\" class=\"sk-toggleable__label sk-toggleable__label-arrow\">preprocess: ColumnTransformer</label><div class=\"sk-toggleable__content\"><pre>ColumnTransformer(remainder=&#x27;passthrough&#x27;,\n",
       "                  transformers=[(&#x27;date&#x27;, &#x27;drop&#x27;,\n",
       "                                 &lt;sklearn.compose._column_transformer.make_column_selector object at 0x000001B6C0ADADF0&gt;),\n",
       "                                (&#x27;categorical&#x27;,\n",
       "                                 OneHotEncoder(handle_unknown=&#x27;ignore&#x27;),\n",
       "                                 &lt;sklearn.compose._column_transformer.make_column_selector object at 0x000001B6C0ADADC0&gt;)])</pre></div></div></div><div class=\"sk-parallel\"><div class=\"sk-parallel-item\"><div class=\"sk-item\"><div class=\"sk-label-container\"><div class=\"sk-label sk-toggleable\"><input class=\"sk-toggleable__control sk-hidden--visually\" id=\"246dfb10-4aba-43f8-94a6-d8828c8c9c6c\" type=\"checkbox\" ><label for=\"246dfb10-4aba-43f8-94a6-d8828c8c9c6c\" class=\"sk-toggleable__label sk-toggleable__label-arrow\">date</label><div class=\"sk-toggleable__content\"><pre>&lt;sklearn.compose._column_transformer.make_column_selector object at 0x000001B6C0ADADF0&gt;</pre></div></div></div><div class=\"sk-serial\"><div class=\"sk-item\"><div class=\"sk-estimator sk-toggleable\"><input class=\"sk-toggleable__control sk-hidden--visually\" id=\"f2f2ac27-686c-4a14-bac5-f21a2453bb46\" type=\"checkbox\" ><label for=\"f2f2ac27-686c-4a14-bac5-f21a2453bb46\" class=\"sk-toggleable__label sk-toggleable__label-arrow\">drop</label><div class=\"sk-toggleable__content\"><pre>drop</pre></div></div></div></div></div></div><div class=\"sk-parallel-item\"><div class=\"sk-item\"><div class=\"sk-label-container\"><div class=\"sk-label sk-toggleable\"><input class=\"sk-toggleable__control sk-hidden--visually\" id=\"234a21c6-b6bb-4023-9548-ea29a5e3000e\" type=\"checkbox\" ><label for=\"234a21c6-b6bb-4023-9548-ea29a5e3000e\" class=\"sk-toggleable__label sk-toggleable__label-arrow\">categorical</label><div class=\"sk-toggleable__content\"><pre>&lt;sklearn.compose._column_transformer.make_column_selector object at 0x000001B6C0ADADC0&gt;</pre></div></div></div><div class=\"sk-serial\"><div class=\"sk-item\"><div class=\"sk-estimator sk-toggleable\"><input class=\"sk-toggleable__control sk-hidden--visually\" id=\"9c71a668-d9ad-4b65-aea2-d0600eac2164\" type=\"checkbox\" ><label for=\"9c71a668-d9ad-4b65-aea2-d0600eac2164\" class=\"sk-toggleable__label sk-toggleable__label-arrow\">OneHotEncoder</label><div class=\"sk-toggleable__content\"><pre>OneHotEncoder(handle_unknown=&#x27;ignore&#x27;)</pre></div></div></div></div></div></div><div class=\"sk-parallel-item\"><div class=\"sk-item\"><div class=\"sk-label-container\"><div class=\"sk-label sk-toggleable\"><input class=\"sk-toggleable__control sk-hidden--visually\" id=\"a810a327-c3b7-40cc-9f0d-4491fbfc26c1\" type=\"checkbox\" ><label for=\"a810a327-c3b7-40cc-9f0d-4491fbfc26c1\" class=\"sk-toggleable__label sk-toggleable__label-arrow\">remainder</label><div class=\"sk-toggleable__content\"><pre></pre></div></div></div><div class=\"sk-serial\"><div class=\"sk-item\"><div class=\"sk-estimator sk-toggleable\"><input class=\"sk-toggleable__control sk-hidden--visually\" id=\"585e5fe2-93d1-4745-9f6d-3bede3129063\" type=\"checkbox\" ><label for=\"585e5fe2-93d1-4745-9f6d-3bede3129063\" class=\"sk-toggleable__label sk-toggleable__label-arrow\">passthrough</label><div class=\"sk-toggleable__content\"><pre>passthrough</pre></div></div></div></div></div></div></div></div><div class=\"sk-item\"><div class=\"sk-estimator sk-toggleable\"><input class=\"sk-toggleable__control sk-hidden--visually\" id=\"f7d0e375-bf7c-4890-8ecc-7cf81a96b7f5\" type=\"checkbox\" ><label for=\"f7d0e375-bf7c-4890-8ecc-7cf81a96b7f5\" class=\"sk-toggleable__label sk-toggleable__label-arrow\">SimpleImputer</label><div class=\"sk-toggleable__content\"><pre>SimpleImputer()</pre></div></div></div><div class=\"sk-item\"><div class=\"sk-estimator sk-toggleable\"><input class=\"sk-toggleable__control sk-hidden--visually\" id=\"c6cc1c43-644d-4418-a242-af501ce74965\" type=\"checkbox\" ><label for=\"c6cc1c43-644d-4418-a242-af501ce74965\" class=\"sk-toggleable__label sk-toggleable__label-arrow\">VarianceThreshold</label><div class=\"sk-toggleable__content\"><pre>VarianceThreshold()</pre></div></div></div><div class=\"sk-item\"><div class=\"sk-estimator sk-toggleable\"><input class=\"sk-toggleable__control sk-hidden--visually\" id=\"81320e26-3cee-4a90-bea3-22d9601bdff8\" type=\"checkbox\" ><label for=\"81320e26-3cee-4a90-bea3-22d9601bdff8\" class=\"sk-toggleable__label sk-toggleable__label-arrow\">Lasso</label><div class=\"sk-toggleable__content\"><pre>Lasso(alpha=0.8)</pre></div></div></div></div></div></div></div>"
      ],
      "text/plain": [
       "Pipeline(steps=[('preprocess',\n",
       "                 ColumnTransformer(remainder='passthrough',\n",
       "                                   transformers=[('date', 'drop',\n",
       "                                                  <sklearn.compose._column_transformer.make_column_selector object at 0x000001B6C0ADADF0>),\n",
       "                                                 ('categorical',\n",
       "                                                  OneHotEncoder(handle_unknown='ignore'),\n",
       "                                                  <sklearn.compose._column_transformer.make_column_selector object at 0x000001B6C0ADADC0>)])),\n",
       "                ('imputer', SimpleImputer()), ('variance', VarianceThreshold()),\n",
       "                ('predictor', Lasso(alpha=0.8))])"
      ]
     },
     "execution_count": 107,
     "metadata": {},
     "output_type": "execute_result"
    }
   ],
   "source": [
    "from sklearn.preprocessing import OneHotEncoder, StandardScaler\n",
    "\n",
    "preproc = ColumnTransformer(\n",
    "    transformers=[\n",
    "        ('date', 'drop', make_column_selector(dtype_include=['datetime64[ns]'])),\n",
    "        (\n",
    "            'categorical',\n",
    "            OneHotEncoder(\n",
    "                handle_unknown='ignore',\n",
    "            ) ,\n",
    "            make_column_selector(dtype_include=['category']))\n",
    "    ],\n",
    "    remainder='passthrough',\n",
    ")\n",
    "\n",
    "pipe = Pipeline(\n",
    "    steps=[\n",
    "        ('preprocess', preproc),\n",
    "        ('imputer', SimpleImputer()),\n",
    "        ('variance', VarianceThreshold()),\n",
    "        ('predictor', Lasso(alpha=0.8)),\n",
    "    ]\n",
    ")\n",
    "pipe"
   ]
  },
  {
   "cell_type": "code",
   "execution_count": 108,
   "metadata": {},
   "outputs": [
    {
     "data": {
      "text/plain": [
       "('CV Score:', 0.8125720208777597)"
      ]
     },
     "execution_count": 108,
     "metadata": {},
     "output_type": "execute_result"
    }
   ],
   "source": [
    "scores = cross_val_score(pipe, X=X,y=y, cv=5)\n",
    "'CV Score:', scores.mean()"
   ]
  },
  {
   "cell_type": "markdown",
   "metadata": {},
   "source": [
    "### Standardization, or mean removal and variance scaling\n",
    "When using linear models such as logistic regression, or SVMs, we may need to scale the data in order to remove bias to features with different magnitudes. This help in explainability as the feature importance will be on the same scale. This will also put variances at the same scales, therefore reducing mistakes when selecting features based on variances.\n",
    "This may also apply to non-linear models such as neural networks."
   ]
  },
  {
   "cell_type": "code",
   "execution_count": 126,
   "metadata": {},
   "outputs": [
    {
     "data": {
      "text/html": [
       "<style>#sk-9f6cb56c-37a8-465c-94eb-2b0736130490 {color: black;background-color: white;}#sk-9f6cb56c-37a8-465c-94eb-2b0736130490 pre{padding: 0;}#sk-9f6cb56c-37a8-465c-94eb-2b0736130490 div.sk-toggleable {background-color: white;}#sk-9f6cb56c-37a8-465c-94eb-2b0736130490 label.sk-toggleable__label {cursor: pointer;display: block;width: 100%;margin-bottom: 0;padding: 0.3em;box-sizing: border-box;text-align: center;}#sk-9f6cb56c-37a8-465c-94eb-2b0736130490 label.sk-toggleable__label-arrow:before {content: \"▸\";float: left;margin-right: 0.25em;color: #696969;}#sk-9f6cb56c-37a8-465c-94eb-2b0736130490 label.sk-toggleable__label-arrow:hover:before {color: black;}#sk-9f6cb56c-37a8-465c-94eb-2b0736130490 div.sk-estimator:hover label.sk-toggleable__label-arrow:before {color: black;}#sk-9f6cb56c-37a8-465c-94eb-2b0736130490 div.sk-toggleable__content {max-height: 0;max-width: 0;overflow: hidden;text-align: left;background-color: #f0f8ff;}#sk-9f6cb56c-37a8-465c-94eb-2b0736130490 div.sk-toggleable__content pre {margin: 0.2em;color: black;border-radius: 0.25em;background-color: #f0f8ff;}#sk-9f6cb56c-37a8-465c-94eb-2b0736130490 input.sk-toggleable__control:checked~div.sk-toggleable__content {max-height: 200px;max-width: 100%;overflow: auto;}#sk-9f6cb56c-37a8-465c-94eb-2b0736130490 input.sk-toggleable__control:checked~label.sk-toggleable__label-arrow:before {content: \"▾\";}#sk-9f6cb56c-37a8-465c-94eb-2b0736130490 div.sk-estimator input.sk-toggleable__control:checked~label.sk-toggleable__label {background-color: #d4ebff;}#sk-9f6cb56c-37a8-465c-94eb-2b0736130490 div.sk-label input.sk-toggleable__control:checked~label.sk-toggleable__label {background-color: #d4ebff;}#sk-9f6cb56c-37a8-465c-94eb-2b0736130490 input.sk-hidden--visually {border: 0;clip: rect(1px 1px 1px 1px);clip: rect(1px, 1px, 1px, 1px);height: 1px;margin: -1px;overflow: hidden;padding: 0;position: absolute;width: 1px;}#sk-9f6cb56c-37a8-465c-94eb-2b0736130490 div.sk-estimator {font-family: monospace;background-color: #f0f8ff;border: 1px dotted black;border-radius: 0.25em;box-sizing: border-box;margin-bottom: 0.5em;}#sk-9f6cb56c-37a8-465c-94eb-2b0736130490 div.sk-estimator:hover {background-color: #d4ebff;}#sk-9f6cb56c-37a8-465c-94eb-2b0736130490 div.sk-parallel-item::after {content: \"\";width: 100%;border-bottom: 1px solid gray;flex-grow: 1;}#sk-9f6cb56c-37a8-465c-94eb-2b0736130490 div.sk-label:hover label.sk-toggleable__label {background-color: #d4ebff;}#sk-9f6cb56c-37a8-465c-94eb-2b0736130490 div.sk-serial::before {content: \"\";position: absolute;border-left: 1px solid gray;box-sizing: border-box;top: 2em;bottom: 0;left: 50%;}#sk-9f6cb56c-37a8-465c-94eb-2b0736130490 div.sk-serial {display: flex;flex-direction: column;align-items: center;background-color: white;padding-right: 0.2em;padding-left: 0.2em;}#sk-9f6cb56c-37a8-465c-94eb-2b0736130490 div.sk-item {z-index: 1;}#sk-9f6cb56c-37a8-465c-94eb-2b0736130490 div.sk-parallel {display: flex;align-items: stretch;justify-content: center;background-color: white;}#sk-9f6cb56c-37a8-465c-94eb-2b0736130490 div.sk-parallel::before {content: \"\";position: absolute;border-left: 1px solid gray;box-sizing: border-box;top: 2em;bottom: 0;left: 50%;}#sk-9f6cb56c-37a8-465c-94eb-2b0736130490 div.sk-parallel-item {display: flex;flex-direction: column;position: relative;background-color: white;}#sk-9f6cb56c-37a8-465c-94eb-2b0736130490 div.sk-parallel-item:first-child::after {align-self: flex-end;width: 50%;}#sk-9f6cb56c-37a8-465c-94eb-2b0736130490 div.sk-parallel-item:last-child::after {align-self: flex-start;width: 50%;}#sk-9f6cb56c-37a8-465c-94eb-2b0736130490 div.sk-parallel-item:only-child::after {width: 0;}#sk-9f6cb56c-37a8-465c-94eb-2b0736130490 div.sk-dashed-wrapped {border: 1px dashed gray;margin: 0 0.4em 0.5em 0.4em;box-sizing: border-box;padding-bottom: 0.4em;background-color: white;position: relative;}#sk-9f6cb56c-37a8-465c-94eb-2b0736130490 div.sk-label label {font-family: monospace;font-weight: bold;background-color: white;display: inline-block;line-height: 1.2em;}#sk-9f6cb56c-37a8-465c-94eb-2b0736130490 div.sk-label-container {position: relative;z-index: 2;text-align: center;}#sk-9f6cb56c-37a8-465c-94eb-2b0736130490 div.sk-container {/* jupyter's `normalize.less` sets `[hidden] { display: none; }` but bootstrap.min.css set `[hidden] { display: none !important; }` so we also need the `!important` here to be able to override the default hidden behavior on the sphinx rendered scikit-learn.org. See: https://github.com/scikit-learn/scikit-learn/issues/21755 */display: inline-block !important;position: relative;}#sk-9f6cb56c-37a8-465c-94eb-2b0736130490 div.sk-text-repr-fallback {display: none;}</style><div id=\"sk-9f6cb56c-37a8-465c-94eb-2b0736130490\" class=\"sk-top-container\"><div class=\"sk-text-repr-fallback\"><pre>Pipeline(steps=[(&#x27;preprocess&#x27;,\n",
       "                 ColumnTransformer(remainder=&#x27;passthrough&#x27;,\n",
       "                                   transformers=[(&#x27;date&#x27;, &#x27;drop&#x27;,\n",
       "                                                  &lt;sklearn.compose._column_transformer.make_column_selector object at 0x000001B6C1D662E0&gt;),\n",
       "                                                 (&#x27;categorical&#x27;,\n",
       "                                                  OneHotEncoder(handle_unknown=&#x27;ignore&#x27;),\n",
       "                                                  &lt;sklearn.compose._column_transformer.make_column_selector object at 0x000001B6C1D66A60&gt;),\n",
       "                                                 (&#x27;numerical&#x27;, StandardScaler(),\n",
       "                                                  [&#x27;passengers&#x27;,\n",
       "                                                   &#x27;distance&#x27;])])),\n",
       "                (&#x27;imputer&#x27;, SimpleImputer()), (&#x27;variance&#x27;, VarianceThreshold()),\n",
       "                (&#x27;predictor&#x27;, Lasso(alpha=0.8))])</pre><b>Please rerun this cell to show the HTML repr or trust the notebook.</b></div><div class=\"sk-container\" hidden><div class=\"sk-item sk-dashed-wrapped\"><div class=\"sk-label-container\"><div class=\"sk-label sk-toggleable\"><input class=\"sk-toggleable__control sk-hidden--visually\" id=\"3b0eb572-96f8-4a1f-82af-ff1314705612\" type=\"checkbox\" ><label for=\"3b0eb572-96f8-4a1f-82af-ff1314705612\" class=\"sk-toggleable__label sk-toggleable__label-arrow\">Pipeline</label><div class=\"sk-toggleable__content\"><pre>Pipeline(steps=[(&#x27;preprocess&#x27;,\n",
       "                 ColumnTransformer(remainder=&#x27;passthrough&#x27;,\n",
       "                                   transformers=[(&#x27;date&#x27;, &#x27;drop&#x27;,\n",
       "                                                  &lt;sklearn.compose._column_transformer.make_column_selector object at 0x000001B6C1D662E0&gt;),\n",
       "                                                 (&#x27;categorical&#x27;,\n",
       "                                                  OneHotEncoder(handle_unknown=&#x27;ignore&#x27;),\n",
       "                                                  &lt;sklearn.compose._column_transformer.make_column_selector object at 0x000001B6C1D66A60&gt;),\n",
       "                                                 (&#x27;numerical&#x27;, StandardScaler(),\n",
       "                                                  [&#x27;passengers&#x27;,\n",
       "                                                   &#x27;distance&#x27;])])),\n",
       "                (&#x27;imputer&#x27;, SimpleImputer()), (&#x27;variance&#x27;, VarianceThreshold()),\n",
       "                (&#x27;predictor&#x27;, Lasso(alpha=0.8))])</pre></div></div></div><div class=\"sk-serial\"><div class=\"sk-item sk-dashed-wrapped\"><div class=\"sk-label-container\"><div class=\"sk-label sk-toggleable\"><input class=\"sk-toggleable__control sk-hidden--visually\" id=\"3542b5a8-8348-465e-989b-661905849027\" type=\"checkbox\" ><label for=\"3542b5a8-8348-465e-989b-661905849027\" class=\"sk-toggleable__label sk-toggleable__label-arrow\">preprocess: ColumnTransformer</label><div class=\"sk-toggleable__content\"><pre>ColumnTransformer(remainder=&#x27;passthrough&#x27;,\n",
       "                  transformers=[(&#x27;date&#x27;, &#x27;drop&#x27;,\n",
       "                                 &lt;sklearn.compose._column_transformer.make_column_selector object at 0x000001B6C1D662E0&gt;),\n",
       "                                (&#x27;categorical&#x27;,\n",
       "                                 OneHotEncoder(handle_unknown=&#x27;ignore&#x27;),\n",
       "                                 &lt;sklearn.compose._column_transformer.make_column_selector object at 0x000001B6C1D66A60&gt;),\n",
       "                                (&#x27;numerical&#x27;, StandardScaler(),\n",
       "                                 [&#x27;passengers&#x27;, &#x27;distance&#x27;])])</pre></div></div></div><div class=\"sk-parallel\"><div class=\"sk-parallel-item\"><div class=\"sk-item\"><div class=\"sk-label-container\"><div class=\"sk-label sk-toggleable\"><input class=\"sk-toggleable__control sk-hidden--visually\" id=\"27817f47-4a30-43f3-8ea2-4096b1723c91\" type=\"checkbox\" ><label for=\"27817f47-4a30-43f3-8ea2-4096b1723c91\" class=\"sk-toggleable__label sk-toggleable__label-arrow\">date</label><div class=\"sk-toggleable__content\"><pre>&lt;sklearn.compose._column_transformer.make_column_selector object at 0x000001B6C1D662E0&gt;</pre></div></div></div><div class=\"sk-serial\"><div class=\"sk-item\"><div class=\"sk-estimator sk-toggleable\"><input class=\"sk-toggleable__control sk-hidden--visually\" id=\"08cfe045-d701-4273-a268-ded576497f54\" type=\"checkbox\" ><label for=\"08cfe045-d701-4273-a268-ded576497f54\" class=\"sk-toggleable__label sk-toggleable__label-arrow\">drop</label><div class=\"sk-toggleable__content\"><pre>drop</pre></div></div></div></div></div></div><div class=\"sk-parallel-item\"><div class=\"sk-item\"><div class=\"sk-label-container\"><div class=\"sk-label sk-toggleable\"><input class=\"sk-toggleable__control sk-hidden--visually\" id=\"dc328602-a69f-43b0-b711-4cd521892e51\" type=\"checkbox\" ><label for=\"dc328602-a69f-43b0-b711-4cd521892e51\" class=\"sk-toggleable__label sk-toggleable__label-arrow\">categorical</label><div class=\"sk-toggleable__content\"><pre>&lt;sklearn.compose._column_transformer.make_column_selector object at 0x000001B6C1D66A60&gt;</pre></div></div></div><div class=\"sk-serial\"><div class=\"sk-item\"><div class=\"sk-estimator sk-toggleable\"><input class=\"sk-toggleable__control sk-hidden--visually\" id=\"6b74102e-3c1e-4f1d-883c-2e920bc18299\" type=\"checkbox\" ><label for=\"6b74102e-3c1e-4f1d-883c-2e920bc18299\" class=\"sk-toggleable__label sk-toggleable__label-arrow\">OneHotEncoder</label><div class=\"sk-toggleable__content\"><pre>OneHotEncoder(handle_unknown=&#x27;ignore&#x27;)</pre></div></div></div></div></div></div><div class=\"sk-parallel-item\"><div class=\"sk-item\"><div class=\"sk-label-container\"><div class=\"sk-label sk-toggleable\"><input class=\"sk-toggleable__control sk-hidden--visually\" id=\"77750ace-a160-45ad-aecc-c17871105336\" type=\"checkbox\" ><label for=\"77750ace-a160-45ad-aecc-c17871105336\" class=\"sk-toggleable__label sk-toggleable__label-arrow\">numerical</label><div class=\"sk-toggleable__content\"><pre>[&#x27;passengers&#x27;, &#x27;distance&#x27;]</pre></div></div></div><div class=\"sk-serial\"><div class=\"sk-item\"><div class=\"sk-estimator sk-toggleable\"><input class=\"sk-toggleable__control sk-hidden--visually\" id=\"6269e96e-3182-4ed5-a938-5bcbbd0dcf22\" type=\"checkbox\" ><label for=\"6269e96e-3182-4ed5-a938-5bcbbd0dcf22\" class=\"sk-toggleable__label sk-toggleable__label-arrow\">StandardScaler</label><div class=\"sk-toggleable__content\"><pre>StandardScaler()</pre></div></div></div></div></div></div><div class=\"sk-parallel-item\"><div class=\"sk-item\"><div class=\"sk-label-container\"><div class=\"sk-label sk-toggleable\"><input class=\"sk-toggleable__control sk-hidden--visually\" id=\"c26054b4-685a-4d9e-8c13-bfc29b7b15eb\" type=\"checkbox\" ><label for=\"c26054b4-685a-4d9e-8c13-bfc29b7b15eb\" class=\"sk-toggleable__label sk-toggleable__label-arrow\">remainder</label><div class=\"sk-toggleable__content\"><pre></pre></div></div></div><div class=\"sk-serial\"><div class=\"sk-item\"><div class=\"sk-estimator sk-toggleable\"><input class=\"sk-toggleable__control sk-hidden--visually\" id=\"97136f4e-54b7-41ce-ad5f-119638f34c73\" type=\"checkbox\" ><label for=\"97136f4e-54b7-41ce-ad5f-119638f34c73\" class=\"sk-toggleable__label sk-toggleable__label-arrow\">passthrough</label><div class=\"sk-toggleable__content\"><pre>passthrough</pre></div></div></div></div></div></div></div></div><div class=\"sk-item\"><div class=\"sk-estimator sk-toggleable\"><input class=\"sk-toggleable__control sk-hidden--visually\" id=\"89c4093c-ead8-42d4-9772-ae23eb3dbe2d\" type=\"checkbox\" ><label for=\"89c4093c-ead8-42d4-9772-ae23eb3dbe2d\" class=\"sk-toggleable__label sk-toggleable__label-arrow\">SimpleImputer</label><div class=\"sk-toggleable__content\"><pre>SimpleImputer()</pre></div></div></div><div class=\"sk-item\"><div class=\"sk-estimator sk-toggleable\"><input class=\"sk-toggleable__control sk-hidden--visually\" id=\"095329b1-1c97-40f4-ba54-aa79fe14e083\" type=\"checkbox\" ><label for=\"095329b1-1c97-40f4-ba54-aa79fe14e083\" class=\"sk-toggleable__label sk-toggleable__label-arrow\">VarianceThreshold</label><div class=\"sk-toggleable__content\"><pre>VarianceThreshold()</pre></div></div></div><div class=\"sk-item\"><div class=\"sk-estimator sk-toggleable\"><input class=\"sk-toggleable__control sk-hidden--visually\" id=\"f7e2a54e-b6e2-48d9-8dea-5ebaf35520c4\" type=\"checkbox\" ><label for=\"f7e2a54e-b6e2-48d9-8dea-5ebaf35520c4\" class=\"sk-toggleable__label sk-toggleable__label-arrow\">Lasso</label><div class=\"sk-toggleable__content\"><pre>Lasso(alpha=0.8)</pre></div></div></div></div></div></div></div>"
      ],
      "text/plain": [
       "Pipeline(steps=[('preprocess',\n",
       "                 ColumnTransformer(remainder='passthrough',\n",
       "                                   transformers=[('date', 'drop',\n",
       "                                                  <sklearn.compose._column_transformer.make_column_selector object at 0x000001B6C1D662E0>),\n",
       "                                                 ('categorical',\n",
       "                                                  OneHotEncoder(handle_unknown='ignore'),\n",
       "                                                  <sklearn.compose._column_transformer.make_column_selector object at 0x000001B6C1D66A60>),\n",
       "                                                 ('numerical', StandardScaler(),\n",
       "                                                  ['passengers',\n",
       "                                                   'distance'])])),\n",
       "                ('imputer', SimpleImputer()), ('variance', VarianceThreshold()),\n",
       "                ('predictor', Lasso(alpha=0.8))])"
      ]
     },
     "execution_count": 126,
     "metadata": {},
     "output_type": "execute_result"
    }
   ],
   "source": [
    "from sklearn.preprocessing import MinMaxScaler\n",
    "\n",
    "preproc = ColumnTransformer(\n",
    "    transformers=[\n",
    "        ('date', 'drop', make_column_selector(dtype_include=['datetime64[ns]'])),\n",
    "        ('categorical', OneHotEncoder(handle_unknown='ignore'),\n",
    "         make_column_selector(dtype_include=['category'])),\n",
    "        ('numerical', StandardScaler(), ['passengers', 'distance'])\n",
    "    ],\n",
    "    remainder='passthrough',\n",
    ")\n",
    "\n",
    "pipe = Pipeline(\n",
    "    steps=[\n",
    "        ('preprocess', preproc),\n",
    "        ('imputer', SimpleImputer()),\n",
    "        ('variance', VarianceThreshold()),\n",
    "        ('predictor', Lasso(alpha=0.8)),\n",
    "    ]\n",
    ")\n",
    "pipe"
   ]
  },
  {
   "cell_type": "code",
   "execution_count": 127,
   "metadata": {},
   "outputs": [
    {
     "data": {
      "text/plain": [
       "('CV Score:', 0.809588991307673)"
      ]
     },
     "execution_count": 127,
     "metadata": {},
     "output_type": "execute_result"
    }
   ],
   "source": [
    "scores = cross_val_score(pipe, X=X,y=y, cv=5, error_score='raise')\n",
    "'CV Score:', scores.mean()"
   ]
  },
  {
   "cell_type": "markdown",
   "metadata": {},
   "source": [
    "### Non-linear transformation\n",
    "We can also \"scale\" the feature to a given distribution. For example, we can map the feature to a uniform distribution."
   ]
  },
  {
   "cell_type": "code",
   "execution_count": 136,
   "metadata": {},
   "outputs": [
    {
     "data": {
      "text/plain": [
       "<AxesSubplot:ylabel='Density'>"
      ]
     },
     "execution_count": 136,
     "metadata": {},
     "output_type": "execute_result"
    },
    {
     "data": {
      "image/png": "[encoded data removed]",
      "text/plain": [
       "<Figure size 432x288 with 1 Axes>"
      ]
     },
     "metadata": {
      "needs_background": "light"
     },
     "output_type": "display_data"
    }
   ],
   "source": [
    "X[['passengers', 'distance']].plot(kind='kde', alpha=0.5)"
   ]
  },
  {
   "cell_type": "code",
   "execution_count": 151,
   "metadata": {},
   "outputs": [
    {
     "data": {
      "text/html": [
       "<style>#sk-8a1fe376-12a0-4c3e-b44b-f811cceb1b23 {color: black;background-color: white;}#sk-8a1fe376-12a0-4c3e-b44b-f811cceb1b23 pre{padding: 0;}#sk-8a1fe376-12a0-4c3e-b44b-f811cceb1b23 div.sk-toggleable {background-color: white;}#sk-8a1fe376-12a0-4c3e-b44b-f811cceb1b23 label.sk-toggleable__label {cursor: pointer;display: block;width: 100%;margin-bottom: 0;padding: 0.3em;box-sizing: border-box;text-align: center;}#sk-8a1fe376-12a0-4c3e-b44b-f811cceb1b23 label.sk-toggleable__label-arrow:before {content: \"▸\";float: left;margin-right: 0.25em;color: #696969;}#sk-8a1fe376-12a0-4c3e-b44b-f811cceb1b23 label.sk-toggleable__label-arrow:hover:before {color: black;}#sk-8a1fe376-12a0-4c3e-b44b-f811cceb1b23 div.sk-estimator:hover label.sk-toggleable__label-arrow:before {color: black;}#sk-8a1fe376-12a0-4c3e-b44b-f811cceb1b23 div.sk-toggleable__content {max-height: 0;max-width: 0;overflow: hidden;text-align: left;background-color: #f0f8ff;}#sk-8a1fe376-12a0-4c3e-b44b-f811cceb1b23 div.sk-toggleable__content pre {margin: 0.2em;color: black;border-radius: 0.25em;background-color: #f0f8ff;}#sk-8a1fe376-12a0-4c3e-b44b-f811cceb1b23 input.sk-toggleable__control:checked~div.sk-toggleable__content {max-height: 200px;max-width: 100%;overflow: auto;}#sk-8a1fe376-12a0-4c3e-b44b-f811cceb1b23 input.sk-toggleable__control:checked~label.sk-toggleable__label-arrow:before {content: \"▾\";}#sk-8a1fe376-12a0-4c3e-b44b-f811cceb1b23 div.sk-estimator input.sk-toggleable__control:checked~label.sk-toggleable__label {background-color: #d4ebff;}#sk-8a1fe376-12a0-4c3e-b44b-f811cceb1b23 div.sk-label input.sk-toggleable__control:checked~label.sk-toggleable__label {background-color: #d4ebff;}#sk-8a1fe376-12a0-4c3e-b44b-f811cceb1b23 input.sk-hidden--visually {border: 0;clip: rect(1px 1px 1px 1px);clip: rect(1px, 1px, 1px, 1px);height: 1px;margin: -1px;overflow: hidden;padding: 0;position: absolute;width: 1px;}#sk-8a1fe376-12a0-4c3e-b44b-f811cceb1b23 div.sk-estimator {font-family: monospace;background-color: #f0f8ff;border: 1px dotted black;border-radius: 0.25em;box-sizing: border-box;margin-bottom: 0.5em;}#sk-8a1fe376-12a0-4c3e-b44b-f811cceb1b23 div.sk-estimator:hover {background-color: #d4ebff;}#sk-8a1fe376-12a0-4c3e-b44b-f811cceb1b23 div.sk-parallel-item::after {content: \"\";width: 100%;border-bottom: 1px solid gray;flex-grow: 1;}#sk-8a1fe376-12a0-4c3e-b44b-f811cceb1b23 div.sk-label:hover label.sk-toggleable__label {background-color: #d4ebff;}#sk-8a1fe376-12a0-4c3e-b44b-f811cceb1b23 div.sk-serial::before {content: \"\";position: absolute;border-left: 1px solid gray;box-sizing: border-box;top: 2em;bottom: 0;left: 50%;}#sk-8a1fe376-12a0-4c3e-b44b-f811cceb1b23 div.sk-serial {display: flex;flex-direction: column;align-items: center;background-color: white;padding-right: 0.2em;padding-left: 0.2em;}#sk-8a1fe376-12a0-4c3e-b44b-f811cceb1b23 div.sk-item {z-index: 1;}#sk-8a1fe376-12a0-4c3e-b44b-f811cceb1b23 div.sk-parallel {display: flex;align-items: stretch;justify-content: center;background-color: white;}#sk-8a1fe376-12a0-4c3e-b44b-f811cceb1b23 div.sk-parallel::before {content: \"\";position: absolute;border-left: 1px solid gray;box-sizing: border-box;top: 2em;bottom: 0;left: 50%;}#sk-8a1fe376-12a0-4c3e-b44b-f811cceb1b23 div.sk-parallel-item {display: flex;flex-direction: column;position: relative;background-color: white;}#sk-8a1fe376-12a0-4c3e-b44b-f811cceb1b23 div.sk-parallel-item:first-child::after {align-self: flex-end;width: 50%;}#sk-8a1fe376-12a0-4c3e-b44b-f811cceb1b23 div.sk-parallel-item:last-child::after {align-self: flex-start;width: 50%;}#sk-8a1fe376-12a0-4c3e-b44b-f811cceb1b23 div.sk-parallel-item:only-child::after {width: 0;}#sk-8a1fe376-12a0-4c3e-b44b-f811cceb1b23 div.sk-dashed-wrapped {border: 1px dashed gray;margin: 0 0.4em 0.5em 0.4em;box-sizing: border-box;padding-bottom: 0.4em;background-color: white;position: relative;}#sk-8a1fe376-12a0-4c3e-b44b-f811cceb1b23 div.sk-label label {font-family: monospace;font-weight: bold;background-color: white;display: inline-block;line-height: 1.2em;}#sk-8a1fe376-12a0-4c3e-b44b-f811cceb1b23 div.sk-label-container {position: relative;z-index: 2;text-align: center;}#sk-8a1fe376-12a0-4c3e-b44b-f811cceb1b23 div.sk-container {/* jupyter's `normalize.less` sets `[hidden] { display: none; }` but bootstrap.min.css set `[hidden] { display: none !important; }` so we also need the `!important` here to be able to override the default hidden behavior on the sphinx rendered scikit-learn.org. See: https://github.com/scikit-learn/scikit-learn/issues/21755 */display: inline-block !important;position: relative;}#sk-8a1fe376-12a0-4c3e-b44b-f811cceb1b23 div.sk-text-repr-fallback {display: none;}</style><div id=\"sk-8a1fe376-12a0-4c3e-b44b-f811cceb1b23\" class=\"sk-top-container\"><div class=\"sk-text-repr-fallback\"><pre>Pipeline(steps=[(&#x27;preprocess&#x27;,\n",
       "                 ColumnTransformer(remainder=&#x27;passthrough&#x27;,\n",
       "                                   transformers=[(&#x27;date&#x27;, &#x27;drop&#x27;,\n",
       "                                                  &lt;sklearn.compose._column_transformer.make_column_selector object at 0x000001B6C92BEF40&gt;),\n",
       "                                                 (&#x27;categorical&#x27;,\n",
       "                                                  OneHotEncoder(handle_unknown=&#x27;ignore&#x27;),\n",
       "                                                  &lt;sklearn.compose._column_transformer.make_column_selector object at 0x000001B6C9290790&gt;),\n",
       "                                                 (&#x27;numerical&#x27;,\n",
       "                                                  PowerTransformer(),\n",
       "                                                  [&#x27;distance&#x27;])])),\n",
       "                (&#x27;imputer&#x27;, SimpleImputer()), (&#x27;variance&#x27;, VarianceThreshold()),\n",
       "                (&#x27;predictor&#x27;, Lasso(alpha=0.8))])</pre><b>Please rerun this cell to show the HTML repr or trust the notebook.</b></div><div class=\"sk-container\" hidden><div class=\"sk-item sk-dashed-wrapped\"><div class=\"sk-label-container\"><div class=\"sk-label sk-toggleable\"><input class=\"sk-toggleable__control sk-hidden--visually\" id=\"8f47f8c4-fa85-4806-8280-3a0790635028\" type=\"checkbox\" ><label for=\"8f47f8c4-fa85-4806-8280-3a0790635028\" class=\"sk-toggleable__label sk-toggleable__label-arrow\">Pipeline</label><div class=\"sk-toggleable__content\"><pre>Pipeline(steps=[(&#x27;preprocess&#x27;,\n",
       "                 ColumnTransformer(remainder=&#x27;passthrough&#x27;,\n",
       "                                   transformers=[(&#x27;date&#x27;, &#x27;drop&#x27;,\n",
       "                                                  &lt;sklearn.compose._column_transformer.make_column_selector object at 0x000001B6C92BEF40&gt;),\n",
       "                                                 (&#x27;categorical&#x27;,\n",
       "                                                  OneHotEncoder(handle_unknown=&#x27;ignore&#x27;),\n",
       "                                                  &lt;sklearn.compose._column_transformer.make_column_selector object at 0x000001B6C9290790&gt;),\n",
       "                                                 (&#x27;numerical&#x27;,\n",
       "                                                  PowerTransformer(),\n",
       "                                                  [&#x27;distance&#x27;])])),\n",
       "                (&#x27;imputer&#x27;, SimpleImputer()), (&#x27;variance&#x27;, VarianceThreshold()),\n",
       "                (&#x27;predictor&#x27;, Lasso(alpha=0.8))])</pre></div></div></div><div class=\"sk-serial\"><div class=\"sk-item sk-dashed-wrapped\"><div class=\"sk-label-container\"><div class=\"sk-label sk-toggleable\"><input class=\"sk-toggleable__control sk-hidden--visually\" id=\"1900e34b-9178-4907-930d-49cf2cf14826\" type=\"checkbox\" ><label for=\"1900e34b-9178-4907-930d-49cf2cf14826\" class=\"sk-toggleable__label sk-toggleable__label-arrow\">preprocess: ColumnTransformer</label><div class=\"sk-toggleable__content\"><pre>ColumnTransformer(remainder=&#x27;passthrough&#x27;,\n",
       "                  transformers=[(&#x27;date&#x27;, &#x27;drop&#x27;,\n",
       "                                 &lt;sklearn.compose._column_transformer.make_column_selector object at 0x000001B6C92BEF40&gt;),\n",
       "                                (&#x27;categorical&#x27;,\n",
       "                                 OneHotEncoder(handle_unknown=&#x27;ignore&#x27;),\n",
       "                                 &lt;sklearn.compose._column_transformer.make_column_selector object at 0x000001B6C9290790&gt;),\n",
       "                                (&#x27;numerical&#x27;, PowerTransformer(),\n",
       "                                 [&#x27;distance&#x27;])])</pre></div></div></div><div class=\"sk-parallel\"><div class=\"sk-parallel-item\"><div class=\"sk-item\"><div class=\"sk-label-container\"><div class=\"sk-label sk-toggleable\"><input class=\"sk-toggleable__control sk-hidden--visually\" id=\"c2e7f94d-67c2-45ab-8452-7177d83cd880\" type=\"checkbox\" ><label for=\"c2e7f94d-67c2-45ab-8452-7177d83cd880\" class=\"sk-toggleable__label sk-toggleable__label-arrow\">date</label><div class=\"sk-toggleable__content\"><pre>&lt;sklearn.compose._column_transformer.make_column_selector object at 0x000001B6C92BEF40&gt;</pre></div></div></div><div class=\"sk-serial\"><div class=\"sk-item\"><div class=\"sk-estimator sk-toggleable\"><input class=\"sk-toggleable__control sk-hidden--visually\" id=\"e2b02c82-4eb7-45b2-9d8a-c021a021ea77\" type=\"checkbox\" ><label for=\"e2b02c82-4eb7-45b2-9d8a-c021a021ea77\" class=\"sk-toggleable__label sk-toggleable__label-arrow\">drop</label><div class=\"sk-toggleable__content\"><pre>drop</pre></div></div></div></div></div></div><div class=\"sk-parallel-item\"><div class=\"sk-item\"><div class=\"sk-label-container\"><div class=\"sk-label sk-toggleable\"><input class=\"sk-toggleable__control sk-hidden--visually\" id=\"5e5477a2-8cb0-4049-b669-37f46c00c67e\" type=\"checkbox\" ><label for=\"5e5477a2-8cb0-4049-b669-37f46c00c67e\" class=\"sk-toggleable__label sk-toggleable__label-arrow\">categorical</label><div class=\"sk-toggleable__content\"><pre>&lt;sklearn.compose._column_transformer.make_column_selector object at 0x000001B6C9290790&gt;</pre></div></div></div><div class=\"sk-serial\"><div class=\"sk-item\"><div class=\"sk-estimator sk-toggleable\"><input class=\"sk-toggleable__control sk-hidden--visually\" id=\"56d4656d-e67f-4df2-afe2-0c88a8eaf128\" type=\"checkbox\" ><label for=\"56d4656d-e67f-4df2-afe2-0c88a8eaf128\" class=\"sk-toggleable__label sk-toggleable__label-arrow\">OneHotEncoder</label><div class=\"sk-toggleable__content\"><pre>OneHotEncoder(handle_unknown=&#x27;ignore&#x27;)</pre></div></div></div></div></div></div><div class=\"sk-parallel-item\"><div class=\"sk-item\"><div class=\"sk-label-container\"><div class=\"sk-label sk-toggleable\"><input class=\"sk-toggleable__control sk-hidden--visually\" id=\"aba799b5-b47f-4ecc-bf33-7a2e0794c2fc\" type=\"checkbox\" ><label for=\"aba799b5-b47f-4ecc-bf33-7a2e0794c2fc\" class=\"sk-toggleable__label sk-toggleable__label-arrow\">numerical</label><div class=\"sk-toggleable__content\"><pre>[&#x27;distance&#x27;]</pre></div></div></div><div class=\"sk-serial\"><div class=\"sk-item\"><div class=\"sk-estimator sk-toggleable\"><input class=\"sk-toggleable__control sk-hidden--visually\" id=\"624dee35-9ed7-4c06-8c1d-459560781518\" type=\"checkbox\" ><label for=\"624dee35-9ed7-4c06-8c1d-459560781518\" class=\"sk-toggleable__label sk-toggleable__label-arrow\">PowerTransformer</label><div class=\"sk-toggleable__content\"><pre>PowerTransformer()</pre></div></div></div></div></div></div><div class=\"sk-parallel-item\"><div class=\"sk-item\"><div class=\"sk-label-container\"><div class=\"sk-label sk-toggleable\"><input class=\"sk-toggleable__control sk-hidden--visually\" id=\"4a1307f4-a1f4-4765-9c7c-c7398e1d153e\" type=\"checkbox\" ><label for=\"4a1307f4-a1f4-4765-9c7c-c7398e1d153e\" class=\"sk-toggleable__label sk-toggleable__label-arrow\">remainder</label><div class=\"sk-toggleable__content\"><pre></pre></div></div></div><div class=\"sk-serial\"><div class=\"sk-item\"><div class=\"sk-estimator sk-toggleable\"><input class=\"sk-toggleable__control sk-hidden--visually\" id=\"e464576c-1c7f-453a-b2cf-4d4811111b1c\" type=\"checkbox\" ><label for=\"e464576c-1c7f-453a-b2cf-4d4811111b1c\" class=\"sk-toggleable__label sk-toggleable__label-arrow\">passthrough</label><div class=\"sk-toggleable__content\"><pre>passthrough</pre></div></div></div></div></div></div></div></div><div class=\"sk-item\"><div class=\"sk-estimator sk-toggleable\"><input class=\"sk-toggleable__control sk-hidden--visually\" id=\"8097c345-ba69-4cf8-8d25-bc9b7152f7c1\" type=\"checkbox\" ><label for=\"8097c345-ba69-4cf8-8d25-bc9b7152f7c1\" class=\"sk-toggleable__label sk-toggleable__label-arrow\">SimpleImputer</label><div class=\"sk-toggleable__content\"><pre>SimpleImputer()</pre></div></div></div><div class=\"sk-item\"><div class=\"sk-estimator sk-toggleable\"><input class=\"sk-toggleable__control sk-hidden--visually\" id=\"58586745-b381-4cd1-8107-eaebe01227ca\" type=\"checkbox\" ><label for=\"58586745-b381-4cd1-8107-eaebe01227ca\" class=\"sk-toggleable__label sk-toggleable__label-arrow\">VarianceThreshold</label><div class=\"sk-toggleable__content\"><pre>VarianceThreshold()</pre></div></div></div><div class=\"sk-item\"><div class=\"sk-estimator sk-toggleable\"><input class=\"sk-toggleable__control sk-hidden--visually\" id=\"c5de43de-7a08-495a-9f72-3f7ba525fb75\" type=\"checkbox\" ><label for=\"c5de43de-7a08-495a-9f72-3f7ba525fb75\" class=\"sk-toggleable__label sk-toggleable__label-arrow\">Lasso</label><div class=\"sk-toggleable__content\"><pre>Lasso(alpha=0.8)</pre></div></div></div></div></div></div></div>"
      ],
      "text/plain": [
       "Pipeline(steps=[('preprocess',\n",
       "                 ColumnTransformer(remainder='passthrough',\n",
       "                                   transformers=[('date', 'drop',\n",
       "                                                  <sklearn.compose._column_transformer.make_column_selector object at 0x000001B6C92BEF40>),\n",
       "                                                 ('categorical',\n",
       "                                                  OneHotEncoder(handle_unknown='ignore'),\n",
       "                                                  <sklearn.compose._column_transformer.make_column_selector object at 0x000001B6C9290790>),\n",
       "                                                 ('numerical',\n",
       "                                                  PowerTransformer(),\n",
       "                                                  ['distance'])])),\n",
       "                ('imputer', SimpleImputer()), ('variance', VarianceThreshold()),\n",
       "                ('predictor', Lasso(alpha=0.8))])"
      ]
     },
     "execution_count": 151,
     "metadata": {},
     "output_type": "execute_result"
    }
   ],
   "source": [
    "from sklearn.preprocessing import PowerTransformer, QuantileTransformer\n",
    "\n",
    "preproc = ColumnTransformer(\n",
    "    transformers=[\n",
    "        ('date', 'drop', make_column_selector(dtype_include=['datetime64[ns]'])),\n",
    "        ('categorical', OneHotEncoder(handle_unknown='ignore'),\n",
    "         make_column_selector(dtype_include=['category'])),\n",
    "        ('numerical', PowerTransformer(), ['distance'])\n",
    "    ],\n",
    "    remainder='passthrough',\n",
    ")\n",
    "\n",
    "pipe = Pipeline(\n",
    "    steps=[\n",
    "        ('preprocess', preproc),\n",
    "        ('imputer', SimpleImputer()),\n",
    "        ('variance', VarianceThreshold()),\n",
    "        ('predictor', Lasso(alpha=0.8)),\n",
    "    ]\n",
    ")\n",
    "pipe"
   ]
  },
  {
   "cell_type": "code",
   "execution_count": 152,
   "metadata": {},
   "outputs": [
    {
     "data": {
      "text/plain": [
       "('CV Score:', 0.5034034161590429)"
      ]
     },
     "execution_count": 152,
     "metadata": {},
     "output_type": "execute_result"
    }
   ],
   "source": [
    "scores = cross_val_score(pipe, X=X,y=y, cv=5, error_score='raise')\n",
    "'CV Score:', scores.mean()"
   ]
  },
  {
   "cell_type": "markdown",
   "metadata": {},
   "source": [
    "### Discretization"
   ]
  },
  {
   "cell_type": "code",
   "execution_count": 153,
   "metadata": {},
   "outputs": [
    {
     "data": {
      "text/html": [
       "<style>#sk-1a7f24f9-8ed5-4e4c-8d29-aeee34474e15 {color: black;background-color: white;}#sk-1a7f24f9-8ed5-4e4c-8d29-aeee34474e15 pre{padding: 0;}#sk-1a7f24f9-8ed5-4e4c-8d29-aeee34474e15 div.sk-toggleable {background-color: white;}#sk-1a7f24f9-8ed5-4e4c-8d29-aeee34474e15 label.sk-toggleable__label {cursor: pointer;display: block;width: 100%;margin-bottom: 0;padding: 0.3em;box-sizing: border-box;text-align: center;}#sk-1a7f24f9-8ed5-4e4c-8d29-aeee34474e15 label.sk-toggleable__label-arrow:before {content: \"▸\";float: left;margin-right: 0.25em;color: #696969;}#sk-1a7f24f9-8ed5-4e4c-8d29-aeee34474e15 label.sk-toggleable__label-arrow:hover:before {color: black;}#sk-1a7f24f9-8ed5-4e4c-8d29-aeee34474e15 div.sk-estimator:hover label.sk-toggleable__label-arrow:before {color: black;}#sk-1a7f24f9-8ed5-4e4c-8d29-aeee34474e15 div.sk-toggleable__content {max-height: 0;max-width: 0;overflow: hidden;text-align: left;background-color: #f0f8ff;}#sk-1a7f24f9-8ed5-4e4c-8d29-aeee34474e15 div.sk-toggleable__content pre {margin: 0.2em;color: black;border-radius: 0.25em;background-color: #f0f8ff;}#sk-1a7f24f9-8ed5-4e4c-8d29-aeee34474e15 input.sk-toggleable__control:checked~div.sk-toggleable__content {max-height: 200px;max-width: 100%;overflow: auto;}#sk-1a7f24f9-8ed5-4e4c-8d29-aeee34474e15 input.sk-toggleable__control:checked~label.sk-toggleable__label-arrow:before {content: \"▾\";}#sk-1a7f24f9-8ed5-4e4c-8d29-aeee34474e15 div.sk-estimator input.sk-toggleable__control:checked~label.sk-toggleable__label {background-color: #d4ebff;}#sk-1a7f24f9-8ed5-4e4c-8d29-aeee34474e15 div.sk-label input.sk-toggleable__control:checked~label.sk-toggleable__label {background-color: #d4ebff;}#sk-1a7f24f9-8ed5-4e4c-8d29-aeee34474e15 input.sk-hidden--visually {border: 0;clip: rect(1px 1px 1px 1px);clip: rect(1px, 1px, 1px, 1px);height: 1px;margin: -1px;overflow: hidden;padding: 0;position: absolute;width: 1px;}#sk-1a7f24f9-8ed5-4e4c-8d29-aeee34474e15 div.sk-estimator {font-family: monospace;background-color: #f0f8ff;border: 1px dotted black;border-radius: 0.25em;box-sizing: border-box;margin-bottom: 0.5em;}#sk-1a7f24f9-8ed5-4e4c-8d29-aeee34474e15 div.sk-estimator:hover {background-color: #d4ebff;}#sk-1a7f24f9-8ed5-4e4c-8d29-aeee34474e15 div.sk-parallel-item::after {content: \"\";width: 100%;border-bottom: 1px solid gray;flex-grow: 1;}#sk-1a7f24f9-8ed5-4e4c-8d29-aeee34474e15 div.sk-label:hover label.sk-toggleable__label {background-color: #d4ebff;}#sk-1a7f24f9-8ed5-4e4c-8d29-aeee34474e15 div.sk-serial::before {content: \"\";position: absolute;border-left: 1px solid gray;box-sizing: border-box;top: 2em;bottom: 0;left: 50%;}#sk-1a7f24f9-8ed5-4e4c-8d29-aeee34474e15 div.sk-serial {display: flex;flex-direction: column;align-items: center;background-color: white;padding-right: 0.2em;padding-left: 0.2em;}#sk-1a7f24f9-8ed5-4e4c-8d29-aeee34474e15 div.sk-item {z-index: 1;}#sk-1a7f24f9-8ed5-4e4c-8d29-aeee34474e15 div.sk-parallel {display: flex;align-items: stretch;justify-content: center;background-color: white;}#sk-1a7f24f9-8ed5-4e4c-8d29-aeee34474e15 div.sk-parallel::before {content: \"\";position: absolute;border-left: 1px solid gray;box-sizing: border-box;top: 2em;bottom: 0;left: 50%;}#sk-1a7f24f9-8ed5-4e4c-8d29-aeee34474e15 div.sk-parallel-item {display: flex;flex-direction: column;position: relative;background-color: white;}#sk-1a7f24f9-8ed5-4e4c-8d29-aeee34474e15 div.sk-parallel-item:first-child::after {align-self: flex-end;width: 50%;}#sk-1a7f24f9-8ed5-4e4c-8d29-aeee34474e15 div.sk-parallel-item:last-child::after {align-self: flex-start;width: 50%;}#sk-1a7f24f9-8ed5-4e4c-8d29-aeee34474e15 div.sk-parallel-item:only-child::after {width: 0;}#sk-1a7f24f9-8ed5-4e4c-8d29-aeee34474e15 div.sk-dashed-wrapped {border: 1px dashed gray;margin: 0 0.4em 0.5em 0.4em;box-sizing: border-box;padding-bottom: 0.4em;background-color: white;position: relative;}#sk-1a7f24f9-8ed5-4e4c-8d29-aeee34474e15 div.sk-label label {font-family: monospace;font-weight: bold;background-color: white;display: inline-block;line-height: 1.2em;}#sk-1a7f24f9-8ed5-4e4c-8d29-aeee34474e15 div.sk-label-container {position: relative;z-index: 2;text-align: center;}#sk-1a7f24f9-8ed5-4e4c-8d29-aeee34474e15 div.sk-container {/* jupyter's `normalize.less` sets `[hidden] { display: none; }` but bootstrap.min.css set `[hidden] { display: none !important; }` so we also need the `!important` here to be able to override the default hidden behavior on the sphinx rendered scikit-learn.org. See: https://github.com/scikit-learn/scikit-learn/issues/21755 */display: inline-block !important;position: relative;}#sk-1a7f24f9-8ed5-4e4c-8d29-aeee34474e15 div.sk-text-repr-fallback {display: none;}</style><div id=\"sk-1a7f24f9-8ed5-4e4c-8d29-aeee34474e15\" class=\"sk-top-container\"><div class=\"sk-text-repr-fallback\"><pre>Pipeline(steps=[(&#x27;preprocess&#x27;,\n",
       "                 ColumnTransformer(remainder=&#x27;passthrough&#x27;,\n",
       "                                   transformers=[(&#x27;date&#x27;, &#x27;drop&#x27;,\n",
       "                                                  &lt;sklearn.compose._column_transformer.make_column_selector object at 0x000001B6C92F2910&gt;),\n",
       "                                                 (&#x27;categorical&#x27;,\n",
       "                                                  OneHotEncoder(handle_unknown=&#x27;ignore&#x27;),\n",
       "                                                  &lt;sklearn.compose._column_transformer.make_column_selector object at 0x000001B6C92CB790&gt;),\n",
       "                                                 (&#x27;numerical&#x27;,\n",
       "                                                  KBinsDiscretizer(n_bins=10),\n",
       "                                                  [&#x27;distance&#x27;])])),\n",
       "                (&#x27;imputer&#x27;, SimpleImputer()), (&#x27;variance&#x27;, VarianceThreshold()),\n",
       "                (&#x27;predictor&#x27;, Lasso(alpha=0.8))])</pre><b>Please rerun this cell to show the HTML repr or trust the notebook.</b></div><div class=\"sk-container\" hidden><div class=\"sk-item sk-dashed-wrapped\"><div class=\"sk-label-container\"><div class=\"sk-label sk-toggleable\"><input class=\"sk-toggleable__control sk-hidden--visually\" id=\"366d0254-299e-4cb1-82cd-2ee4f2885f88\" type=\"checkbox\" ><label for=\"366d0254-299e-4cb1-82cd-2ee4f2885f88\" class=\"sk-toggleable__label sk-toggleable__label-arrow\">Pipeline</label><div class=\"sk-toggleable__content\"><pre>Pipeline(steps=[(&#x27;preprocess&#x27;,\n",
       "                 ColumnTransformer(remainder=&#x27;passthrough&#x27;,\n",
       "                                   transformers=[(&#x27;date&#x27;, &#x27;drop&#x27;,\n",
       "                                                  &lt;sklearn.compose._column_transformer.make_column_selector object at 0x000001B6C92F2910&gt;),\n",
       "                                                 (&#x27;categorical&#x27;,\n",
       "                                                  OneHotEncoder(handle_unknown=&#x27;ignore&#x27;),\n",
       "                                                  &lt;sklearn.compose._column_transformer.make_column_selector object at 0x000001B6C92CB790&gt;),\n",
       "                                                 (&#x27;numerical&#x27;,\n",
       "                                                  KBinsDiscretizer(n_bins=10),\n",
       "                                                  [&#x27;distance&#x27;])])),\n",
       "                (&#x27;imputer&#x27;, SimpleImputer()), (&#x27;variance&#x27;, VarianceThreshold()),\n",
       "                (&#x27;predictor&#x27;, Lasso(alpha=0.8))])</pre></div></div></div><div class=\"sk-serial\"><div class=\"sk-item sk-dashed-wrapped\"><div class=\"sk-label-container\"><div class=\"sk-label sk-toggleable\"><input class=\"sk-toggleable__control sk-hidden--visually\" id=\"e1eb154d-d108-4eea-a018-b675094bd5d4\" type=\"checkbox\" ><label for=\"e1eb154d-d108-4eea-a018-b675094bd5d4\" class=\"sk-toggleable__label sk-toggleable__label-arrow\">preprocess: ColumnTransformer</label><div class=\"sk-toggleable__content\"><pre>ColumnTransformer(remainder=&#x27;passthrough&#x27;,\n",
       "                  transformers=[(&#x27;date&#x27;, &#x27;drop&#x27;,\n",
       "                                 &lt;sklearn.compose._column_transformer.make_column_selector object at 0x000001B6C92F2910&gt;),\n",
       "                                (&#x27;categorical&#x27;,\n",
       "                                 OneHotEncoder(handle_unknown=&#x27;ignore&#x27;),\n",
       "                                 &lt;sklearn.compose._column_transformer.make_column_selector object at 0x000001B6C92CB790&gt;),\n",
       "                                (&#x27;numerical&#x27;, KBinsDiscretizer(n_bins=10),\n",
       "                                 [&#x27;distance&#x27;])])</pre></div></div></div><div class=\"sk-parallel\"><div class=\"sk-parallel-item\"><div class=\"sk-item\"><div class=\"sk-label-container\"><div class=\"sk-label sk-toggleable\"><input class=\"sk-toggleable__control sk-hidden--visually\" id=\"ff230642-d120-4292-9223-09506a8582a6\" type=\"checkbox\" ><label for=\"ff230642-d120-4292-9223-09506a8582a6\" class=\"sk-toggleable__label sk-toggleable__label-arrow\">date</label><div class=\"sk-toggleable__content\"><pre>&lt;sklearn.compose._column_transformer.make_column_selector object at 0x000001B6C92F2910&gt;</pre></div></div></div><div class=\"sk-serial\"><div class=\"sk-item\"><div class=\"sk-estimator sk-toggleable\"><input class=\"sk-toggleable__control sk-hidden--visually\" id=\"466682ea-e516-4d8a-ba42-0fc8a0546835\" type=\"checkbox\" ><label for=\"466682ea-e516-4d8a-ba42-0fc8a0546835\" class=\"sk-toggleable__label sk-toggleable__label-arrow\">drop</label><div class=\"sk-toggleable__content\"><pre>drop</pre></div></div></div></div></div></div><div class=\"sk-parallel-item\"><div class=\"sk-item\"><div class=\"sk-label-container\"><div class=\"sk-label sk-toggleable\"><input class=\"sk-toggleable__control sk-hidden--visually\" id=\"1b92f7bd-0ccf-4936-b7d4-954601299bee\" type=\"checkbox\" ><label for=\"1b92f7bd-0ccf-4936-b7d4-954601299bee\" class=\"sk-toggleable__label sk-toggleable__label-arrow\">categorical</label><div class=\"sk-toggleable__content\"><pre>&lt;sklearn.compose._column_transformer.make_column_selector object at 0x000001B6C92CB790&gt;</pre></div></div></div><div class=\"sk-serial\"><div class=\"sk-item\"><div class=\"sk-estimator sk-toggleable\"><input class=\"sk-toggleable__control sk-hidden--visually\" id=\"7f30fc42-d02a-4100-8475-016266c1468e\" type=\"checkbox\" ><label for=\"7f30fc42-d02a-4100-8475-016266c1468e\" class=\"sk-toggleable__label sk-toggleable__label-arrow\">OneHotEncoder</label><div class=\"sk-toggleable__content\"><pre>OneHotEncoder(handle_unknown=&#x27;ignore&#x27;)</pre></div></div></div></div></div></div><div class=\"sk-parallel-item\"><div class=\"sk-item\"><div class=\"sk-label-container\"><div class=\"sk-label sk-toggleable\"><input class=\"sk-toggleable__control sk-hidden--visually\" id=\"33e92b42-41dd-4b31-b9cf-b0b5a8ec4655\" type=\"checkbox\" ><label for=\"33e92b42-41dd-4b31-b9cf-b0b5a8ec4655\" class=\"sk-toggleable__label sk-toggleable__label-arrow\">numerical</label><div class=\"sk-toggleable__content\"><pre>[&#x27;distance&#x27;]</pre></div></div></div><div class=\"sk-serial\"><div class=\"sk-item\"><div class=\"sk-estimator sk-toggleable\"><input class=\"sk-toggleable__control sk-hidden--visually\" id=\"d97e95df-a7b3-43c4-b7ef-169350452e3d\" type=\"checkbox\" ><label for=\"d97e95df-a7b3-43c4-b7ef-169350452e3d\" class=\"sk-toggleable__label sk-toggleable__label-arrow\">KBinsDiscretizer</label><div class=\"sk-toggleable__content\"><pre>KBinsDiscretizer(n_bins=10)</pre></div></div></div></div></div></div><div class=\"sk-parallel-item\"><div class=\"sk-item\"><div class=\"sk-label-container\"><div class=\"sk-label sk-toggleable\"><input class=\"sk-toggleable__control sk-hidden--visually\" id=\"910ff35e-4686-4211-91bd-20ad5382611e\" type=\"checkbox\" ><label for=\"910ff35e-4686-4211-91bd-20ad5382611e\" class=\"sk-toggleable__label sk-toggleable__label-arrow\">remainder</label><div class=\"sk-toggleable__content\"><pre></pre></div></div></div><div class=\"sk-serial\"><div class=\"sk-item\"><div class=\"sk-estimator sk-toggleable\"><input class=\"sk-toggleable__control sk-hidden--visually\" id=\"f75813b3-ef70-4064-bcda-a154f82c2bdb\" type=\"checkbox\" ><label for=\"f75813b3-ef70-4064-bcda-a154f82c2bdb\" class=\"sk-toggleable__label sk-toggleable__label-arrow\">passthrough</label><div class=\"sk-toggleable__content\"><pre>passthrough</pre></div></div></div></div></div></div></div></div><div class=\"sk-item\"><div class=\"sk-estimator sk-toggleable\"><input class=\"sk-toggleable__control sk-hidden--visually\" id=\"cc0b4e4d-b730-40de-831e-6316b67cd3d6\" type=\"checkbox\" ><label for=\"cc0b4e4d-b730-40de-831e-6316b67cd3d6\" class=\"sk-toggleable__label sk-toggleable__label-arrow\">SimpleImputer</label><div class=\"sk-toggleable__content\"><pre>SimpleImputer()</pre></div></div></div><div class=\"sk-item\"><div class=\"sk-estimator sk-toggleable\"><input class=\"sk-toggleable__control sk-hidden--visually\" id=\"30fe2cc8-f7fe-4f23-8871-16585b11220c\" type=\"checkbox\" ><label for=\"30fe2cc8-f7fe-4f23-8871-16585b11220c\" class=\"sk-toggleable__label sk-toggleable__label-arrow\">VarianceThreshold</label><div class=\"sk-toggleable__content\"><pre>VarianceThreshold()</pre></div></div></div><div class=\"sk-item\"><div class=\"sk-estimator sk-toggleable\"><input class=\"sk-toggleable__control sk-hidden--visually\" id=\"91ae52ba-9325-4f69-8ea3-fc61a1e38952\" type=\"checkbox\" ><label for=\"91ae52ba-9325-4f69-8ea3-fc61a1e38952\" class=\"sk-toggleable__label sk-toggleable__label-arrow\">Lasso</label><div class=\"sk-toggleable__content\"><pre>Lasso(alpha=0.8)</pre></div></div></div></div></div></div></div>"
      ],
      "text/plain": [
       "Pipeline(steps=[('preprocess',\n",
       "                 ColumnTransformer(remainder='passthrough',\n",
       "                                   transformers=[('date', 'drop',\n",
       "                                                  <sklearn.compose._column_transformer.make_column_selector object at 0x000001B6C92F2910>),\n",
       "                                                 ('categorical',\n",
       "                                                  OneHotEncoder(handle_unknown='ignore'),\n",
       "                                                  <sklearn.compose._column_transformer.make_column_selector object at 0x000001B6C92CB790>),\n",
       "                                                 ('numerical',\n",
       "                                                  KBinsDiscretizer(n_bins=10),\n",
       "                                                  ['distance'])])),\n",
       "                ('imputer', SimpleImputer()), ('variance', VarianceThreshold()),\n",
       "                ('predictor', Lasso(alpha=0.8))])"
      ]
     },
     "execution_count": 153,
     "metadata": {},
     "output_type": "execute_result"
    }
   ],
   "source": [
    "from sklearn.preprocessing import KBinsDiscretizer\n",
    "\n",
    "preproc = ColumnTransformer(\n",
    "    transformers=[\n",
    "        ('date', 'drop', make_column_selector(dtype_include=['datetime64[ns]'])),\n",
    "        ('categorical', OneHotEncoder(handle_unknown='ignore'),\n",
    "         make_column_selector(dtype_include=['category'])),\n",
    "        ('numerical', KBinsDiscretizer(n_bins=10), ['distance'])\n",
    "    ],\n",
    "    remainder='passthrough',\n",
    ")\n",
    "\n",
    "pipe = Pipeline(\n",
    "    steps=[\n",
    "        ('preprocess', preproc),\n",
    "        ('imputer', SimpleImputer()),\n",
    "        ('variance', VarianceThreshold()),\n",
    "        ('predictor', Lasso(alpha=0.8)),\n",
    "    ]\n",
    ")\n",
    "pipe"
   ]
  },
  {
   "cell_type": "code",
   "execution_count": 154,
   "metadata": {},
   "outputs": [
    {
     "data": {
      "text/plain": [
       "('CV Score:', 0.5699675671995863)"
      ]
     },
     "execution_count": 154,
     "metadata": {},
     "output_type": "execute_result"
    }
   ],
   "source": [
    "scores = cross_val_score(pipe, X=X,y=y, cv=5, error_score='raise')\n",
    "'CV Score:', scores.mean()"
   ]
  },
  {
   "cell_type": "markdown",
   "metadata": {},
   "source": [
    "### Polynomial features"
   ]
  },
  {
   "cell_type": "code",
   "execution_count": 155,
   "metadata": {},
   "outputs": [
    {
     "name": "stdout",
     "output_type": "stream",
     "text": [
      "Mean Absolute Error:     0.098 +/- 0.012\n",
      "Root Mean Squared Error: 0.132 +/- 0.013\n"
     ]
    }
   ],
   "source": [
    "from sklearn.preprocessing import SplineTransformer\n",
    "from sklearn.preprocessing import OneHotEncoder\n",
    "from sklearn.preprocessing import MinMaxScaler\n",
    "from sklearn.linear_model import RidgeCV\n",
    "from sklearn.datasets import fetch_openml\n",
    "from sklearn.pipeline import make_pipeline\n",
    "from sklearn.preprocessing import OrdinalEncoder\n",
    "from sklearn.compose import ColumnTransformer\n",
    "from sklearn.ensemble import HistGradientBoostingRegressor\n",
    "from sklearn.model_selection import cross_validate\n",
    "\n",
    "\n",
    "bike_sharing = fetch_openml(\"Bike_Sharing_Demand\", version=2, as_frame=True)\n",
    "df = bike_sharing.frame\n",
    "\n",
    "y = df[\"count\"] / df[\"count\"].max()\n",
    "X = df.drop(\"count\", axis=\"columns\")\n",
    "categorical_columns = [\n",
    "    \"weather\",\n",
    "    \"season\",\n",
    "    \"holiday\",\n",
    "    \"workingday\",\n",
    "]\n",
    "categories = [\n",
    "    [\"clear\", \"misty\", \"rain\"],\n",
    "    [\"spring\", \"summer\", \"fall\", \"winter\"],\n",
    "    [\"False\", \"True\"],\n",
    "    [\"False\", \"True\"],\n",
    "]\n",
    "ordinal_encoder = OrdinalEncoder(categories=categories)\n",
    "one_hot_encoder = OneHotEncoder(handle_unknown=\"ignore\", sparse=False)\n",
    "alphas = np.logspace(-6, 6, 25)\n",
    "\n",
    "def evaluate(model, X, y, cv):\n",
    "    cv_results = cross_validate(\n",
    "        model,\n",
    "        X,\n",
    "        y,\n",
    "        cv=cv,\n",
    "        scoring=[\"neg_mean_absolute_error\", \"neg_root_mean_squared_error\"],\n",
    "    )\n",
    "    mae = -cv_results[\"test_neg_mean_absolute_error\"]\n",
    "    rmse = -cv_results[\"test_neg_root_mean_squared_error\"]\n",
    "    print(\n",
    "        f\"Mean Absolute Error:     {mae.mean():.3f} +/- {mae.std():.3f}\\n\"\n",
    "        f\"Root Mean Squared Error: {rmse.mean():.3f} +/- {rmse.std():.3f}\"\n",
    "    )\n",
    "\n",
    "from sklearn.model_selection import TimeSeriesSplit\n",
    "\n",
    "ts_cv = TimeSeriesSplit(\n",
    "    n_splits=5,\n",
    "    gap=48,\n",
    "    max_train_size=10000,\n",
    "    test_size=1000,\n",
    ")\n",
    "\n",
    "def periodic_spline_transformer(period, n_splines=None, degree=3):\n",
    "    if n_splines is None:\n",
    "        n_splines = period\n",
    "    n_knots = n_splines + 1  # periodic and include_bias is True\n",
    "    return SplineTransformer(\n",
    "        degree=degree,\n",
    "        n_knots=n_knots,\n",
    "        knots=np.linspace(0, period, n_knots).reshape(n_knots, 1),\n",
    "        extrapolation=\"periodic\",\n",
    "        include_bias=True,\n",
    "    )\n",
    "\n",
    "cyclic_spline_transformer = ColumnTransformer(\n",
    "    transformers=[\n",
    "        (\"categorical\", one_hot_encoder, categorical_columns),\n",
    "        (\"cyclic_month\", periodic_spline_transformer(12, n_splines=6), [\"month\"]),\n",
    "        (\"cyclic_weekday\", periodic_spline_transformer(7, n_splines=3), [\"weekday\"]),\n",
    "        (\"cyclic_hour\", periodic_spline_transformer(24, n_splines=12), [\"hour\"]),\n",
    "    ],\n",
    "    remainder=MinMaxScaler(),\n",
    ")\n",
    "cyclic_spline_linear_pipeline = make_pipeline(\n",
    "    cyclic_spline_transformer,\n",
    "    RidgeCV(alphas=alphas),\n",
    ")\n",
    "evaluate(cyclic_spline_linear_pipeline, X, y, cv=ts_cv)"
   ]
  },
  {
   "cell_type": "markdown",
   "metadata": {},
   "source": [
    "## References\n",
    "* [6.3. Preprocessing data](https://scikit-learn.org/stable/modules/preprocessing.html)\n",
    "* [6.4. Imputation of missing values](https://scikit-learn.org/stable/modules/impute.html)\n",
    "* Gelman, Andrew, and Jennifer Hill. Data Analysis Using Regression and Multilevel/hierarchical Models. Cambridge: Cambridge University Press, 2007"
   ]
  }
 ],
 "metadata": {
  "interpreter": {
   "hash": "c0226d672f078eba2cb02d01563c88d57aa380901d7daead640aa67f1c7aa4aa"
  },
  "kernelspec": {
   "display_name": "Python 3.8.8 ('base')",
   "language": "python",
   "name": "python3"
  },
  "language_info": {
   "codemirror_mode": {
    "name": "ipython",
    "version": 3
   },
   "file_extension": ".py",
   "mimetype": "text/x-python",
   "name": "python",
   "nbconvert_exporter": "python",
   "pygments_lexer": "ipython3",
   "version": "3.8.8"
  },
  "orig_nbformat": 4
 },
 "nbformat": 4,
 "nbformat_minor": 2
}
